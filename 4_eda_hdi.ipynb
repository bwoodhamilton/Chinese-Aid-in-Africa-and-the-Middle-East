{
 "cells": [
  {
   "cell_type": "markdown",
   "metadata": {},
   "source": [
    "# EDA and Cleaning HDI Data"
   ]
  },
  {
   "cell_type": "code",
   "execution_count": 27,
   "metadata": {},
   "outputs": [],
   "source": [
    "# Import libraries \n",
    "import numpy as np\n",
    "import pandas as pd\n",
    "import matplotlib.pyplot as plt\n",
    "import seaborn as sns"
   ]
  },
  {
   "cell_type": "code",
   "execution_count": 28,
   "metadata": {},
   "outputs": [],
   "source": [
    "# Reading in HDI data \n",
    "hdi = pd.read_csv('./aid_data/human_development/human_development_index.csv', encoding='latin-1')"
   ]
  },
  {
   "cell_type": "markdown",
   "metadata": {},
   "source": [
    "According to the United Nations Development Programme: \"The HDI was created to emphasize that people and their capabilities should be the ultimate criteria for assessing the development of a country, not economic growth alone. The HDI can also be used to question national policy choices, asking how two countries with the same level of GNI per capita can end up with different human development outcomes. These contrasts can stimulate debate about government policy priorities. The Human Development Index (HDI) is a summary measure of average achievement in key dimensions of human development: a long and healthy life, being knowledgeable and have a decent standard of living. The HDI is the geometric mean of normalized indices for each of the three dimensions.\" (http://hdr.undp.org/en/content/human-development-index-hdi)"
   ]
  },
  {
   "cell_type": "code",
   "execution_count": 29,
   "metadata": {},
   "outputs": [
    {
     "data": {
      "text/html": [
       "<div>\n",
       "<style scoped>\n",
       "    .dataframe tbody tr th:only-of-type {\n",
       "        vertical-align: middle;\n",
       "    }\n",
       "\n",
       "    .dataframe tbody tr th {\n",
       "        vertical-align: top;\n",
       "    }\n",
       "\n",
       "    .dataframe thead th {\n",
       "        text-align: right;\n",
       "    }\n",
       "</style>\n",
       "<table border=\"1\" class=\"dataframe\">\n",
       "  <thead>\n",
       "    <tr style=\"text-align: right;\">\n",
       "      <th></th>\n",
       "      <th>Country</th>\n",
       "      <th>2000</th>\n",
       "      <th>2001</th>\n",
       "      <th>2002</th>\n",
       "      <th>2003</th>\n",
       "      <th>2004</th>\n",
       "      <th>2005</th>\n",
       "      <th>2006</th>\n",
       "      <th>2007</th>\n",
       "      <th>2008</th>\n",
       "      <th>2009</th>\n",
       "      <th>2010</th>\n",
       "      <th>2011</th>\n",
       "      <th>2012</th>\n",
       "      <th>2013</th>\n",
       "      <th>2014</th>\n",
       "    </tr>\n",
       "  </thead>\n",
       "  <tbody>\n",
       "    <tr>\n",
       "      <th>0</th>\n",
       "      <td>Algeria</td>\n",
       "      <td>0.646</td>\n",
       "      <td>0.655</td>\n",
       "      <td>0.666</td>\n",
       "      <td>0.676</td>\n",
       "      <td>0.685</td>\n",
       "      <td>0.694</td>\n",
       "      <td>0.699</td>\n",
       "      <td>0.708</td>\n",
       "      <td>0.711</td>\n",
       "      <td>0.72</td>\n",
       "      <td>0.73</td>\n",
       "      <td>0.738</td>\n",
       "      <td>0.737</td>\n",
       "      <td>0.746</td>\n",
       "      <td>0.749</td>\n",
       "    </tr>\n",
       "    <tr>\n",
       "      <th>1</th>\n",
       "      <td>Angola</td>\n",
       "      <td>0.394</td>\n",
       "      <td>0.404</td>\n",
       "      <td>0.419</td>\n",
       "      <td>0.428</td>\n",
       "      <td>0.44</td>\n",
       "      <td>0.453</td>\n",
       "      <td>0.466</td>\n",
       "      <td>0.482</td>\n",
       "      <td>0.494</td>\n",
       "      <td>0.508</td>\n",
       "      <td>0.51</td>\n",
       "      <td>0.525</td>\n",
       "      <td>0.537</td>\n",
       "      <td>0.547</td>\n",
       "      <td>0.557</td>\n",
       "    </tr>\n",
       "    <tr>\n",
       "      <th>2</th>\n",
       "      <td>Bahrain</td>\n",
       "      <td>0.792</td>\n",
       "      <td>0.792</td>\n",
       "      <td>0.792</td>\n",
       "      <td>0.793</td>\n",
       "      <td>0.792</td>\n",
       "      <td>0.792</td>\n",
       "      <td>0.793</td>\n",
       "      <td>0.796</td>\n",
       "      <td>0.796</td>\n",
       "      <td>0.794</td>\n",
       "      <td>0.796</td>\n",
       "      <td>0.798</td>\n",
       "      <td>0.8</td>\n",
       "      <td>0.807</td>\n",
       "      <td>0.81</td>\n",
       "    </tr>\n",
       "    <tr>\n",
       "      <th>3</th>\n",
       "      <td>Benin</td>\n",
       "      <td>0.398</td>\n",
       "      <td>0.41</td>\n",
       "      <td>0.419</td>\n",
       "      <td>0.426</td>\n",
       "      <td>0.434</td>\n",
       "      <td>0.44</td>\n",
       "      <td>0.447</td>\n",
       "      <td>0.455</td>\n",
       "      <td>0.462</td>\n",
       "      <td>0.468</td>\n",
       "      <td>0.473</td>\n",
       "      <td>0.479</td>\n",
       "      <td>0.489</td>\n",
       "      <td>0.5</td>\n",
       "      <td>0.505</td>\n",
       "    </tr>\n",
       "    <tr>\n",
       "      <th>4</th>\n",
       "      <td>Botswana</td>\n",
       "      <td>0.578</td>\n",
       "      <td>0.58</td>\n",
       "      <td>0.576</td>\n",
       "      <td>0.583</td>\n",
       "      <td>0.589</td>\n",
       "      <td>0.598</td>\n",
       "      <td>0.612</td>\n",
       "      <td>0.625</td>\n",
       "      <td>0.638</td>\n",
       "      <td>0.647</td>\n",
       "      <td>0.66</td>\n",
       "      <td>0.676</td>\n",
       "      <td>0.687</td>\n",
       "      <td>0.699</td>\n",
       "      <td>0.709</td>\n",
       "    </tr>\n",
       "  </tbody>\n",
       "</table>\n",
       "</div>"
      ],
      "text/plain": [
       "    Country   2000   2001   2002   2003   2004   2005   2006   2007   2008  \\\n",
       "0   Algeria  0.646  0.655  0.666  0.676  0.685  0.694  0.699  0.708  0.711   \n",
       "1    Angola  0.394  0.404  0.419  0.428   0.44  0.453  0.466  0.482  0.494   \n",
       "2   Bahrain  0.792  0.792  0.792  0.793  0.792  0.792  0.793  0.796  0.796   \n",
       "3     Benin  0.398   0.41  0.419  0.426  0.434   0.44  0.447  0.455  0.462   \n",
       "4  Botswana  0.578   0.58  0.576  0.583  0.589  0.598  0.612  0.625  0.638   \n",
       "\n",
       "    2009   2010   2011   2012   2013   2014  \n",
       "0   0.72   0.73  0.738  0.737  0.746  0.749  \n",
       "1  0.508   0.51  0.525  0.537  0.547  0.557  \n",
       "2  0.794  0.796  0.798    0.8  0.807   0.81  \n",
       "3  0.468  0.473  0.479  0.489    0.5  0.505  \n",
       "4  0.647   0.66  0.676  0.687  0.699  0.709  "
      ]
     },
     "execution_count": 29,
     "metadata": {},
     "output_type": "execute_result"
    }
   ],
   "source": [
    "# Looking at my data frame \n",
    "hdi.head()"
   ]
  },
  {
   "cell_type": "code",
   "execution_count": 30,
   "metadata": {},
   "outputs": [
    {
     "name": "stdout",
     "output_type": "stream",
     "text": [
      "<class 'pandas.core.frame.DataFrame'>\n",
      "RangeIndex: 80 entries, 0 to 79\n",
      "Data columns (total 16 columns):\n",
      "Country    80 non-null object\n",
      "2000       80 non-null object\n",
      "2001       80 non-null object\n",
      "2002       80 non-null object\n",
      "2003       80 non-null object\n",
      "2004       80 non-null object\n",
      "2005       80 non-null object\n",
      "2006       80 non-null object\n",
      "2007       80 non-null object\n",
      "2008       80 non-null object\n",
      "2009       80 non-null object\n",
      "2010       80 non-null object\n",
      "2011       80 non-null object\n",
      "2012       80 non-null object\n",
      "2013       80 non-null object\n",
      "2014       80 non-null object\n",
      "dtypes: object(16)\n",
      "memory usage: 10.1+ KB\n"
     ]
    }
   ],
   "source": [
    "# Looking at null values and data types \n",
    "hdi.info()"
   ]
  },
  {
   "cell_type": "code",
   "execution_count": 31,
   "metadata": {},
   "outputs": [],
   "source": [
    "# Changing all those values to numeric data types \n",
    "hdi[['2000', '2001', '2002', '2003', '2004', '2005', '2006', '2007', '2008', '2009', '2010', '2011', '2012', '2013', '2014']] = hdi[['2000', '2001', '2002', '2003', '2004', '2005', '2006', '2007', '2008', '2009', '2010', '2011', '2012', '2013', '2014']].apply(pd.to_numeric, errors='coerce')"
   ]
  },
  {
   "cell_type": "code",
   "execution_count": 32,
   "metadata": {},
   "outputs": [
    {
     "name": "stdout",
     "output_type": "stream",
     "text": [
      "<class 'pandas.core.frame.DataFrame'>\n",
      "RangeIndex: 80 entries, 0 to 79\n",
      "Data columns (total 16 columns):\n",
      "Country    80 non-null object\n",
      "2000       72 non-null float64\n",
      "2001       72 non-null float64\n",
      "2002       72 non-null float64\n",
      "2003       73 non-null float64\n",
      "2004       74 non-null float64\n",
      "2005       77 non-null float64\n",
      "2006       77 non-null float64\n",
      "2007       77 non-null float64\n",
      "2008       77 non-null float64\n",
      "2009       77 non-null float64\n",
      "2010       78 non-null float64\n",
      "2011       78 non-null float64\n",
      "2012       78 non-null float64\n",
      "2013       78 non-null float64\n",
      "2014       78 non-null float64\n",
      "dtypes: float64(15), object(1)\n",
      "memory usage: 10.1+ KB\n"
     ]
    }
   ],
   "source": [
    "# Looking at my new null values and data types \n",
    "hdi.info()"
   ]
  },
  {
   "cell_type": "code",
   "execution_count": 33,
   "metadata": {},
   "outputs": [],
   "source": [
    "# Setting country as the index \n",
    "hdi = hdi.set_index('Country')"
   ]
  },
  {
   "cell_type": "code",
   "execution_count": 34,
   "metadata": {},
   "outputs": [],
   "source": [
    "# Stacking the data frame \n",
    "hdi = hdi.stack(dropna=False)"
   ]
  },
  {
   "cell_type": "code",
   "execution_count": 35,
   "metadata": {},
   "outputs": [
    {
     "data": {
      "text/plain": [
       "Country      \n",
       "Algeria  2000    0.646\n",
       "         2001    0.655\n",
       "         2002    0.666\n",
       "         2003    0.676\n",
       "         2004    0.685\n",
       "         2005    0.694\n",
       "         2006    0.699\n",
       "         2007    0.708\n",
       "         2008    0.711\n",
       "         2009    0.720\n",
       "         2010    0.730\n",
       "         2011    0.738\n",
       "         2012    0.737\n",
       "         2013    0.746\n",
       "         2014    0.749\n",
       "Angola   2000    0.394\n",
       "         2001    0.404\n",
       "         2002    0.419\n",
       "         2003    0.428\n",
       "         2004    0.440\n",
       "dtype: float64"
      ]
     },
     "execution_count": 35,
     "metadata": {},
     "output_type": "execute_result"
    }
   ],
   "source": [
    "# Looking at my new data frame \n",
    "hdi.head(20)"
   ]
  },
  {
   "cell_type": "code",
   "execution_count": 36,
   "metadata": {},
   "outputs": [],
   "source": [
    "# Saving my HDI to a data frame \n",
    "hdi = hdi.to_frame()"
   ]
  },
  {
   "cell_type": "code",
   "execution_count": 37,
   "metadata": {},
   "outputs": [
    {
     "data": {
      "text/html": [
       "<div>\n",
       "<style scoped>\n",
       "    .dataframe tbody tr th:only-of-type {\n",
       "        vertical-align: middle;\n",
       "    }\n",
       "\n",
       "    .dataframe tbody tr th {\n",
       "        vertical-align: top;\n",
       "    }\n",
       "\n",
       "    .dataframe thead th {\n",
       "        text-align: right;\n",
       "    }\n",
       "</style>\n",
       "<table border=\"1\" class=\"dataframe\">\n",
       "  <thead>\n",
       "    <tr style=\"text-align: right;\">\n",
       "      <th></th>\n",
       "      <th></th>\n",
       "      <th>0</th>\n",
       "    </tr>\n",
       "    <tr>\n",
       "      <th>Country</th>\n",
       "      <th></th>\n",
       "      <th></th>\n",
       "    </tr>\n",
       "  </thead>\n",
       "  <tbody>\n",
       "    <tr>\n",
       "      <th rowspan=\"5\" valign=\"top\">Algeria</th>\n",
       "      <th>2000</th>\n",
       "      <td>0.646</td>\n",
       "    </tr>\n",
       "    <tr>\n",
       "      <th>2001</th>\n",
       "      <td>0.655</td>\n",
       "    </tr>\n",
       "    <tr>\n",
       "      <th>2002</th>\n",
       "      <td>0.666</td>\n",
       "    </tr>\n",
       "    <tr>\n",
       "      <th>2003</th>\n",
       "      <td>0.676</td>\n",
       "    </tr>\n",
       "    <tr>\n",
       "      <th>2004</th>\n",
       "      <td>0.685</td>\n",
       "    </tr>\n",
       "  </tbody>\n",
       "</table>\n",
       "</div>"
      ],
      "text/plain": [
       "                  0\n",
       "Country            \n",
       "Algeria 2000  0.646\n",
       "        2001  0.655\n",
       "        2002  0.666\n",
       "        2003  0.676\n",
       "        2004  0.685"
      ]
     },
     "execution_count": 37,
     "metadata": {},
     "output_type": "execute_result"
    }
   ],
   "source": [
    "# Looking at my data frame \n",
    "hdi.head()"
   ]
  },
  {
   "cell_type": "code",
   "execution_count": 38,
   "metadata": {},
   "outputs": [],
   "source": [
    "# Renaming my blank column to year \n",
    "hdi.rename(columns = {list(hdi)[0]: 'year'}, inplace = True)"
   ]
  },
  {
   "cell_type": "code",
   "execution_count": 39,
   "metadata": {},
   "outputs": [],
   "source": [
    "# Saving the dataframe to a csv\n",
    "hdi.to_csv('./aid_data/human_development/hdi.csv', index=True)"
   ]
  },
  {
   "cell_type": "code",
   "execution_count": 40,
   "metadata": {},
   "outputs": [],
   "source": [
    "# Reading the new csv \n",
    "hdi = pd.read_csv('./aid_data/human_development/hdi.csv', encoding='latin-1')"
   ]
  },
  {
   "cell_type": "code",
   "execution_count": 41,
   "metadata": {},
   "outputs": [
    {
     "data": {
      "text/html": [
       "<div>\n",
       "<style scoped>\n",
       "    .dataframe tbody tr th:only-of-type {\n",
       "        vertical-align: middle;\n",
       "    }\n",
       "\n",
       "    .dataframe tbody tr th {\n",
       "        vertical-align: top;\n",
       "    }\n",
       "\n",
       "    .dataframe thead th {\n",
       "        text-align: right;\n",
       "    }\n",
       "</style>\n",
       "<table border=\"1\" class=\"dataframe\">\n",
       "  <thead>\n",
       "    <tr style=\"text-align: right;\">\n",
       "      <th></th>\n",
       "      <th>Country</th>\n",
       "      <th>Unnamed: 1</th>\n",
       "      <th>year</th>\n",
       "    </tr>\n",
       "  </thead>\n",
       "  <tbody>\n",
       "    <tr>\n",
       "      <th>0</th>\n",
       "      <td>Algeria</td>\n",
       "      <td>2000</td>\n",
       "      <td>0.646</td>\n",
       "    </tr>\n",
       "    <tr>\n",
       "      <th>1</th>\n",
       "      <td>Algeria</td>\n",
       "      <td>2001</td>\n",
       "      <td>0.655</td>\n",
       "    </tr>\n",
       "    <tr>\n",
       "      <th>2</th>\n",
       "      <td>Algeria</td>\n",
       "      <td>2002</td>\n",
       "      <td>0.666</td>\n",
       "    </tr>\n",
       "    <tr>\n",
       "      <th>3</th>\n",
       "      <td>Algeria</td>\n",
       "      <td>2003</td>\n",
       "      <td>0.676</td>\n",
       "    </tr>\n",
       "    <tr>\n",
       "      <th>4</th>\n",
       "      <td>Algeria</td>\n",
       "      <td>2004</td>\n",
       "      <td>0.685</td>\n",
       "    </tr>\n",
       "  </tbody>\n",
       "</table>\n",
       "</div>"
      ],
      "text/plain": [
       "   Country  Unnamed: 1   year\n",
       "0  Algeria        2000  0.646\n",
       "1  Algeria        2001  0.655\n",
       "2  Algeria        2002  0.666\n",
       "3  Algeria        2003  0.676\n",
       "4  Algeria        2004  0.685"
      ]
     },
     "execution_count": 41,
     "metadata": {},
     "output_type": "execute_result"
    }
   ],
   "source": [
    "# Checking out the head of my data frame \n",
    "hdi.head()"
   ]
  },
  {
   "cell_type": "code",
   "execution_count": 42,
   "metadata": {},
   "outputs": [],
   "source": [
    "# Renaming my columns \n",
    "hdi.rename(columns={'Unnamed: 1': 'year', 'year': 'hdi', 'Country': 'country'}, inplace=True)"
   ]
  },
  {
   "cell_type": "code",
   "execution_count": 43,
   "metadata": {},
   "outputs": [
    {
     "name": "stdout",
     "output_type": "stream",
     "text": [
      "<class 'pandas.core.frame.DataFrame'>\n",
      "RangeIndex: 1200 entries, 0 to 1199\n",
      "Data columns (total 3 columns):\n",
      "country    1200 non-null object\n",
      "year       1200 non-null int64\n",
      "hdi        1138 non-null float64\n",
      "dtypes: float64(1), int64(1), object(1)\n",
      "memory usage: 28.2+ KB\n"
     ]
    }
   ],
   "source": [
    "# Checking out null values and data types \n",
    "hdi.info()"
   ]
  },
  {
   "cell_type": "code",
   "execution_count": 44,
   "metadata": {},
   "outputs": [
    {
     "data": {
      "text/plain": [
       "year    2007.00000\n",
       "hdi        0.55108\n",
       "dtype: float64"
      ]
     },
     "execution_count": 44,
     "metadata": {},
     "output_type": "execute_result"
    }
   ],
   "source": [
    "# Looking at the mean values \n",
    "hdi.mean()"
   ]
  },
  {
   "cell_type": "code",
   "execution_count": 45,
   "metadata": {},
   "outputs": [
    {
     "data": {
      "text/plain": [
       "year\n",
       "2000    0.507431\n",
       "2001    0.512597\n",
       "2002    0.517708\n",
       "2003    0.521890\n",
       "2004    0.530500\n",
       "2005    0.536338\n",
       "2006    0.544234\n",
       "2007    0.551636\n",
       "2008    0.558948\n",
       "2009    0.565390\n",
       "2010    0.569372\n",
       "2011    0.576308\n",
       "2012    0.582705\n",
       "2013    0.587179\n",
       "2014    0.592167\n",
       "Name: hdi, dtype: float64"
      ]
     },
     "execution_count": 45,
     "metadata": {},
     "output_type": "execute_result"
    }
   ],
   "source": [
    "# Looking at the mean by year \n",
    "hdi.groupby('year')['hdi'].mean()"
   ]
  },
  {
   "cell_type": "code",
   "execution_count": 46,
   "metadata": {},
   "outputs": [],
   "source": [
    "# Filling in null values with the mean for that year \n",
    "hdi['hdi'] = hdi.groupby('year')['hdi'].transform(lambda x: x.fillna(x.mean()))"
   ]
  },
  {
   "cell_type": "code",
   "execution_count": 47,
   "metadata": {},
   "outputs": [
    {
     "name": "stdout",
     "output_type": "stream",
     "text": [
      "<class 'pandas.core.frame.DataFrame'>\n",
      "RangeIndex: 1200 entries, 0 to 1199\n",
      "Data columns (total 3 columns):\n",
      "country    1200 non-null object\n",
      "year       1200 non-null int64\n",
      "hdi        1200 non-null float64\n",
      "dtypes: float64(1), int64(1), object(1)\n",
      "memory usage: 28.2+ KB\n"
     ]
    }
   ],
   "source": [
    "# Checking to see that my null values are filled in \n",
    "hdi.info()"
   ]
  },
  {
   "cell_type": "code",
   "execution_count": 48,
   "metadata": {},
   "outputs": [
    {
     "data": {
      "text/plain": [
       "array(['Algeria', 'Angola', 'Bahrain', 'Benin', 'Botswana',\n",
       "       'Burkina Faso', 'Burundi', 'Cabo Verde', 'Cameroon',\n",
       "       'Central African Republic', 'Chad', 'Comoros', 'Congo',\n",
       "       'Congo (Democratic Republic of the)', \"CÃ´te d'Ivoire\", 'Djibouti',\n",
       "       'Egypt', 'Equatorial Guinea', 'Eritrea', 'Ethiopia', 'Gabon',\n",
       "       'Gambia', 'Ghana', 'Guinea', 'Guinea-Bissau',\n",
       "       'Iran (Islamic Republic of)', 'Iraq', 'Israel', 'Jordan', 'Kenya',\n",
       "       'Kuwait', 'Lebanon', 'Lesotho', 'Liberia', 'Libya', 'Madagascar',\n",
       "       'Malawi', 'Maldives', 'Mali', 'Mauritania', 'Mauritius', 'Morocco',\n",
       "       'Mozambique', 'Namibia', 'Niger', 'Nigeria', 'Oman',\n",
       "       'Palestine, State of', 'Qatar', 'Rwanda', 'Sao Tome and Principe',\n",
       "       'Saudi Arabia', 'Senegal', 'Sierra Leone', 'South Africa',\n",
       "       'South Sudan', 'Sudan', 'Syrian Arab Republic',\n",
       "       'Tanzania (United Republic of)', 'Togo', 'Tunisia', 'Turkey',\n",
       "       'Uganda', 'United Arab Emirates', 'Yemen', 'Zambia', 'Zimbabwe',\n",
       "       'Human Development', 'Low human development',\n",
       "       'Medium human development', 'High human development',\n",
       "       'Very high human development', 'Developing Countries', 'Regions',\n",
       "       'Arab States', 'Sub-Saharan Africa', 'Least Developed Countries',\n",
       "       'Small Island Developing States', 'World', 'Swaziland'],\n",
       "      dtype=object)"
      ]
     },
     "execution_count": 48,
     "metadata": {},
     "output_type": "execute_result"
    }
   ],
   "source": [
    "# Looking at the unique country values \n",
    "hdi['country'].unique()"
   ]
  },
  {
   "cell_type": "code",
   "execution_count": 49,
   "metadata": {},
   "outputs": [],
   "source": [
    "# Renaming countries for consistency with other data \n",
    "hdi.replace({'country' : {'Congo (Democratic Republic of the)' : 'Democratic Republic of Congo',\n",
    "                           \"CÃ´te d'Ivoire\" : \"Cote D'Ivoire\",\n",
    "                           'Iran (Islamic Republic of)' : 'Iran',\n",
    "                           'Palestine, State of' : 'Palestine',\n",
    "                           'Syrian Arab Republic' : 'Syria',\n",
    "                           'Tanzania (United Republic of)' : 'Tanzania',\n",
    "                           }}, inplace=True)"
   ]
  },
  {
   "cell_type": "code",
   "execution_count": 50,
   "metadata": {},
   "outputs": [],
   "source": [
    "# Removing these rows I will not use \n",
    "hdi = hdi.drop(hdi.loc[hdi['country'] == 'Human Development'].index)\n",
    "hdi = hdi.drop(hdi.loc[hdi['country'] == 'Low human development'].index)\n",
    "hdi = hdi.drop(hdi.loc[hdi['country'] == 'Medium human development'].index)\n",
    "hdi = hdi.drop(hdi.loc[hdi['country'] == 'High human development'].index)\n",
    "hdi = hdi.drop(hdi.loc[hdi['country'] == 'Very high human development'].index)\n",
    "hdi = hdi.drop(hdi.loc[hdi['country'] == 'Developing Countries'].index)\n",
    "hdi = hdi.drop(hdi.loc[hdi['country'] == 'Regions'].index)\n",
    "hdi = hdi.drop(hdi.loc[hdi['country'] == 'Arab States'].index)\n",
    "hdi = hdi.drop(hdi.loc[hdi['country'] == 'Sub-Saharan Africa'].index)\n",
    "hdi = hdi.drop(hdi.loc[hdi['country'] == 'Least Developed Countries'].index)\n",
    "hdi = hdi.drop(hdi.loc[hdi['country'] == 'Small Island Developing States'].index)\n",
    "hdi = hdi.drop(hdi.loc[hdi['country'] == 'World'].index)\n",
    "hdi = hdi.drop(hdi.loc[hdi['country'] == 'Maldives'].index)"
   ]
  },
  {
   "cell_type": "code",
   "execution_count": 51,
   "metadata": {},
   "outputs": [
    {
     "data": {
      "text/html": [
       "<div>\n",
       "<style scoped>\n",
       "    .dataframe tbody tr th:only-of-type {\n",
       "        vertical-align: middle;\n",
       "    }\n",
       "\n",
       "    .dataframe tbody tr th {\n",
       "        vertical-align: top;\n",
       "    }\n",
       "\n",
       "    .dataframe thead th {\n",
       "        text-align: right;\n",
       "    }\n",
       "</style>\n",
       "<table border=\"1\" class=\"dataframe\">\n",
       "  <thead>\n",
       "    <tr style=\"text-align: right;\">\n",
       "      <th></th>\n",
       "      <th>country</th>\n",
       "      <th>year</th>\n",
       "      <th>hdi</th>\n",
       "    </tr>\n",
       "  </thead>\n",
       "  <tbody>\n",
       "    <tr>\n",
       "      <th>0</th>\n",
       "      <td>Algeria</td>\n",
       "      <td>2000</td>\n",
       "      <td>0.646</td>\n",
       "    </tr>\n",
       "    <tr>\n",
       "      <th>1</th>\n",
       "      <td>Algeria</td>\n",
       "      <td>2001</td>\n",
       "      <td>0.655</td>\n",
       "    </tr>\n",
       "    <tr>\n",
       "      <th>2</th>\n",
       "      <td>Algeria</td>\n",
       "      <td>2002</td>\n",
       "      <td>0.666</td>\n",
       "    </tr>\n",
       "    <tr>\n",
       "      <th>3</th>\n",
       "      <td>Algeria</td>\n",
       "      <td>2003</td>\n",
       "      <td>0.676</td>\n",
       "    </tr>\n",
       "    <tr>\n",
       "      <th>4</th>\n",
       "      <td>Algeria</td>\n",
       "      <td>2004</td>\n",
       "      <td>0.685</td>\n",
       "    </tr>\n",
       "  </tbody>\n",
       "</table>\n",
       "</div>"
      ],
      "text/plain": [
       "   country  year    hdi\n",
       "0  Algeria  2000  0.646\n",
       "1  Algeria  2001  0.655\n",
       "2  Algeria  2002  0.666\n",
       "3  Algeria  2003  0.676\n",
       "4  Algeria  2004  0.685"
      ]
     },
     "execution_count": 51,
     "metadata": {},
     "output_type": "execute_result"
    }
   ],
   "source": [
    "# Looking at my new data frame \n",
    "hdi.head()"
   ]
  },
  {
   "cell_type": "code",
   "execution_count": 52,
   "metadata": {},
   "outputs": [],
   "source": [
    "# Saving my data to a csv\n",
    "hdi.to_csv('./aid_data/human_development/hdi.csv', index=False)"
   ]
  },
  {
   "cell_type": "code",
   "execution_count": null,
   "metadata": {},
   "outputs": [],
   "source": []
  }
 ],
 "metadata": {
  "kernelspec": {
   "display_name": "Python 3",
   "language": "python",
   "name": "python3"
  },
  "language_info": {
   "codemirror_mode": {
    "name": "ipython",
    "version": 3
   },
   "file_extension": ".py",
   "mimetype": "text/x-python",
   "name": "python",
   "nbconvert_exporter": "python",
   "pygments_lexer": "ipython3",
   "version": "3.7.6"
  }
 },
 "nbformat": 4,
 "nbformat_minor": 4
}
