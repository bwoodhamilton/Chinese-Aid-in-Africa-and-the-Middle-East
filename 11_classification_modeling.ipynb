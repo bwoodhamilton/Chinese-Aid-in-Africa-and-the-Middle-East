{
 "cells": [
  {
   "cell_type": "markdown",
   "metadata": {},
   "source": [
    "# Classification Modeling\n",
    "\n",
    "I chose to do classification modeling with my predicted variable as the whether a country had more Chinese aid than United States aid. I used several of my "
   ]
  },
  {
   "cell_type": "code",
   "execution_count": 73,
   "metadata": {},
   "outputs": [],
   "source": [
    "# Importing necessary models \n",
    "import pandas as pd\n",
    "import matplotlib.pyplot as plt\n",
    "import seaborn as sns \n",
    "import numpy as np\n",
    "from sklearn.pipeline import Pipeline\n",
    "from sklearn.model_selection import train_test_split, GridSearchCV\n",
    "from sklearn.linear_model import LogisticRegression\n",
    "from sklearn.neighbors import KNeighborsClassifier\n",
    "from sklearn.tree import DecisionTreeClassifier\n",
    "from sklearn.preprocessing import StandardScaler\n",
    "from sklearn.metrics import confusion_matrix\n",
    "from sklearn.ensemble import RandomForestClassifier, ExtraTreesClassifier, AdaBoostClassifier"
   ]
  },
  {
   "cell_type": "code",
   "execution_count": 74,
   "metadata": {},
   "outputs": [],
   "source": [
    "# Reading in data \n",
    "aid = pd.read_csv('./aid_data/combined_data/aid_sums.csv')"
   ]
  },
  {
   "cell_type": "code",
   "execution_count": 75,
   "metadata": {},
   "outputs": [
    {
     "name": "stdout",
     "output_type": "stream",
     "text": [
      "Index(['country', 'world_bank_totals', 'chinese_aid_totals', 'usaid_aid',\n",
      "       'hdi_00', 'hdi_14', 'pr_score00', 'cl_score00', 'fh_status00',\n",
      "       'pr_score14', 'cl_score14', 'fh_status14', 'cpi_2014', 'population',\n",
      "       'gdp_per_cap14', 'resource_rents', 'gdp_per_cap00', 'debt_to_gdp',\n",
      "       'fh_change', 'pc_gdp_change', 'hdi_change', 'world_bank_pc',\n",
      "       'chinese_aid_pc', 'usaid_pc', 'chinese_aid_total_max'],\n",
      "      dtype='object')\n"
     ]
    }
   ],
   "source": [
    "# Printing out my columns \n",
    "print(aid.columns)"
   ]
  },
  {
   "cell_type": "code",
   "execution_count": 76,
   "metadata": {},
   "outputs": [],
   "source": [
    "# Dropping some of my columns \n",
    "aid = aid[['country', 'world_bank_totals', 'chinese_aid_totals', 'usaid_aid', 'hdi_14', 'cpi_2014', 'population', 'gdp_per_cap00', 'gdp_per_cap14', 'resource_rents', 'debt_to_gdp', 'hdi_change', 'fh_change', 'pc_gdp_change', 'chinese_aid_total_max']]"
   ]
  },
  {
   "cell_type": "code",
   "execution_count": 77,
   "metadata": {},
   "outputs": [
    {
     "data": {
      "text/html": [
       "<div>\n",
       "<style scoped>\n",
       "    .dataframe tbody tr th:only-of-type {\n",
       "        vertical-align: middle;\n",
       "    }\n",
       "\n",
       "    .dataframe tbody tr th {\n",
       "        vertical-align: top;\n",
       "    }\n",
       "\n",
       "    .dataframe thead th {\n",
       "        text-align: right;\n",
       "    }\n",
       "</style>\n",
       "<table border=\"1\" class=\"dataframe\">\n",
       "  <thead>\n",
       "    <tr style=\"text-align: right;\">\n",
       "      <th></th>\n",
       "      <th>country</th>\n",
       "      <th>world_bank_totals</th>\n",
       "      <th>chinese_aid_totals</th>\n",
       "      <th>usaid_aid</th>\n",
       "      <th>hdi_14</th>\n",
       "      <th>cpi_2014</th>\n",
       "      <th>population</th>\n",
       "      <th>gdp_per_cap00</th>\n",
       "      <th>gdp_per_cap14</th>\n",
       "      <th>resource_rents</th>\n",
       "      <th>debt_to_gdp</th>\n",
       "      <th>hdi_change</th>\n",
       "      <th>fh_change</th>\n",
       "      <th>pc_gdp_change</th>\n",
       "      <th>chinese_aid_total_max</th>\n",
       "    </tr>\n",
       "  </thead>\n",
       "  <tbody>\n",
       "    <tr>\n",
       "      <th>0</th>\n",
       "      <td>Algeria</td>\n",
       "      <td>4.380505e+08</td>\n",
       "      <td>5.880901e+08</td>\n",
       "      <td>2.476621e+08</td>\n",
       "      <td>0.749</td>\n",
       "      <td>36.0</td>\n",
       "      <td>38923687</td>\n",
       "      <td>1764.888222</td>\n",
       "      <td>4702.091700</td>\n",
       "      <td>24.602722</td>\n",
       "      <td>7.673</td>\n",
       "      <td>0.103</td>\n",
       "      <td>0.0</td>\n",
       "      <td>2937.203478</td>\n",
       "      <td>1</td>\n",
       "    </tr>\n",
       "    <tr>\n",
       "      <th>1</th>\n",
       "      <td>Angola</td>\n",
       "      <td>8.030873e+08</td>\n",
       "      <td>3.864233e+10</td>\n",
       "      <td>2.939893e+09</td>\n",
       "      <td>0.557</td>\n",
       "      <td>19.0</td>\n",
       "      <td>26941779</td>\n",
       "      <td>556.836318</td>\n",
       "      <td>3843.198241</td>\n",
       "      <td>23.381930</td>\n",
       "      <td>40.676</td>\n",
       "      <td>0.163</td>\n",
       "      <td>-1.0</td>\n",
       "      <td>3286.361923</td>\n",
       "      <td>1</td>\n",
       "    </tr>\n",
       "    <tr>\n",
       "      <th>2</th>\n",
       "      <td>Benin</td>\n",
       "      <td>1.107820e+09</td>\n",
       "      <td>1.155924e+09</td>\n",
       "      <td>1.785451e+09</td>\n",
       "      <td>0.505</td>\n",
       "      <td>39.0</td>\n",
       "      <td>10286842</td>\n",
       "      <td>374.192394</td>\n",
       "      <td>834.443596</td>\n",
       "      <td>4.872945</td>\n",
       "      <td>30.452</td>\n",
       "      <td>0.107</td>\n",
       "      <td>0.0</td>\n",
       "      <td>460.251202</td>\n",
       "      <td>0</td>\n",
       "    </tr>\n",
       "    <tr>\n",
       "      <th>3</th>\n",
       "      <td>Botswana</td>\n",
       "      <td>3.858719e+08</td>\n",
       "      <td>2.563158e+09</td>\n",
       "      <td>2.141447e+09</td>\n",
       "      <td>0.709</td>\n",
       "      <td>63.0</td>\n",
       "      <td>2088614</td>\n",
       "      <td>3522.308678</td>\n",
       "      <td>7864.253281</td>\n",
       "      <td>2.516289</td>\n",
       "      <td>17.346</td>\n",
       "      <td>0.131</td>\n",
       "      <td>1.0</td>\n",
       "      <td>4341.944603</td>\n",
       "      <td>1</td>\n",
       "    </tr>\n",
       "    <tr>\n",
       "      <th>4</th>\n",
       "      <td>Burkina Faso</td>\n",
       "      <td>2.858288e+09</td>\n",
       "      <td>0.000000e+00</td>\n",
       "      <td>2.048434e+09</td>\n",
       "      <td>0.405</td>\n",
       "      <td>38.0</td>\n",
       "      <td>17586017</td>\n",
       "      <td>226.475981</td>\n",
       "      <td>639.708096</td>\n",
       "      <td>16.981603</td>\n",
       "      <td>30.387</td>\n",
       "      <td>0.119</td>\n",
       "      <td>1.0</td>\n",
       "      <td>413.232114</td>\n",
       "      <td>0</td>\n",
       "    </tr>\n",
       "  </tbody>\n",
       "</table>\n",
       "</div>"
      ],
      "text/plain": [
       "        country  world_bank_totals  chinese_aid_totals     usaid_aid  hdi_14  \\\n",
       "0       Algeria       4.380505e+08        5.880901e+08  2.476621e+08   0.749   \n",
       "1        Angola       8.030873e+08        3.864233e+10  2.939893e+09   0.557   \n",
       "2         Benin       1.107820e+09        1.155924e+09  1.785451e+09   0.505   \n",
       "3      Botswana       3.858719e+08        2.563158e+09  2.141447e+09   0.709   \n",
       "4  Burkina Faso       2.858288e+09        0.000000e+00  2.048434e+09   0.405   \n",
       "\n",
       "   cpi_2014  population  gdp_per_cap00  gdp_per_cap14  resource_rents  \\\n",
       "0      36.0    38923687    1764.888222    4702.091700       24.602722   \n",
       "1      19.0    26941779     556.836318    3843.198241       23.381930   \n",
       "2      39.0    10286842     374.192394     834.443596        4.872945   \n",
       "3      63.0     2088614    3522.308678    7864.253281        2.516289   \n",
       "4      38.0    17586017     226.475981     639.708096       16.981603   \n",
       "\n",
       "   debt_to_gdp  hdi_change  fh_change  pc_gdp_change  chinese_aid_total_max  \n",
       "0        7.673       0.103        0.0    2937.203478                      1  \n",
       "1       40.676       0.163       -1.0    3286.361923                      1  \n",
       "2       30.452       0.107        0.0     460.251202                      0  \n",
       "3       17.346       0.131        1.0    4341.944603                      1  \n",
       "4       30.387       0.119        1.0     413.232114                      0  "
      ]
     },
     "execution_count": 77,
     "metadata": {},
     "output_type": "execute_result"
    }
   ],
   "source": [
    "# Looking at my new data frame \n",
    "aid.head()"
   ]
  },
  {
   "cell_type": "code",
   "execution_count": 109,
   "metadata": {},
   "outputs": [
    {
     "data": {
      "text/plain": [
       "0.36764705882352944"
      ]
     },
     "execution_count": 109,
     "metadata": {},
     "output_type": "execute_result"
    }
   ],
   "source": [
    "# Model needs to beat the baseline score of 63.2%\n",
    "aid['chinese_aid_total_max'].mean()"
   ]
  },
  {
   "cell_type": "code",
   "execution_count": 78,
   "metadata": {},
   "outputs": [],
   "source": [
    "# Scaling my features and setting my X and y variable \n",
    "ss = StandardScaler()\n",
    "X_scaled = ss.fit_transform(aid[['cpi_2014', 'resource_rents', 'debt_to_gdp', 'hdi_change', 'fh_change', 'pc_gdp_change']])\n",
    "y = aid['chinese_aid_total_max']"
   ]
  },
  {
   "cell_type": "code",
   "execution_count": 81,
   "metadata": {},
   "outputs": [],
   "source": [
    "# Train test split my data\n",
    "X_train, X_test, y_train, y_test = train_test_split(X_scaled, y, random_state=22)"
   ]
  },
  {
   "cell_type": "code",
   "execution_count": 82,
   "metadata": {},
   "outputs": [
    {
     "data": {
      "text/plain": [
       "GridSearchCV(cv=None, error_score=nan,\n",
       "             estimator=Pipeline(memory=None,\n",
       "                                steps=[('rf',\n",
       "                                        RandomForestClassifier(bootstrap=True,\n",
       "                                                               ccp_alpha=0.0,\n",
       "                                                               class_weight=None,\n",
       "                                                               criterion='gini',\n",
       "                                                               max_depth=None,\n",
       "                                                               max_features='auto',\n",
       "                                                               max_leaf_nodes=None,\n",
       "                                                               max_samples=None,\n",
       "                                                               min_impurity_decrease=0.0,\n",
       "                                                               min_impurity_split=None,\n",
       "                                                               min_samples_leaf=1,\n",
       "                                                               min_samples_split=2,\n",
       "                                                               min_weight_fraction_l...\n",
       "                                                               warm_start=False))],\n",
       "                                verbose=False),\n",
       "             iid='deprecated', n_jobs=None,\n",
       "             param_grid={'rf__bootstrap': [True, False],\n",
       "                         'rf__max_depth': [1, 5, 20, 30],\n",
       "                         'rf__max_features': ['auto', 'sqrt'],\n",
       "                         'rf__min_samples_leaf': [1, 2, 4],\n",
       "                         'rf__min_samples_split': [2, 5, 10],\n",
       "                         'rf__n_estimators': [10, 100, 1000, 2000]},\n",
       "             pre_dispatch='2*n_jobs', refit=True, return_train_score=False,\n",
       "             scoring=None, verbose=0)"
      ]
     },
     "execution_count": 82,
     "metadata": {},
     "output_type": "execute_result"
    }
   ],
   "source": [
    "# Pipeline with Random Forest model \n",
    "pipe = Pipeline([('rf', RandomForestClassifier())])\n",
    "pipe_params = {\n",
    "    'rf__n_estimators' : [10, 100, 1000, 2000],\n",
    "    'rf__max_features' : ['auto', 'sqrt'],\n",
    "    'rf__max_depth' : [1, 5, 20, 30],\n",
    "    'rf__min_samples_split' : [2, 5, 10], \n",
    "    'rf__min_samples_leaf' : [1, 2, 4],\n",
    "    'rf__bootstrap' : [True, False]\n",
    "    \n",
    "}\n",
    "\n",
    "gs = GridSearchCV(pipe, \n",
    "                  param_grid=pipe_params) \n",
    "# Fit GridSearch to training data.\n",
    "gs.fit(X_train, y_train)"
   ]
  },
  {
   "cell_type": "code",
   "execution_count": 83,
   "metadata": {},
   "outputs": [
    {
     "name": "stdout",
     "output_type": "stream",
     "text": [
      "0.6472727272727272\n"
     ]
    }
   ],
   "source": [
    "# Printing the best score \n",
    "print(gs.best_score_)"
   ]
  },
  {
   "cell_type": "code",
   "execution_count": 84,
   "metadata": {},
   "outputs": [
    {
     "data": {
      "text/plain": [
       "{'rf__bootstrap': True,\n",
       " 'rf__max_depth': 1,\n",
       " 'rf__max_features': 'auto',\n",
       " 'rf__min_samples_leaf': 4,\n",
       " 'rf__min_samples_split': 2,\n",
       " 'rf__n_estimators': 100}"
      ]
     },
     "execution_count": 84,
     "metadata": {},
     "output_type": "execute_result"
    }
   ],
   "source": [
    "# Looking at my best parameters \n",
    "gs.best_params_"
   ]
  },
  {
   "cell_type": "code",
   "execution_count": 85,
   "metadata": {},
   "outputs": [],
   "source": [
    "# Setting my best estimator as the model \n",
    "gs_model = gs.best_estimator_"
   ]
  },
  {
   "cell_type": "code",
   "execution_count": 86,
   "metadata": {},
   "outputs": [
    {
     "data": {
      "text/plain": [
       "0.6470588235294118"
      ]
     },
     "execution_count": 86,
     "metadata": {},
     "output_type": "execute_result"
    }
   ],
   "source": [
    "# Training score \n",
    "gs_model.score(X_train, y_train)"
   ]
  },
  {
   "cell_type": "code",
   "execution_count": 87,
   "metadata": {},
   "outputs": [
    {
     "data": {
      "text/plain": [
       "0.5882352941176471"
      ]
     },
     "execution_count": 87,
     "metadata": {},
     "output_type": "execute_result"
    }
   ],
   "source": [
    "# Testing score, did not beat baseline \n",
    "gs_model.score(X_test, y_test)"
   ]
  },
  {
   "cell_type": "code",
   "execution_count": 88,
   "metadata": {},
   "outputs": [
    {
     "data": {
      "text/plain": [
       "GridSearchCV(cv=None, error_score=nan,\n",
       "             estimator=Pipeline(memory=None,\n",
       "                                steps=[('xt',\n",
       "                                        ExtraTreesClassifier(bootstrap=False,\n",
       "                                                             ccp_alpha=0.0,\n",
       "                                                             class_weight=None,\n",
       "                                                             criterion='gini',\n",
       "                                                             max_depth=None,\n",
       "                                                             max_features='auto',\n",
       "                                                             max_leaf_nodes=None,\n",
       "                                                             max_samples=None,\n",
       "                                                             min_impurity_decrease=0.0,\n",
       "                                                             min_impurity_split=None,\n",
       "                                                             min_samples_leaf=1,\n",
       "                                                             min_samples_split=2,\n",
       "                                                             min_weight_fraction_le...\n",
       "                                                             n_estimators=100,\n",
       "                                                             n_jobs=None,\n",
       "                                                             oob_score=False,\n",
       "                                                             random_state=None,\n",
       "                                                             verbose=0,\n",
       "                                                             warm_start=False))],\n",
       "                                verbose=False),\n",
       "             iid='deprecated', n_jobs=None,\n",
       "             param_grid={'xt__bootstrap': [True, False],\n",
       "                         'xt__criterion': ['gini', 'entropy'],\n",
       "                         'xt__max_depth': [1, 5, 20, 30],\n",
       "                         'xt__n_estimators': [5, 10, 15]},\n",
       "             pre_dispatch='2*n_jobs', refit=True, return_train_score=False,\n",
       "             scoring=None, verbose=0)"
      ]
     },
     "execution_count": 88,
     "metadata": {},
     "output_type": "execute_result"
    }
   ],
   "source": [
    "# Pipeline for Extra Trees Classifier \n",
    "pipe2 = Pipeline([('xt', ExtraTreesClassifier())])\n",
    "pipe_params2 = {\n",
    "    'xt__n_estimators': [5, 10, 15], \n",
    "    'xt__criterion': ['gini', 'entropy'],  \n",
    "    'xt__max_depth': [1, 5, 20, 30],\n",
    "    'xt__bootstrap': [True, False],\n",
    "}\n",
    "\n",
    "gs2 = GridSearchCV(pipe2, \n",
    "                  param_grid=pipe_params2) \n",
    "# Fit GridSearch to training data.\n",
    "gs2.fit(X_train, y_train)"
   ]
  },
  {
   "cell_type": "code",
   "execution_count": 89,
   "metadata": {},
   "outputs": [
    {
     "name": "stdout",
     "output_type": "stream",
     "text": [
      "0.6472727272727272\n"
     ]
    }
   ],
   "source": [
    "# Looking at my best score \n",
    "print(gs2.best_score_)"
   ]
  },
  {
   "cell_type": "code",
   "execution_count": 90,
   "metadata": {},
   "outputs": [
    {
     "data": {
      "text/plain": [
       "{'xt__bootstrap': True,\n",
       " 'xt__criterion': 'gini',\n",
       " 'xt__max_depth': 1,\n",
       " 'xt__n_estimators': 5}"
      ]
     },
     "execution_count": 90,
     "metadata": {},
     "output_type": "execute_result"
    }
   ],
   "source": [
    "# Looking at my best parameters \n",
    "gs2.best_params_"
   ]
  },
  {
   "cell_type": "code",
   "execution_count": 91,
   "metadata": {},
   "outputs": [],
   "source": [
    "# Setting the model to be the best estimator \n",
    "gs_model2 = gs2.best_estimator_"
   ]
  },
  {
   "cell_type": "code",
   "execution_count": 92,
   "metadata": {},
   "outputs": [
    {
     "data": {
      "text/plain": [
       "0.6470588235294118"
      ]
     },
     "execution_count": 92,
     "metadata": {},
     "output_type": "execute_result"
    }
   ],
   "source": [
    "# Training score \n",
    "gs_model2.score(X_train, y_train)"
   ]
  },
  {
   "cell_type": "code",
   "execution_count": 93,
   "metadata": {},
   "outputs": [
    {
     "data": {
      "text/plain": [
       "0.5882352941176471"
      ]
     },
     "execution_count": 93,
     "metadata": {},
     "output_type": "execute_result"
    }
   ],
   "source": [
    "# Testing score, did not beat baseline \n",
    "gs_model2.score(X_test, y_test)"
   ]
  },
  {
   "cell_type": "code",
   "execution_count": 94,
   "metadata": {},
   "outputs": [
    {
     "data": {
      "text/plain": [
       "GridSearchCV(cv=None, error_score=nan,\n",
       "             estimator=Pipeline(memory=None,\n",
       "                                steps=[('ada',\n",
       "                                        AdaBoostClassifier(algorithm='SAMME.R',\n",
       "                                                           base_estimator=None,\n",
       "                                                           learning_rate=1.0,\n",
       "                                                           n_estimators=50,\n",
       "                                                           random_state=None))],\n",
       "                                verbose=False),\n",
       "             iid='deprecated', n_jobs=None,\n",
       "             param_grid={'ada__learning_rate': [1, 5, 10],\n",
       "                         'ada__n_estimators': [20, 50, 100]},\n",
       "             pre_dispatch='2*n_jobs', refit=True, return_train_score=False,\n",
       "             scoring=None, verbose=0)"
      ]
     },
     "execution_count": 94,
     "metadata": {},
     "output_type": "execute_result"
    }
   ],
   "source": [
    "# Pipeline with AdaBoost Classifier \n",
    "pipe3 = Pipeline([('ada', AdaBoostClassifier())])\n",
    "pipe_params3 = {\n",
    "    'ada__n_estimators': [20, 50, 100], \n",
    "    'ada__learning_rate': [1, 5, 10],  \n",
    "}\n",
    "\n",
    "gs3 = GridSearchCV(pipe3, \n",
    "                  param_grid=pipe_params3) \n",
    "# Fit GridSearch to training data.\n",
    "gs3.fit(X_train, y_train)"
   ]
  },
  {
   "cell_type": "code",
   "execution_count": 95,
   "metadata": {},
   "outputs": [
    {
     "name": "stdout",
     "output_type": "stream",
     "text": [
      "0.5490909090909091\n"
     ]
    }
   ],
   "source": [
    "# Looking at best score \n",
    "print(gs3.best_score_)"
   ]
  },
  {
   "cell_type": "code",
   "execution_count": 96,
   "metadata": {},
   "outputs": [
    {
     "data": {
      "text/plain": [
       "{'ada__learning_rate': 10, 'ada__n_estimators': 20}"
      ]
     },
     "execution_count": 96,
     "metadata": {},
     "output_type": "execute_result"
    }
   ],
   "source": [
    "# Best parameters \n",
    "gs3.best_params_"
   ]
  },
  {
   "cell_type": "code",
   "execution_count": 97,
   "metadata": {},
   "outputs": [],
   "source": [
    "# Setting my model as the best estimator \n",
    "gs_model3 = gs3.best_estimator_"
   ]
  },
  {
   "cell_type": "code",
   "execution_count": 98,
   "metadata": {},
   "outputs": [
    {
     "data": {
      "text/plain": [
       "0.43137254901960786"
      ]
     },
     "execution_count": 98,
     "metadata": {},
     "output_type": "execute_result"
    }
   ],
   "source": [
    "# Training score \n",
    "gs_model3.score(X_train, y_train)"
   ]
  },
  {
   "cell_type": "code",
   "execution_count": 99,
   "metadata": {},
   "outputs": [
    {
     "data": {
      "text/plain": [
       "0.4117647058823529"
      ]
     },
     "execution_count": 99,
     "metadata": {},
     "output_type": "execute_result"
    }
   ],
   "source": [
    "# Testing score, does not beat baseline \n",
    "gs_model3.score(X_test, y_test)"
   ]
  },
  {
   "cell_type": "code",
   "execution_count": 100,
   "metadata": {},
   "outputs": [
    {
     "data": {
      "text/plain": [
       "GridSearchCV(cv=None, error_score=nan,\n",
       "             estimator=Pipeline(memory=None,\n",
       "                                steps=[('knn',\n",
       "                                        KNeighborsClassifier(algorithm='auto',\n",
       "                                                             leaf_size=30,\n",
       "                                                             metric='minkowski',\n",
       "                                                             metric_params=None,\n",
       "                                                             n_jobs=None,\n",
       "                                                             n_neighbors=5, p=2,\n",
       "                                                             weights='uniform'))],\n",
       "                                verbose=False),\n",
       "             iid='deprecated', n_jobs=None,\n",
       "             param_grid={'knn__leaf_size': [10, 30, 50],\n",
       "                         'knn__n_jobs': [None, 3, 5],\n",
       "                         'knn__n_neighbors': [3, 5, 7, 9],\n",
       "                         'knn__weights': ['uniform', 'distance']},\n",
       "             pre_dispatch='2*n_jobs', refit=True, return_train_score=False,\n",
       "             scoring=None, verbose=0)"
      ]
     },
     "execution_count": 100,
     "metadata": {},
     "output_type": "execute_result"
    }
   ],
   "source": [
    "# Pipeline with K nearest neighbors \n",
    "pipe4 = Pipeline([('knn', KNeighborsClassifier())])\n",
    "pipe_params4 = {\n",
    "    'knn__n_neighbors': [3, 5, 7, 9], \n",
    "    'knn__weights': ['uniform', 'distance'],  \n",
    "    'knn__leaf_size': [10, 30, 50],\n",
    "    'knn__n_jobs': [None, 3, 5]\n",
    "}\n",
    "\n",
    "gs4 = GridSearchCV(pipe4, \n",
    "                  param_grid=pipe_params4) \n",
    "# Fit GridSearch to training data.\n",
    "gs4.fit(X_train, y_train)"
   ]
  },
  {
   "cell_type": "code",
   "execution_count": 101,
   "metadata": {},
   "outputs": [
    {
     "name": "stdout",
     "output_type": "stream",
     "text": [
      "0.6236363636363637\n"
     ]
    }
   ],
   "source": [
    "# best score \n",
    "print(gs4.best_score_)"
   ]
  },
  {
   "cell_type": "code",
   "execution_count": 102,
   "metadata": {},
   "outputs": [
    {
     "data": {
      "text/plain": [
       "{'knn__leaf_size': 10,\n",
       " 'knn__n_jobs': None,\n",
       " 'knn__n_neighbors': 5,\n",
       " 'knn__weights': 'uniform'}"
      ]
     },
     "execution_count": 102,
     "metadata": {},
     "output_type": "execute_result"
    }
   ],
   "source": [
    "# best parameters \n",
    "gs4.best_params_"
   ]
  },
  {
   "cell_type": "code",
   "execution_count": 103,
   "metadata": {},
   "outputs": [],
   "source": [
    "# Setting the model to be the best estimator \n",
    "gs_model4 = gs4.best_estimator_"
   ]
  },
  {
   "cell_type": "code",
   "execution_count": 104,
   "metadata": {},
   "outputs": [
    {
     "data": {
      "text/plain": [
       "0.7843137254901961"
      ]
     },
     "execution_count": 104,
     "metadata": {},
     "output_type": "execute_result"
    }
   ],
   "source": [
    "# Training score \n",
    "gs_model4.score(X_train, y_train)"
   ]
  },
  {
   "cell_type": "code",
   "execution_count": 105,
   "metadata": {},
   "outputs": [
    {
     "data": {
      "text/plain": [
       "0.6470588235294118"
      ]
     },
     "execution_count": 105,
     "metadata": {},
     "output_type": "execute_result"
    }
   ],
   "source": [
    "# Testing score barely beat out the training score \n",
    "gs_model4.score(X_test, y_test)"
   ]
  },
  {
   "cell_type": "markdown",
   "metadata": {},
   "source": [
    "### Conclusions \n",
    "\n",
    "The classification models were not more successful than the regression models. The data set probably is probably not big enough for this to work well, and I think it is hard to predict whether a country will be a recipient of Chinese aid based on this data. There are other geo-political factors that are likely much more important. "
   ]
  },
  {
   "cell_type": "code",
   "execution_count": null,
   "metadata": {},
   "outputs": [],
   "source": []
  }
 ],
 "metadata": {
  "kernelspec": {
   "display_name": "Python 3",
   "language": "python",
   "name": "python3"
  },
  "language_info": {
   "codemirror_mode": {
    "name": "ipython",
    "version": 3
   },
   "file_extension": ".py",
   "mimetype": "text/x-python",
   "name": "python",
   "nbconvert_exporter": "python",
   "pygments_lexer": "ipython3",
   "version": "3.7.6"
  }
 },
 "nbformat": 4,
 "nbformat_minor": 4
}
