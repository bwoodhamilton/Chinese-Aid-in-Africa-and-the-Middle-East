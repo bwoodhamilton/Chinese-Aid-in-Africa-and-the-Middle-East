{
 "cells": [
  {
   "cell_type": "markdown",
   "metadata": {},
   "source": [
    "# Classification Modeling"
   ]
  },
  {
   "cell_type": "code",
   "execution_count": 1,
   "metadata": {},
   "outputs": [],
   "source": [
    "# The long list of packages I need to run all my models\n",
    "import pandas as pd\n",
    "import matplotlib.pyplot as plt\n",
    "import seaborn as sns \n",
    "import numpy as np\n",
    "from sklearn.pipeline import Pipeline\n",
    "from sklearn.model_selection import train_test_split, GridSearchCV\n",
    "from sklearn.linear_model import LogisticRegression\n",
    "from sklearn.neighbors import KNeighborsClassifier\n",
    "from sklearn.tree import DecisionTreeClassifier\n",
    "from sklearn.preprocessing import StandardScaler\n",
    "from sklearn.metrics import confusion_matrix\n",
    "from sklearn.ensemble import RandomForestClassifier, ExtraTreesClassifier, AdaBoostClassifier"
   ]
  },
  {
   "cell_type": "code",
   "execution_count": 2,
   "metadata": {},
   "outputs": [],
   "source": [
    "aid = pd.read_csv('./aid_data/combined_data/aid_sums.csv')"
   ]
  },
  {
   "cell_type": "code",
   "execution_count": 43,
   "metadata": {},
   "outputs": [
    {
     "data": {
      "text/html": [
       "<div>\n",
       "<style scoped>\n",
       "    .dataframe tbody tr th:only-of-type {\n",
       "        vertical-align: middle;\n",
       "    }\n",
       "\n",
       "    .dataframe tbody tr th {\n",
       "        vertical-align: top;\n",
       "    }\n",
       "\n",
       "    .dataframe thead th {\n",
       "        text-align: right;\n",
       "    }\n",
       "</style>\n",
       "<table border=\"1\" class=\"dataframe\">\n",
       "  <thead>\n",
       "    <tr style=\"text-align: right;\">\n",
       "      <th></th>\n",
       "      <th>country</th>\n",
       "      <th>world_bank_totals</th>\n",
       "      <th>chinese_aid_totals</th>\n",
       "      <th>usaid_aid</th>\n",
       "      <th>hdi_00</th>\n",
       "      <th>hdi_14</th>\n",
       "      <th>pr_score00</th>\n",
       "      <th>cl_score00</th>\n",
       "      <th>fh_status00</th>\n",
       "      <th>pr_score14</th>\n",
       "      <th>...</th>\n",
       "      <th>debt_to_gdp</th>\n",
       "      <th>fh_total00</th>\n",
       "      <th>fh_total14</th>\n",
       "      <th>fh_change</th>\n",
       "      <th>hdi_change</th>\n",
       "      <th>world_bank_pc</th>\n",
       "      <th>chinese_aid_pc</th>\n",
       "      <th>usaid_pc</th>\n",
       "      <th>max_total_aid</th>\n",
       "      <th>chinese_aid_total_max</th>\n",
       "    </tr>\n",
       "  </thead>\n",
       "  <tbody>\n",
       "    <tr>\n",
       "      <th>0</th>\n",
       "      <td>Algeria</td>\n",
       "      <td>4.380505e+08</td>\n",
       "      <td>5.674971e+08</td>\n",
       "      <td>2.476621e+08</td>\n",
       "      <td>0.646</td>\n",
       "      <td>0.749</td>\n",
       "      <td>6.0</td>\n",
       "      <td>5.0</td>\n",
       "      <td>NF</td>\n",
       "      <td>6.0</td>\n",
       "      <td>...</td>\n",
       "      <td>7.673</td>\n",
       "      <td>11.0</td>\n",
       "      <td>11.0</td>\n",
       "      <td>0.0</td>\n",
       "      <td>0.103</td>\n",
       "      <td>11.254086</td>\n",
       "      <td>14.579737</td>\n",
       "      <td>6.362761</td>\n",
       "      <td>5.674971e+08</td>\n",
       "      <td>1</td>\n",
       "    </tr>\n",
       "    <tr>\n",
       "      <th>1</th>\n",
       "      <td>Angola</td>\n",
       "      <td>8.030873e+08</td>\n",
       "      <td>3.824927e+10</td>\n",
       "      <td>2.939893e+09</td>\n",
       "      <td>0.394</td>\n",
       "      <td>0.557</td>\n",
       "      <td>6.0</td>\n",
       "      <td>6.0</td>\n",
       "      <td>NF</td>\n",
       "      <td>6.0</td>\n",
       "      <td>...</td>\n",
       "      <td>40.676</td>\n",
       "      <td>12.0</td>\n",
       "      <td>11.0</td>\n",
       "      <td>-1.0</td>\n",
       "      <td>0.163</td>\n",
       "      <td>29.808251</td>\n",
       "      <td>1419.701152</td>\n",
       "      <td>109.120217</td>\n",
       "      <td>3.824927e+10</td>\n",
       "      <td>1</td>\n",
       "    </tr>\n",
       "    <tr>\n",
       "      <th>2</th>\n",
       "      <td>Benin</td>\n",
       "      <td>1.107820e+09</td>\n",
       "      <td>1.212040e+09</td>\n",
       "      <td>1.785451e+09</td>\n",
       "      <td>0.398</td>\n",
       "      <td>0.505</td>\n",
       "      <td>2.0</td>\n",
       "      <td>2.0</td>\n",
       "      <td>F</td>\n",
       "      <td>2.0</td>\n",
       "      <td>...</td>\n",
       "      <td>30.452</td>\n",
       "      <td>4.0</td>\n",
       "      <td>4.0</td>\n",
       "      <td>0.0</td>\n",
       "      <td>0.107</td>\n",
       "      <td>107.692898</td>\n",
       "      <td>117.824339</td>\n",
       "      <td>173.566471</td>\n",
       "      <td>1.785451e+09</td>\n",
       "      <td>0</td>\n",
       "    </tr>\n",
       "    <tr>\n",
       "      <th>3</th>\n",
       "      <td>Botswana</td>\n",
       "      <td>3.858719e+08</td>\n",
       "      <td>2.585561e+09</td>\n",
       "      <td>2.141447e+09</td>\n",
       "      <td>0.578</td>\n",
       "      <td>0.709</td>\n",
       "      <td>2.0</td>\n",
       "      <td>2.0</td>\n",
       "      <td>F</td>\n",
       "      <td>3.0</td>\n",
       "      <td>...</td>\n",
       "      <td>17.346</td>\n",
       "      <td>4.0</td>\n",
       "      <td>5.0</td>\n",
       "      <td>1.0</td>\n",
       "      <td>0.131</td>\n",
       "      <td>184.750231</td>\n",
       "      <td>1237.931268</td>\n",
       "      <td>1025.295634</td>\n",
       "      <td>2.585561e+09</td>\n",
       "      <td>1</td>\n",
       "    </tr>\n",
       "    <tr>\n",
       "      <th>4</th>\n",
       "      <td>Burkina Faso</td>\n",
       "      <td>2.858288e+09</td>\n",
       "      <td>0.000000e+00</td>\n",
       "      <td>2.048434e+09</td>\n",
       "      <td>0.286</td>\n",
       "      <td>0.405</td>\n",
       "      <td>4.0</td>\n",
       "      <td>4.0</td>\n",
       "      <td>PF</td>\n",
       "      <td>6.0</td>\n",
       "      <td>...</td>\n",
       "      <td>30.387</td>\n",
       "      <td>8.0</td>\n",
       "      <td>9.0</td>\n",
       "      <td>1.0</td>\n",
       "      <td>0.119</td>\n",
       "      <td>162.531851</td>\n",
       "      <td>0.000000</td>\n",
       "      <td>116.480855</td>\n",
       "      <td>2.048434e+09</td>\n",
       "      <td>0</td>\n",
       "    </tr>\n",
       "  </tbody>\n",
       "</table>\n",
       "<p>5 rows × 26 columns</p>\n",
       "</div>"
      ],
      "text/plain": [
       "        country  world_bank_totals  chinese_aid_totals     usaid_aid  hdi_00  \\\n",
       "0       Algeria       4.380505e+08        5.674971e+08  2.476621e+08   0.646   \n",
       "1        Angola       8.030873e+08        3.824927e+10  2.939893e+09   0.394   \n",
       "2         Benin       1.107820e+09        1.212040e+09  1.785451e+09   0.398   \n",
       "3      Botswana       3.858719e+08        2.585561e+09  2.141447e+09   0.578   \n",
       "4  Burkina Faso       2.858288e+09        0.000000e+00  2.048434e+09   0.286   \n",
       "\n",
       "   hdi_14  pr_score00  cl_score00 fh_status00  pr_score14  ...  debt_to_gdp  \\\n",
       "0   0.749         6.0         5.0          NF         6.0  ...        7.673   \n",
       "1   0.557         6.0         6.0          NF         6.0  ...       40.676   \n",
       "2   0.505         2.0         2.0           F         2.0  ...       30.452   \n",
       "3   0.709         2.0         2.0           F         3.0  ...       17.346   \n",
       "4   0.405         4.0         4.0          PF         6.0  ...       30.387   \n",
       "\n",
       "  fh_total00  fh_total14  fh_change  hdi_change  world_bank_pc  \\\n",
       "0       11.0        11.0        0.0       0.103      11.254086   \n",
       "1       12.0        11.0       -1.0       0.163      29.808251   \n",
       "2        4.0         4.0        0.0       0.107     107.692898   \n",
       "3        4.0         5.0        1.0       0.131     184.750231   \n",
       "4        8.0         9.0        1.0       0.119     162.531851   \n",
       "\n",
       "   chinese_aid_pc     usaid_pc  max_total_aid  chinese_aid_total_max  \n",
       "0       14.579737     6.362761   5.674971e+08                      1  \n",
       "1     1419.701152   109.120217   3.824927e+10                      1  \n",
       "2      117.824339   173.566471   1.785451e+09                      0  \n",
       "3     1237.931268  1025.295634   2.585561e+09                      1  \n",
       "4        0.000000   116.480855   2.048434e+09                      0  \n",
       "\n",
       "[5 rows x 26 columns]"
      ]
     },
     "execution_count": 43,
     "metadata": {},
     "output_type": "execute_result"
    }
   ],
   "source": [
    "aid.head()"
   ]
  },
  {
   "cell_type": "code",
   "execution_count": 44,
   "metadata": {},
   "outputs": [
    {
     "name": "stdout",
     "output_type": "stream",
     "text": [
      "Index(['country', 'world_bank_totals', 'chinese_aid_totals', 'usaid_aid',\n",
      "       'hdi_00', 'hdi_14', 'pr_score00', 'cl_score00', 'fh_status00',\n",
      "       'pr_score14', 'cl_score14', 'fh_status14', 'cpi_2014', 'population',\n",
      "       'gdp_per_cap', 'resource_rents', 'debt_to_gdp', 'fh_total00',\n",
      "       'fh_total14', 'fh_change', 'hdi_change', 'world_bank_pc',\n",
      "       'chinese_aid_pc', 'usaid_pc', 'max_total_aid', 'chinese_aid_total_max'],\n",
      "      dtype='object')\n"
     ]
    }
   ],
   "source": [
    "print(aid.columns)"
   ]
  },
  {
   "cell_type": "code",
   "execution_count": 45,
   "metadata": {},
   "outputs": [],
   "source": [
    "aid = aid[['country', 'world_bank_totals', 'chinese_aid_totals', 'usaid_aid', 'hdi_14', 'cpi_2014', 'population', 'gdp_per_cap', 'resource_rents', 'debt_to_gdp', 'hdi_change', 'fh_change', 'chinese_aid_total_max']]"
   ]
  },
  {
   "cell_type": "code",
   "execution_count": 46,
   "metadata": {},
   "outputs": [],
   "source": [
    "ss = StandardScaler()\n",
    "X_scaled = ss.fit_transform(aid[['hdi_14', 'cpi_2014', 'population', 'gdp_per_cap', 'resource_rents', 'debt_to_gdp', 'hdi_change', 'fh_change']])"
   ]
  },
  {
   "cell_type": "code",
   "execution_count": 47,
   "metadata": {},
   "outputs": [
    {
     "data": {
      "text/html": [
       "<div>\n",
       "<style scoped>\n",
       "    .dataframe tbody tr th:only-of-type {\n",
       "        vertical-align: middle;\n",
       "    }\n",
       "\n",
       "    .dataframe tbody tr th {\n",
       "        vertical-align: top;\n",
       "    }\n",
       "\n",
       "    .dataframe thead th {\n",
       "        text-align: right;\n",
       "    }\n",
       "</style>\n",
       "<table border=\"1\" class=\"dataframe\">\n",
       "  <thead>\n",
       "    <tr style=\"text-align: right;\">\n",
       "      <th></th>\n",
       "      <th>country</th>\n",
       "      <th>world_bank_totals</th>\n",
       "      <th>chinese_aid_totals</th>\n",
       "      <th>usaid_aid</th>\n",
       "      <th>hdi_14</th>\n",
       "      <th>cpi_2014</th>\n",
       "      <th>population</th>\n",
       "      <th>gdp_per_cap</th>\n",
       "      <th>resource_rents</th>\n",
       "      <th>debt_to_gdp</th>\n",
       "      <th>hdi_change</th>\n",
       "      <th>fh_change</th>\n",
       "      <th>chinese_aid_total_max</th>\n",
       "    </tr>\n",
       "  </thead>\n",
       "  <tbody>\n",
       "    <tr>\n",
       "      <th>0</th>\n",
       "      <td>Algeria</td>\n",
       "      <td>4.380505e+08</td>\n",
       "      <td>5.674971e+08</td>\n",
       "      <td>2.476621e+08</td>\n",
       "      <td>0.749</td>\n",
       "      <td>36.0</td>\n",
       "      <td>38923687</td>\n",
       "      <td>4702.091700</td>\n",
       "      <td>24.602722</td>\n",
       "      <td>7.673</td>\n",
       "      <td>0.103</td>\n",
       "      <td>0.0</td>\n",
       "      <td>1</td>\n",
       "    </tr>\n",
       "    <tr>\n",
       "      <th>1</th>\n",
       "      <td>Angola</td>\n",
       "      <td>8.030873e+08</td>\n",
       "      <td>3.824927e+10</td>\n",
       "      <td>2.939893e+09</td>\n",
       "      <td>0.557</td>\n",
       "      <td>19.0</td>\n",
       "      <td>26941779</td>\n",
       "      <td>3843.198241</td>\n",
       "      <td>23.381930</td>\n",
       "      <td>40.676</td>\n",
       "      <td>0.163</td>\n",
       "      <td>-1.0</td>\n",
       "      <td>1</td>\n",
       "    </tr>\n",
       "    <tr>\n",
       "      <th>2</th>\n",
       "      <td>Benin</td>\n",
       "      <td>1.107820e+09</td>\n",
       "      <td>1.212040e+09</td>\n",
       "      <td>1.785451e+09</td>\n",
       "      <td>0.505</td>\n",
       "      <td>39.0</td>\n",
       "      <td>10286842</td>\n",
       "      <td>834.443596</td>\n",
       "      <td>4.872945</td>\n",
       "      <td>30.452</td>\n",
       "      <td>0.107</td>\n",
       "      <td>0.0</td>\n",
       "      <td>0</td>\n",
       "    </tr>\n",
       "    <tr>\n",
       "      <th>3</th>\n",
       "      <td>Botswana</td>\n",
       "      <td>3.858719e+08</td>\n",
       "      <td>2.585561e+09</td>\n",
       "      <td>2.141447e+09</td>\n",
       "      <td>0.709</td>\n",
       "      <td>63.0</td>\n",
       "      <td>2088614</td>\n",
       "      <td>7864.253281</td>\n",
       "      <td>2.516289</td>\n",
       "      <td>17.346</td>\n",
       "      <td>0.131</td>\n",
       "      <td>1.0</td>\n",
       "      <td>1</td>\n",
       "    </tr>\n",
       "    <tr>\n",
       "      <th>4</th>\n",
       "      <td>Burkina Faso</td>\n",
       "      <td>2.858288e+09</td>\n",
       "      <td>0.000000e+00</td>\n",
       "      <td>2.048434e+09</td>\n",
       "      <td>0.405</td>\n",
       "      <td>38.0</td>\n",
       "      <td>17586017</td>\n",
       "      <td>639.708096</td>\n",
       "      <td>16.981603</td>\n",
       "      <td>30.387</td>\n",
       "      <td>0.119</td>\n",
       "      <td>1.0</td>\n",
       "      <td>0</td>\n",
       "    </tr>\n",
       "  </tbody>\n",
       "</table>\n",
       "</div>"
      ],
      "text/plain": [
       "        country  world_bank_totals  chinese_aid_totals     usaid_aid  hdi_14  \\\n",
       "0       Algeria       4.380505e+08        5.674971e+08  2.476621e+08   0.749   \n",
       "1        Angola       8.030873e+08        3.824927e+10  2.939893e+09   0.557   \n",
       "2         Benin       1.107820e+09        1.212040e+09  1.785451e+09   0.505   \n",
       "3      Botswana       3.858719e+08        2.585561e+09  2.141447e+09   0.709   \n",
       "4  Burkina Faso       2.858288e+09        0.000000e+00  2.048434e+09   0.405   \n",
       "\n",
       "   cpi_2014  population  gdp_per_cap  resource_rents  debt_to_gdp  hdi_change  \\\n",
       "0      36.0    38923687  4702.091700       24.602722        7.673       0.103   \n",
       "1      19.0    26941779  3843.198241       23.381930       40.676       0.163   \n",
       "2      39.0    10286842   834.443596        4.872945       30.452       0.107   \n",
       "3      63.0     2088614  7864.253281        2.516289       17.346       0.131   \n",
       "4      38.0    17586017   639.708096       16.981603       30.387       0.119   \n",
       "\n",
       "   fh_change  chinese_aid_total_max  \n",
       "0        0.0                      1  \n",
       "1       -1.0                      1  \n",
       "2        0.0                      0  \n",
       "3        1.0                      1  \n",
       "4        1.0                      0  "
      ]
     },
     "execution_count": 47,
     "metadata": {},
     "output_type": "execute_result"
    }
   ],
   "source": [
    "aid.head()"
   ]
  },
  {
   "cell_type": "code",
   "execution_count": 48,
   "metadata": {},
   "outputs": [],
   "source": [
    "# Assigning my X and y variables\n",
    "X = aid[['hdi_14', 'cpi_2014', 'population', 'gdp_per_cap', 'resource_rents', 'debt_to_gdp', 'hdi_change', 'fh_change']]\n",
    "y = aid['chinese_aid_total_max']"
   ]
  },
  {
   "cell_type": "code",
   "execution_count": 49,
   "metadata": {},
   "outputs": [],
   "source": [
    "# Train test split my data\n",
    "X_train, X_test, y_train, y_test = train_test_split(X_scaled, y, random_state=22)"
   ]
  },
  {
   "cell_type": "code",
   "execution_count": 50,
   "metadata": {},
   "outputs": [
    {
     "data": {
      "text/plain": [
       "GridSearchCV(cv=None, error_score=nan,\n",
       "             estimator=Pipeline(memory=None,\n",
       "                                steps=[('rf',\n",
       "                                        RandomForestClassifier(bootstrap=True,\n",
       "                                                               ccp_alpha=0.0,\n",
       "                                                               class_weight=None,\n",
       "                                                               criterion='gini',\n",
       "                                                               max_depth=None,\n",
       "                                                               max_features='auto',\n",
       "                                                               max_leaf_nodes=None,\n",
       "                                                               max_samples=None,\n",
       "                                                               min_impurity_decrease=0.0,\n",
       "                                                               min_impurity_split=None,\n",
       "                                                               min_samples_leaf=1,\n",
       "                                                               min_samples_split=2,\n",
       "                                                               min_weight_fraction_l...\n",
       "                                                               warm_start=False))],\n",
       "                                verbose=False),\n",
       "             iid='deprecated', n_jobs=None,\n",
       "             param_grid={'rf__bootstrap': [True, False],\n",
       "                         'rf__max_depth': [1, 5, 20, 30],\n",
       "                         'rf__max_features': ['auto', 'sqrt'],\n",
       "                         'rf__min_samples_leaf': [1, 2, 4],\n",
       "                         'rf__min_samples_split': [2, 5, 10],\n",
       "                         'rf__n_estimators': [10, 100, 1000, 2000]},\n",
       "             pre_dispatch='2*n_jobs', refit=True, return_train_score=False,\n",
       "             scoring=None, verbose=0)"
      ]
     },
     "execution_count": 50,
     "metadata": {},
     "output_type": "execute_result"
    }
   ],
   "source": [
    "pipe = Pipeline([('rf', RandomForestClassifier())])\n",
    "pipe_params = {\n",
    "    'rf__n_estimators' : [10, 100, 1000, 2000],\n",
    "    'rf__max_features' : ['auto', 'sqrt'],\n",
    "    'rf__max_depth' : [1, 5, 20, 30],\n",
    "    'rf__min_samples_split' : [2, 5, 10], \n",
    "    'rf__min_samples_leaf' : [1, 2, 4],\n",
    "    'rf__bootstrap' : [True, False]\n",
    "    \n",
    "}\n",
    "\n",
    "gs = GridSearchCV(pipe, \n",
    "                  param_grid=pipe_params) \n",
    "# Fit GridSearch to training data.\n",
    "gs.fit(X_train, y_train)"
   ]
  },
  {
   "cell_type": "code",
   "execution_count": 51,
   "metadata": {},
   "outputs": [
    {
     "name": "stdout",
     "output_type": "stream",
     "text": [
      "0.6472727272727272\n"
     ]
    }
   ],
   "source": [
    "# Printing the best score \n",
    "print(gs.best_score_)"
   ]
  },
  {
   "cell_type": "code",
   "execution_count": 52,
   "metadata": {},
   "outputs": [
    {
     "data": {
      "text/plain": [
       "{'rf__bootstrap': True,\n",
       " 'rf__max_depth': 20,\n",
       " 'rf__max_features': 'sqrt',\n",
       " 'rf__min_samples_leaf': 2,\n",
       " 'rf__min_samples_split': 2,\n",
       " 'rf__n_estimators': 10}"
      ]
     },
     "execution_count": 52,
     "metadata": {},
     "output_type": "execute_result"
    }
   ],
   "source": [
    "gs.best_params_"
   ]
  },
  {
   "cell_type": "code",
   "execution_count": 53,
   "metadata": {},
   "outputs": [],
   "source": [
    "gs_model = gs.best_estimator_"
   ]
  },
  {
   "cell_type": "code",
   "execution_count": 54,
   "metadata": {},
   "outputs": [
    {
     "data": {
      "text/plain": [
       "0.9411764705882353"
      ]
     },
     "execution_count": 54,
     "metadata": {},
     "output_type": "execute_result"
    }
   ],
   "source": [
    "gs_model.score(X_train, y_train)"
   ]
  },
  {
   "cell_type": "code",
   "execution_count": 55,
   "metadata": {},
   "outputs": [
    {
     "data": {
      "text/plain": [
       "0.6111111111111112"
      ]
     },
     "execution_count": 55,
     "metadata": {},
     "output_type": "execute_result"
    }
   ],
   "source": [
    "gs_model.score(X_test, y_test)"
   ]
  },
  {
   "cell_type": "code",
   "execution_count": null,
   "metadata": {},
   "outputs": [],
   "source": []
  },
  {
   "cell_type": "code",
   "execution_count": 80,
   "metadata": {},
   "outputs": [
    {
     "data": {
      "text/plain": [
       "GridSearchCV(cv=None, error_score=nan,\n",
       "             estimator=Pipeline(memory=None,\n",
       "                                steps=[('xt',\n",
       "                                        ExtraTreesClassifier(bootstrap=False,\n",
       "                                                             ccp_alpha=0.0,\n",
       "                                                             class_weight=None,\n",
       "                                                             criterion='gini',\n",
       "                                                             max_depth=None,\n",
       "                                                             max_features='auto',\n",
       "                                                             max_leaf_nodes=None,\n",
       "                                                             max_samples=None,\n",
       "                                                             min_impurity_decrease=0.0,\n",
       "                                                             min_impurity_split=None,\n",
       "                                                             min_samples_leaf=1,\n",
       "                                                             min_samples_split=2,\n",
       "                                                             min_weight_fraction_le...\n",
       "                                                             n_estimators=100,\n",
       "                                                             n_jobs=None,\n",
       "                                                             oob_score=False,\n",
       "                                                             random_state=None,\n",
       "                                                             verbose=0,\n",
       "                                                             warm_start=False))],\n",
       "                                verbose=False),\n",
       "             iid='deprecated', n_jobs=None,\n",
       "             param_grid={'xt__bootstrap': [True, False],\n",
       "                         'xt__criterion': ['gini', 'entropy'],\n",
       "                         'xt__max_depth': [1, 5, 20, 30],\n",
       "                         'xt__n_estimators': [5, 10, 15]},\n",
       "             pre_dispatch='2*n_jobs', refit=True, return_train_score=False,\n",
       "             scoring=None, verbose=0)"
      ]
     },
     "execution_count": 80,
     "metadata": {},
     "output_type": "execute_result"
    }
   ],
   "source": [
    "pipe2 = Pipeline([('xt', ExtraTreesClassifier())])\n",
    "pipe_params2 = {\n",
    "    'xt__n_estimators': [5, 10, 15], \n",
    "    'xt__criterion': ['gini', 'entropy'],  \n",
    "    'xt__max_depth': [1, 5, 20, 30],\n",
    "    'xt__bootstrap': [True, False],\n",
    "}\n",
    "\n",
    "gs2 = GridSearchCV(pipe2, \n",
    "                  param_grid=pipe_params2) \n",
    "# Fit GridSearch to training data.\n",
    "gs2.fit(X_train, y_train)"
   ]
  },
  {
   "cell_type": "code",
   "execution_count": 89,
   "metadata": {},
   "outputs": [
    {
     "name": "stdout",
     "output_type": "stream",
     "text": [
      "0.6709090909090909\n"
     ]
    }
   ],
   "source": [
    "print(gs2.best_score_)"
   ]
  },
  {
   "cell_type": "code",
   "execution_count": 90,
   "metadata": {},
   "outputs": [
    {
     "data": {
      "text/plain": [
       "{'xt__bootstrap': True,\n",
       " 'xt__criterion': 'gini',\n",
       " 'xt__max_depth': 5,\n",
       " 'xt__n_estimators': 15}"
      ]
     },
     "execution_count": 90,
     "metadata": {},
     "output_type": "execute_result"
    }
   ],
   "source": [
    "gs2.best_params_"
   ]
  },
  {
   "cell_type": "code",
   "execution_count": 91,
   "metadata": {},
   "outputs": [],
   "source": [
    "gs_model2 = gs2.best_estimator_"
   ]
  },
  {
   "cell_type": "code",
   "execution_count": 92,
   "metadata": {},
   "outputs": [
    {
     "data": {
      "text/plain": [
       "0.9019607843137255"
      ]
     },
     "execution_count": 92,
     "metadata": {},
     "output_type": "execute_result"
    }
   ],
   "source": [
    "gs_model2.score(X_train, y_train)"
   ]
  },
  {
   "cell_type": "code",
   "execution_count": 93,
   "metadata": {},
   "outputs": [
    {
     "data": {
      "text/plain": [
       "0.6111111111111112"
      ]
     },
     "execution_count": 93,
     "metadata": {},
     "output_type": "execute_result"
    }
   ],
   "source": [
    "gs_model2.score(X_test, y_test)"
   ]
  },
  {
   "cell_type": "code",
   "execution_count": 86,
   "metadata": {},
   "outputs": [
    {
     "data": {
      "text/plain": [
       "GridSearchCV(cv=None, error_score=nan,\n",
       "             estimator=Pipeline(memory=None,\n",
       "                                steps=[('ada',\n",
       "                                        AdaBoostClassifier(algorithm='SAMME.R',\n",
       "                                                           base_estimator=None,\n",
       "                                                           learning_rate=1.0,\n",
       "                                                           n_estimators=50,\n",
       "                                                           random_state=None))],\n",
       "                                verbose=False),\n",
       "             iid='deprecated', n_jobs=None,\n",
       "             param_grid={'ada__learning_rate': [1, 5, 10],\n",
       "                         'ada__n_estimators': [20, 50, 100]},\n",
       "             pre_dispatch='2*n_jobs', refit=True, return_train_score=False,\n",
       "             scoring=None, verbose=0)"
      ]
     },
     "execution_count": 86,
     "metadata": {},
     "output_type": "execute_result"
    }
   ],
   "source": [
    "pipe3 = Pipeline([('ada', AdaBoostClassifier())])\n",
    "pipe_params3 = {\n",
    "    'ada__n_estimators': [20, 50, 100], \n",
    "    'ada__learning_rate': [1, 5, 10],  \n",
    "}\n",
    "\n",
    "gs3 = GridSearchCV(pipe3, \n",
    "                  param_grid=pipe_params3) \n",
    "# Fit GridSearch to training data.\n",
    "gs3.fit(X_train, y_train)"
   ]
  },
  {
   "cell_type": "code",
   "execution_count": 87,
   "metadata": {},
   "outputs": [
    {
     "name": "stdout",
     "output_type": "stream",
     "text": [
      "0.5490909090909091\n"
     ]
    }
   ],
   "source": [
    "print(gs3.best_score_)"
   ]
  },
  {
   "cell_type": "code",
   "execution_count": 88,
   "metadata": {},
   "outputs": [
    {
     "data": {
      "text/plain": [
       "{'ada__learning_rate': 10, 'ada__n_estimators': 20}"
      ]
     },
     "execution_count": 88,
     "metadata": {},
     "output_type": "execute_result"
    }
   ],
   "source": [
    "gs3.best_params_"
   ]
  },
  {
   "cell_type": "code",
   "execution_count": 94,
   "metadata": {},
   "outputs": [],
   "source": [
    "gs_model3 = gs3.best_estimator_"
   ]
  },
  {
   "cell_type": "code",
   "execution_count": 95,
   "metadata": {},
   "outputs": [
    {
     "data": {
      "text/plain": [
       "0.5882352941176471"
      ]
     },
     "execution_count": 95,
     "metadata": {},
     "output_type": "execute_result"
    }
   ],
   "source": [
    "gs_model3.score(X_train, y_train)"
   ]
  },
  {
   "cell_type": "code",
   "execution_count": 96,
   "metadata": {},
   "outputs": [
    {
     "data": {
      "text/plain": [
       "0.6666666666666666"
      ]
     },
     "execution_count": 96,
     "metadata": {},
     "output_type": "execute_result"
    }
   ],
   "source": [
    "gs_model3.score(X_test, y_test)"
   ]
  },
  {
   "cell_type": "code",
   "execution_count": 97,
   "metadata": {},
   "outputs": [
    {
     "data": {
      "text/plain": [
       "GridSearchCV(cv=None, error_score=nan,\n",
       "             estimator=Pipeline(memory=None,\n",
       "                                steps=[('knn',\n",
       "                                        KNeighborsClassifier(algorithm='auto',\n",
       "                                                             leaf_size=30,\n",
       "                                                             metric='minkowski',\n",
       "                                                             metric_params=None,\n",
       "                                                             n_jobs=None,\n",
       "                                                             n_neighbors=5, p=2,\n",
       "                                                             weights='uniform'))],\n",
       "                                verbose=False),\n",
       "             iid='deprecated', n_jobs=None,\n",
       "             param_grid={'knn__leaf_size': [10, 30, 50],\n",
       "                         'knn__n_jobs': [None, 3, 5],\n",
       "                         'knn__n_neighbors': [3, 5, 7, 9],\n",
       "                         'knn__weights': ['uniform', 'distance']},\n",
       "             pre_dispatch='2*n_jobs', refit=True, return_train_score=False,\n",
       "             scoring=None, verbose=0)"
      ]
     },
     "execution_count": 97,
     "metadata": {},
     "output_type": "execute_result"
    }
   ],
   "source": [
    "pipe4 = Pipeline([('knn', KNeighborsClassifier())])\n",
    "pipe_params4 = {\n",
    "    'knn__n_neighbors': [3, 5, 7, 9], \n",
    "    'knn__weights': ['uniform', 'distance'],  \n",
    "    'knn__leaf_size': [10, 30, 50],\n",
    "    'knn__n_jobs': [None, 3, 5]\n",
    "}\n",
    "\n",
    "gs4 = GridSearchCV(pipe4, \n",
    "                  param_grid=pipe_params4) \n",
    "# Fit GridSearch to training data.\n",
    "gs4.fit(X_train, y_train)"
   ]
  },
  {
   "cell_type": "code",
   "execution_count": 98,
   "metadata": {},
   "outputs": [
    {
     "name": "stdout",
     "output_type": "stream",
     "text": [
      "0.6690909090909092\n"
     ]
    }
   ],
   "source": [
    "print(gs4.best_score_)"
   ]
  },
  {
   "cell_type": "code",
   "execution_count": 99,
   "metadata": {},
   "outputs": [
    {
     "data": {
      "text/plain": [
       "{'knn__leaf_size': 10,\n",
       " 'knn__n_jobs': None,\n",
       " 'knn__n_neighbors': 3,\n",
       " 'knn__weights': 'uniform'}"
      ]
     },
     "execution_count": 99,
     "metadata": {},
     "output_type": "execute_result"
    }
   ],
   "source": [
    "gs4.best_params_"
   ]
  },
  {
   "cell_type": "code",
   "execution_count": 100,
   "metadata": {},
   "outputs": [],
   "source": [
    "gs_model4 = gs4.best_estimator_"
   ]
  },
  {
   "cell_type": "code",
   "execution_count": 101,
   "metadata": {},
   "outputs": [
    {
     "data": {
      "text/plain": [
       "0.803921568627451"
      ]
     },
     "execution_count": 101,
     "metadata": {},
     "output_type": "execute_result"
    }
   ],
   "source": [
    "gs_model4.score(X_train, y_train)"
   ]
  },
  {
   "cell_type": "code",
   "execution_count": 102,
   "metadata": {},
   "outputs": [
    {
     "data": {
      "text/plain": [
       "0.7222222222222222"
      ]
     },
     "execution_count": 102,
     "metadata": {},
     "output_type": "execute_result"
    }
   ],
   "source": [
    "gs_model4.score(X_test, y_test)"
   ]
  },
  {
   "cell_type": "code",
   "execution_count": null,
   "metadata": {},
   "outputs": [],
   "source": []
  },
  {
   "cell_type": "code",
   "execution_count": null,
   "metadata": {},
   "outputs": [],
   "source": []
  },
  {
   "cell_type": "code",
   "execution_count": null,
   "metadata": {},
   "outputs": [],
   "source": []
  },
  {
   "cell_type": "code",
   "execution_count": null,
   "metadata": {},
   "outputs": [],
   "source": []
  }
 ],
 "metadata": {
  "kernelspec": {
   "display_name": "Python 3",
   "language": "python",
   "name": "python3"
  },
  "language_info": {
   "codemirror_mode": {
    "name": "ipython",
    "version": 3
   },
   "file_extension": ".py",
   "mimetype": "text/x-python",
   "name": "python",
   "nbconvert_exporter": "python",
   "pygments_lexer": "ipython3",
   "version": "3.7.6"
  }
 },
 "nbformat": 4,
 "nbformat_minor": 4
}
