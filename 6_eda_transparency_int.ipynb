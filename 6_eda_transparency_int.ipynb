{
 "cells": [
  {
   "cell_type": "markdown",
   "metadata": {},
   "source": [
    "# EDA and Cleaning Transparency International "
   ]
  },
  {
   "cell_type": "code",
   "execution_count": 1,
   "metadata": {},
   "outputs": [],
   "source": [
    "# Importing libraries \n",
    "import numpy as np\n",
    "import pandas as pd\n",
    "import matplotlib.pyplot as plt\n",
    "import seaborn as sns"
   ]
  },
  {
   "cell_type": "code",
   "execution_count": 2,
   "metadata": {},
   "outputs": [],
   "source": [
    "# Reading in Transparency International data \n",
    "transparency_int = pd.read_excel('./aid_data/transparency_int/CPI2019.xlsx', sheet_name='CPI Timeseries 2012 - 2019')"
   ]
  },
  {
   "cell_type": "markdown",
   "metadata": {},
   "source": [
    "About the CPI score: \"The Corruption Perceptions Index ranks 180 countries and territories by their perceived levels of public sector corruption, according to experts and business people. This year’s analysis shows corruption is more pervasive in countries where big money can flow freely into electoral campaigns and where governments listen only to the voices of wealthy or well-connected individuals.\" A score close to 100 indicates a very clean goverment and a score close to 0 means very corrupt. (https://www.transparency.org/cpi2019)"
   ]
  },
  {
   "cell_type": "code",
   "execution_count": 3,
   "metadata": {},
   "outputs": [
    {
     "data": {
      "text/html": [
       "<div>\n",
       "<style scoped>\n",
       "    .dataframe tbody tr th:only-of-type {\n",
       "        vertical-align: middle;\n",
       "    }\n",
       "\n",
       "    .dataframe tbody tr th {\n",
       "        vertical-align: top;\n",
       "    }\n",
       "\n",
       "    .dataframe thead th {\n",
       "        text-align: right;\n",
       "    }\n",
       "</style>\n",
       "<table border=\"1\" class=\"dataframe\">\n",
       "  <thead>\n",
       "    <tr style=\"text-align: right;\">\n",
       "      <th></th>\n",
       "      <th>Country</th>\n",
       "      <th>ISO3</th>\n",
       "      <th>Region</th>\n",
       "      <th>CPI score 2019</th>\n",
       "      <th>Rank 2019</th>\n",
       "      <th>Sources 2019</th>\n",
       "      <th>Standard error 2019</th>\n",
       "      <th>CPI score 2018</th>\n",
       "      <th>Rank 2018</th>\n",
       "      <th>Sources 2018</th>\n",
       "      <th>...</th>\n",
       "      <th>Standard error 2015</th>\n",
       "      <th>CPI score 2014</th>\n",
       "      <th>Sources 2014</th>\n",
       "      <th>Standard error 2014</th>\n",
       "      <th>CPI Score 2013</th>\n",
       "      <th>Sources 2013</th>\n",
       "      <th>Standard error 2013</th>\n",
       "      <th>CPI Score 2012</th>\n",
       "      <th>Sources 2012</th>\n",
       "      <th>Standard error 2012</th>\n",
       "    </tr>\n",
       "  </thead>\n",
       "  <tbody>\n",
       "    <tr>\n",
       "      <th>0</th>\n",
       "      <td>New Zealand</td>\n",
       "      <td>NZL</td>\n",
       "      <td>AP</td>\n",
       "      <td>87</td>\n",
       "      <td>1</td>\n",
       "      <td>8</td>\n",
       "      <td>2.286490</td>\n",
       "      <td>87</td>\n",
       "      <td>2</td>\n",
       "      <td>8</td>\n",
       "      <td>...</td>\n",
       "      <td>2.32</td>\n",
       "      <td>91.0</td>\n",
       "      <td>7.0</td>\n",
       "      <td>2.28</td>\n",
       "      <td>91.0</td>\n",
       "      <td>7.0</td>\n",
       "      <td>2.3</td>\n",
       "      <td>90.0</td>\n",
       "      <td>7.0</td>\n",
       "      <td>2.2</td>\n",
       "    </tr>\n",
       "    <tr>\n",
       "      <th>1</th>\n",
       "      <td>Denmark</td>\n",
       "      <td>DNK</td>\n",
       "      <td>WE/EU</td>\n",
       "      <td>87</td>\n",
       "      <td>1</td>\n",
       "      <td>8</td>\n",
       "      <td>2.542474</td>\n",
       "      <td>88</td>\n",
       "      <td>1</td>\n",
       "      <td>8</td>\n",
       "      <td>...</td>\n",
       "      <td>2.16</td>\n",
       "      <td>92.0</td>\n",
       "      <td>7.0</td>\n",
       "      <td>2.04</td>\n",
       "      <td>91.0</td>\n",
       "      <td>7.0</td>\n",
       "      <td>2.2</td>\n",
       "      <td>90.0</td>\n",
       "      <td>7.0</td>\n",
       "      <td>2.0</td>\n",
       "    </tr>\n",
       "    <tr>\n",
       "      <th>2</th>\n",
       "      <td>Finland</td>\n",
       "      <td>FIN</td>\n",
       "      <td>WE/EU</td>\n",
       "      <td>86</td>\n",
       "      <td>3</td>\n",
       "      <td>8</td>\n",
       "      <td>2.924511</td>\n",
       "      <td>85</td>\n",
       "      <td>3</td>\n",
       "      <td>8</td>\n",
       "      <td>...</td>\n",
       "      <td>1.77</td>\n",
       "      <td>89.0</td>\n",
       "      <td>7.0</td>\n",
       "      <td>2.05</td>\n",
       "      <td>89.0</td>\n",
       "      <td>7.0</td>\n",
       "      <td>1.7</td>\n",
       "      <td>90.0</td>\n",
       "      <td>7.0</td>\n",
       "      <td>3.0</td>\n",
       "    </tr>\n",
       "    <tr>\n",
       "      <th>3</th>\n",
       "      <td>Switzerland</td>\n",
       "      <td>CHE</td>\n",
       "      <td>WE/EU</td>\n",
       "      <td>85</td>\n",
       "      <td>4</td>\n",
       "      <td>7</td>\n",
       "      <td>1.580087</td>\n",
       "      <td>85</td>\n",
       "      <td>3</td>\n",
       "      <td>7</td>\n",
       "      <td>...</td>\n",
       "      <td>2.55</td>\n",
       "      <td>86.0</td>\n",
       "      <td>6.0</td>\n",
       "      <td>2.61</td>\n",
       "      <td>85.0</td>\n",
       "      <td>6.0</td>\n",
       "      <td>2.5</td>\n",
       "      <td>86.0</td>\n",
       "      <td>6.0</td>\n",
       "      <td>2.6</td>\n",
       "    </tr>\n",
       "    <tr>\n",
       "      <th>4</th>\n",
       "      <td>Singapore</td>\n",
       "      <td>SGP</td>\n",
       "      <td>AP</td>\n",
       "      <td>85</td>\n",
       "      <td>4</td>\n",
       "      <td>9</td>\n",
       "      <td>2.048400</td>\n",
       "      <td>85</td>\n",
       "      <td>3</td>\n",
       "      <td>9</td>\n",
       "      <td>...</td>\n",
       "      <td>2.02</td>\n",
       "      <td>84.0</td>\n",
       "      <td>8.0</td>\n",
       "      <td>1.75</td>\n",
       "      <td>86.0</td>\n",
       "      <td>9.0</td>\n",
       "      <td>2.3</td>\n",
       "      <td>87.0</td>\n",
       "      <td>9.0</td>\n",
       "      <td>2.1</td>\n",
       "    </tr>\n",
       "  </tbody>\n",
       "</table>\n",
       "<p>5 rows × 30 columns</p>\n",
       "</div>"
      ],
      "text/plain": [
       "       Country ISO3 Region  CPI score 2019  Rank 2019  Sources 2019  \\\n",
       "0  New Zealand  NZL     AP              87          1             8   \n",
       "1      Denmark  DNK  WE/EU              87          1             8   \n",
       "2      Finland  FIN  WE/EU              86          3             8   \n",
       "3  Switzerland  CHE  WE/EU              85          4             7   \n",
       "4    Singapore  SGP     AP              85          4             9   \n",
       "\n",
       "   Standard error 2019  CPI score 2018  Rank 2018  Sources 2018  ...  \\\n",
       "0             2.286490              87          2             8  ...   \n",
       "1             2.542474              88          1             8  ...   \n",
       "2             2.924511              85          3             8  ...   \n",
       "3             1.580087              85          3             7  ...   \n",
       "4             2.048400              85          3             9  ...   \n",
       "\n",
       "   Standard error 2015  CPI score 2014  Sources 2014  Standard error 2014  \\\n",
       "0                 2.32            91.0           7.0                 2.28   \n",
       "1                 2.16            92.0           7.0                 2.04   \n",
       "2                 1.77            89.0           7.0                 2.05   \n",
       "3                 2.55            86.0           6.0                 2.61   \n",
       "4                 2.02            84.0           8.0                 1.75   \n",
       "\n",
       "   CPI Score 2013  Sources 2013  Standard error 2013  CPI Score 2012  \\\n",
       "0            91.0           7.0                  2.3            90.0   \n",
       "1            91.0           7.0                  2.2            90.0   \n",
       "2            89.0           7.0                  1.7            90.0   \n",
       "3            85.0           6.0                  2.5            86.0   \n",
       "4            86.0           9.0                  2.3            87.0   \n",
       "\n",
       "   Sources 2012  Standard error 2012  \n",
       "0           7.0                  2.2  \n",
       "1           7.0                  2.0  \n",
       "2           7.0                  3.0  \n",
       "3           6.0                  2.6  \n",
       "4           9.0                  2.1  \n",
       "\n",
       "[5 rows x 30 columns]"
      ]
     },
     "execution_count": 3,
     "metadata": {},
     "output_type": "execute_result"
    }
   ],
   "source": [
    "# Looking at my data \n",
    "transparency_int.head()"
   ]
  },
  {
   "cell_type": "code",
   "execution_count": 4,
   "metadata": {},
   "outputs": [
    {
     "name": "stdout",
     "output_type": "stream",
     "text": [
      "<class 'pandas.core.frame.DataFrame'>\n",
      "RangeIndex: 180 entries, 0 to 179\n",
      "Data columns (total 30 columns):\n",
      "Country                180 non-null object\n",
      "ISO3                   180 non-null object\n",
      "Region                 180 non-null object\n",
      "CPI score 2019         180 non-null int64\n",
      "Rank 2019              180 non-null int64\n",
      "Sources 2019           180 non-null int64\n",
      "Standard error 2019    180 non-null float64\n",
      "CPI score 2018         180 non-null int64\n",
      "Rank 2018              180 non-null int64\n",
      "Sources 2018           180 non-null int64\n",
      "Standard error 2018    180 non-null float64\n",
      "CPI score 2017         180 non-null int64\n",
      "Rank 2017              180 non-null int64\n",
      "Sources 2017           180 non-null int64\n",
      "Standard error 2017    180 non-null float64\n",
      "CPI score 2016         176 non-null float64\n",
      "Sources 2016           176 non-null float64\n",
      "Standard error 2016    176 non-null float64\n",
      "CPI score 2015         168 non-null float64\n",
      "Sources 2015           168 non-null float64\n",
      "Standard error 2015    168 non-null float64\n",
      "CPI score 2014         174 non-null float64\n",
      "Sources 2014           174 non-null float64\n",
      "Standard error 2014    174 non-null float64\n",
      "CPI Score 2013         176 non-null float64\n",
      "Sources 2013           176 non-null float64\n",
      "Standard error 2013    176 non-null float64\n",
      "CPI Score 2012         175 non-null float64\n",
      "Sources 2012           175 non-null float64\n",
      "Standard error 2012    175 non-null float64\n",
      "dtypes: float64(18), int64(9), object(3)\n",
      "memory usage: 42.3+ KB\n"
     ]
    }
   ],
   "source": [
    "# Looking at the info for my data \n",
    "transparency_int.info()"
   ]
  },
  {
   "cell_type": "code",
   "execution_count": 5,
   "metadata": {},
   "outputs": [],
   "source": [
    "# Keeping just the columns I need. I decided to go with the 2014 scores. \n",
    "transparency_int = transparency_int[['Country', 'Region', 'CPI score 2014']]"
   ]
  },
  {
   "cell_type": "code",
   "execution_count": 6,
   "metadata": {},
   "outputs": [
    {
     "data": {
      "text/html": [
       "<div>\n",
       "<style scoped>\n",
       "    .dataframe tbody tr th:only-of-type {\n",
       "        vertical-align: middle;\n",
       "    }\n",
       "\n",
       "    .dataframe tbody tr th {\n",
       "        vertical-align: top;\n",
       "    }\n",
       "\n",
       "    .dataframe thead th {\n",
       "        text-align: right;\n",
       "    }\n",
       "</style>\n",
       "<table border=\"1\" class=\"dataframe\">\n",
       "  <thead>\n",
       "    <tr style=\"text-align: right;\">\n",
       "      <th></th>\n",
       "      <th>Country</th>\n",
       "      <th>Region</th>\n",
       "      <th>CPI score 2014</th>\n",
       "    </tr>\n",
       "  </thead>\n",
       "  <tbody>\n",
       "    <tr>\n",
       "      <th>0</th>\n",
       "      <td>New Zealand</td>\n",
       "      <td>AP</td>\n",
       "      <td>91.0</td>\n",
       "    </tr>\n",
       "    <tr>\n",
       "      <th>1</th>\n",
       "      <td>Denmark</td>\n",
       "      <td>WE/EU</td>\n",
       "      <td>92.0</td>\n",
       "    </tr>\n",
       "    <tr>\n",
       "      <th>2</th>\n",
       "      <td>Finland</td>\n",
       "      <td>WE/EU</td>\n",
       "      <td>89.0</td>\n",
       "    </tr>\n",
       "    <tr>\n",
       "      <th>3</th>\n",
       "      <td>Switzerland</td>\n",
       "      <td>WE/EU</td>\n",
       "      <td>86.0</td>\n",
       "    </tr>\n",
       "    <tr>\n",
       "      <th>4</th>\n",
       "      <td>Singapore</td>\n",
       "      <td>AP</td>\n",
       "      <td>84.0</td>\n",
       "    </tr>\n",
       "  </tbody>\n",
       "</table>\n",
       "</div>"
      ],
      "text/plain": [
       "       Country Region  CPI score 2014\n",
       "0  New Zealand     AP            91.0\n",
       "1      Denmark  WE/EU            92.0\n",
       "2      Finland  WE/EU            89.0\n",
       "3  Switzerland  WE/EU            86.0\n",
       "4    Singapore     AP            84.0"
      ]
     },
     "execution_count": 6,
     "metadata": {},
     "output_type": "execute_result"
    }
   ],
   "source": [
    "# Looking at my data frame \n",
    "transparency_int.head()"
   ]
  },
  {
   "cell_type": "code",
   "execution_count": 7,
   "metadata": {},
   "outputs": [
    {
     "data": {
      "text/plain": [
       "SSA      49\n",
       "AME      32\n",
       "WE/EU    31\n",
       "AP       31\n",
       "ECA      19\n",
       "MENA     18\n",
       "Name: Region, dtype: int64"
      ]
     },
     "execution_count": 7,
     "metadata": {},
     "output_type": "execute_result"
    }
   ],
   "source": [
    "# Looking at the value counts for each region \n",
    "transparency_int['Region'].value_counts()"
   ]
  },
  {
   "cell_type": "code",
   "execution_count": 8,
   "metadata": {},
   "outputs": [],
   "source": [
    "# Making a data frame for Sub-Saharan Africa \n",
    "SSA = transparency_int[transparency_int['Region'] == 'SSA']"
   ]
  },
  {
   "cell_type": "code",
   "execution_count": 9,
   "metadata": {},
   "outputs": [],
   "source": [
    "# Making a data frame for Middle East/North Africa \n",
    "MENA = transparency_int[transparency_int['Region'] == 'MENA']"
   ]
  },
  {
   "cell_type": "code",
   "execution_count": 10,
   "metadata": {},
   "outputs": [],
   "source": [
    "# Making a data frame for just Turkey (because it is in Europe in this set)\n",
    "Turkey = transparency_int[transparency_int['Country'] == 'Turkey']"
   ]
  },
  {
   "cell_type": "code",
   "execution_count": 11,
   "metadata": {},
   "outputs": [],
   "source": [
    "# Appending Sub-Saharan Africa data to MENA data \n",
    "cpi = SSA.append([MENA])"
   ]
  },
  {
   "cell_type": "code",
   "execution_count": 12,
   "metadata": {},
   "outputs": [],
   "source": [
    "# Appending Turkey to the data frame \n",
    "cpi = cpi.append([Turkey])"
   ]
  },
  {
   "cell_type": "code",
   "execution_count": 13,
   "metadata": {},
   "outputs": [
    {
     "data": {
      "text/html": [
       "<div>\n",
       "<style scoped>\n",
       "    .dataframe tbody tr th:only-of-type {\n",
       "        vertical-align: middle;\n",
       "    }\n",
       "\n",
       "    .dataframe tbody tr th {\n",
       "        vertical-align: top;\n",
       "    }\n",
       "\n",
       "    .dataframe thead th {\n",
       "        text-align: right;\n",
       "    }\n",
       "</style>\n",
       "<table border=\"1\" class=\"dataframe\">\n",
       "  <thead>\n",
       "    <tr style=\"text-align: right;\">\n",
       "      <th></th>\n",
       "      <th>Country</th>\n",
       "      <th>Region</th>\n",
       "      <th>CPI score 2014</th>\n",
       "    </tr>\n",
       "  </thead>\n",
       "  <tbody>\n",
       "    <tr>\n",
       "      <th>26</th>\n",
       "      <td>Seychelles</td>\n",
       "      <td>SSA</td>\n",
       "      <td>55.0</td>\n",
       "    </tr>\n",
       "    <tr>\n",
       "      <th>33</th>\n",
       "      <td>Botswana</td>\n",
       "      <td>SSA</td>\n",
       "      <td>63.0</td>\n",
       "    </tr>\n",
       "    <tr>\n",
       "      <th>42</th>\n",
       "      <td>Cabo Verde</td>\n",
       "      <td>SSA</td>\n",
       "      <td>57.0</td>\n",
       "    </tr>\n",
       "    <tr>\n",
       "      <th>50</th>\n",
       "      <td>Rwanda</td>\n",
       "      <td>SSA</td>\n",
       "      <td>49.0</td>\n",
       "    </tr>\n",
       "    <tr>\n",
       "      <th>55</th>\n",
       "      <td>Namibia</td>\n",
       "      <td>SSA</td>\n",
       "      <td>49.0</td>\n",
       "    </tr>\n",
       "  </tbody>\n",
       "</table>\n",
       "</div>"
      ],
      "text/plain": [
       "       Country Region  CPI score 2014\n",
       "26  Seychelles    SSA            55.0\n",
       "33    Botswana    SSA            63.0\n",
       "42  Cabo Verde    SSA            57.0\n",
       "50      Rwanda    SSA            49.0\n",
       "55     Namibia    SSA            49.0"
      ]
     },
     "execution_count": 13,
     "metadata": {},
     "output_type": "execute_result"
    }
   ],
   "source": [
    "cpi.head()"
   ]
  },
  {
   "cell_type": "code",
   "execution_count": 14,
   "metadata": {},
   "outputs": [
    {
     "name": "stdout",
     "output_type": "stream",
     "text": [
      "<class 'pandas.core.frame.DataFrame'>\n",
      "Int64Index: 68 entries, 26 to 91\n",
      "Data columns (total 3 columns):\n",
      "Country           68 non-null object\n",
      "Region            68 non-null object\n",
      "CPI score 2014    67 non-null float64\n",
      "dtypes: float64(1), object(2)\n",
      "memory usage: 2.1+ KB\n"
     ]
    }
   ],
   "source": [
    "# Looking at the null values and data types for my new data frame \n",
    "cpi.info()"
   ]
  },
  {
   "cell_type": "code",
   "execution_count": 15,
   "metadata": {},
   "outputs": [
    {
     "data": {
      "text/html": [
       "<div>\n",
       "<style scoped>\n",
       "    .dataframe tbody tr th:only-of-type {\n",
       "        vertical-align: middle;\n",
       "    }\n",
       "\n",
       "    .dataframe tbody tr th {\n",
       "        vertical-align: top;\n",
       "    }\n",
       "\n",
       "    .dataframe thead th {\n",
       "        text-align: right;\n",
       "    }\n",
       "</style>\n",
       "<table border=\"1\" class=\"dataframe\">\n",
       "  <thead>\n",
       "    <tr style=\"text-align: right;\">\n",
       "      <th></th>\n",
       "      <th>Country</th>\n",
       "      <th>Region</th>\n",
       "      <th>CPI score 2014</th>\n",
       "    </tr>\n",
       "  </thead>\n",
       "  <tbody>\n",
       "    <tr>\n",
       "      <th>173</th>\n",
       "      <td>Equatorial Guinea</td>\n",
       "      <td>SSA</td>\n",
       "      <td>NaN</td>\n",
       "    </tr>\n",
       "  </tbody>\n",
       "</table>\n",
       "</div>"
      ],
      "text/plain": [
       "               Country Region  CPI score 2014\n",
       "173  Equatorial Guinea    SSA             NaN"
      ]
     },
     "execution_count": 15,
     "metadata": {},
     "output_type": "execute_result"
    }
   ],
   "source": [
    "# Looking at the null row \n",
    "cpi[cpi.isnull().any(axis=1)]"
   ]
  },
  {
   "cell_type": "code",
   "execution_count": 16,
   "metadata": {},
   "outputs": [],
   "source": [
    "# I used data from the years that were not missing data to fill this in\n",
    "cpi = cpi.fillna(18)"
   ]
  },
  {
   "cell_type": "code",
   "execution_count": 17,
   "metadata": {},
   "outputs": [
    {
     "data": {
      "text/plain": [
       "array(['Seychelles', 'Botswana', 'Cabo Verde', 'Rwanda', 'Namibia',\n",
       "       'Mauritius', 'Sao Tome and Principe', 'Senegal', 'South Africa',\n",
       "       'Ghana', 'Benin', 'Burkina Faso', 'Lesotho', 'Tanzania',\n",
       "       'Ethiopia', 'Gambia', \"Cote d'Ivoire\", 'Eswatini', 'Zambia',\n",
       "       'Sierra Leone', 'Niger', 'Gabon', 'Malawi', 'Djibouti', 'Togo',\n",
       "       'Mali', 'Guinea', 'Liberia', 'Kenya', 'Mauritania', 'Uganda',\n",
       "       'Nigeria', 'Mozambique', 'Angola', 'Comoros', 'Cameroon',\n",
       "       'Central African Republic', 'Madagascar', 'Zimbabwe', 'Eritrea',\n",
       "       'Chad', 'Burundi', 'Congo', 'Democratic Republic of the Congo',\n",
       "       'Guinea Bissau', 'Equatorial Guinea', 'Sudan', 'South Sudan',\n",
       "       'Somalia', 'United Arab Emirates', 'Qatar', 'Israel',\n",
       "       'Saudi Arabia', 'Oman', 'Jordan', 'Tunisia', 'Bahrain', 'Morocco',\n",
       "       'Kuwait', 'Algeria', 'Egypt', 'Lebanon', 'Iran', 'Iraq', 'Libya',\n",
       "       'Yemen', 'Syria', 'Turkey'], dtype=object)"
      ]
     },
     "execution_count": 17,
     "metadata": {},
     "output_type": "execute_result"
    }
   ],
   "source": [
    "# Looking at unique country values \n",
    "cpi['Country'].unique()"
   ]
  },
  {
   "cell_type": "code",
   "execution_count": 18,
   "metadata": {},
   "outputs": [],
   "source": [
    "# Renaming the countries for consistency \n",
    "cpi.replace({'Country' : {\"Cote d'Ivoire\" : \"Cote D'Ivoire\",\n",
    "                    'Eswatini': 'Swaziland',\n",
    "                    'Democratic Republic of the Congo' : 'Democratic Republic of Congo',\n",
    "                    'Guinea Bissau' : 'Guinea-Bissau'}}, inplace=True)"
   ]
  },
  {
   "cell_type": "code",
   "execution_count": 19,
   "metadata": {},
   "outputs": [],
   "source": [
    "# Renaming the columns \n",
    "cpi.rename(columns={'Country': 'country', 'CPI score 2014' : 'cpi_2014'}, inplace=True)"
   ]
  },
  {
   "cell_type": "code",
   "execution_count": 20,
   "metadata": {},
   "outputs": [
    {
     "data": {
      "text/html": [
       "<div>\n",
       "<style scoped>\n",
       "    .dataframe tbody tr th:only-of-type {\n",
       "        vertical-align: middle;\n",
       "    }\n",
       "\n",
       "    .dataframe tbody tr th {\n",
       "        vertical-align: top;\n",
       "    }\n",
       "\n",
       "    .dataframe thead th {\n",
       "        text-align: right;\n",
       "    }\n",
       "</style>\n",
       "<table border=\"1\" class=\"dataframe\">\n",
       "  <thead>\n",
       "    <tr style=\"text-align: right;\">\n",
       "      <th></th>\n",
       "      <th>country</th>\n",
       "      <th>Region</th>\n",
       "      <th>cpi_2014</th>\n",
       "    </tr>\n",
       "  </thead>\n",
       "  <tbody>\n",
       "    <tr>\n",
       "      <th>26</th>\n",
       "      <td>Seychelles</td>\n",
       "      <td>SSA</td>\n",
       "      <td>55.0</td>\n",
       "    </tr>\n",
       "    <tr>\n",
       "      <th>33</th>\n",
       "      <td>Botswana</td>\n",
       "      <td>SSA</td>\n",
       "      <td>63.0</td>\n",
       "    </tr>\n",
       "    <tr>\n",
       "      <th>42</th>\n",
       "      <td>Cabo Verde</td>\n",
       "      <td>SSA</td>\n",
       "      <td>57.0</td>\n",
       "    </tr>\n",
       "    <tr>\n",
       "      <th>50</th>\n",
       "      <td>Rwanda</td>\n",
       "      <td>SSA</td>\n",
       "      <td>49.0</td>\n",
       "    </tr>\n",
       "    <tr>\n",
       "      <th>55</th>\n",
       "      <td>Namibia</td>\n",
       "      <td>SSA</td>\n",
       "      <td>49.0</td>\n",
       "    </tr>\n",
       "  </tbody>\n",
       "</table>\n",
       "</div>"
      ],
      "text/plain": [
       "       country Region  cpi_2014\n",
       "26  Seychelles    SSA      55.0\n",
       "33    Botswana    SSA      63.0\n",
       "42  Cabo Verde    SSA      57.0\n",
       "50      Rwanda    SSA      49.0\n",
       "55     Namibia    SSA      49.0"
      ]
     },
     "execution_count": 20,
     "metadata": {},
     "output_type": "execute_result"
    }
   ],
   "source": [
    "# Looking at my new dataframe \n",
    "cpi.head()"
   ]
  },
  {
   "cell_type": "code",
   "execution_count": 21,
   "metadata": {},
   "outputs": [],
   "source": [
    "# Dropping the region column \n",
    "cpi = cpi.drop(columns='Region')"
   ]
  },
  {
   "cell_type": "code",
   "execution_count": 22,
   "metadata": {},
   "outputs": [
    {
     "data": {
      "text/html": [
       "<div>\n",
       "<style scoped>\n",
       "    .dataframe tbody tr th:only-of-type {\n",
       "        vertical-align: middle;\n",
       "    }\n",
       "\n",
       "    .dataframe tbody tr th {\n",
       "        vertical-align: top;\n",
       "    }\n",
       "\n",
       "    .dataframe thead th {\n",
       "        text-align: right;\n",
       "    }\n",
       "</style>\n",
       "<table border=\"1\" class=\"dataframe\">\n",
       "  <thead>\n",
       "    <tr style=\"text-align: right;\">\n",
       "      <th></th>\n",
       "      <th>country</th>\n",
       "      <th>cpi_2014</th>\n",
       "    </tr>\n",
       "  </thead>\n",
       "  <tbody>\n",
       "    <tr>\n",
       "      <th>26</th>\n",
       "      <td>Seychelles</td>\n",
       "      <td>55.0</td>\n",
       "    </tr>\n",
       "    <tr>\n",
       "      <th>33</th>\n",
       "      <td>Botswana</td>\n",
       "      <td>63.0</td>\n",
       "    </tr>\n",
       "    <tr>\n",
       "      <th>42</th>\n",
       "      <td>Cabo Verde</td>\n",
       "      <td>57.0</td>\n",
       "    </tr>\n",
       "    <tr>\n",
       "      <th>50</th>\n",
       "      <td>Rwanda</td>\n",
       "      <td>49.0</td>\n",
       "    </tr>\n",
       "    <tr>\n",
       "      <th>55</th>\n",
       "      <td>Namibia</td>\n",
       "      <td>49.0</td>\n",
       "    </tr>\n",
       "  </tbody>\n",
       "</table>\n",
       "</div>"
      ],
      "text/plain": [
       "       country  cpi_2014\n",
       "26  Seychelles      55.0\n",
       "33    Botswana      63.0\n",
       "42  Cabo Verde      57.0\n",
       "50      Rwanda      49.0\n",
       "55     Namibia      49.0"
      ]
     },
     "execution_count": 22,
     "metadata": {},
     "output_type": "execute_result"
    }
   ],
   "source": [
    "# Looking at the new dataframe \n",
    "cpi.head()"
   ]
  },
  {
   "cell_type": "code",
   "execution_count": 23,
   "metadata": {},
   "outputs": [],
   "source": [
    "# Saving the data frame to a csv \n",
    "cpi.to_csv('./aid_data/transparency_int/cpi_clean.csv', index=False)"
   ]
  },
  {
   "cell_type": "code",
   "execution_count": null,
   "metadata": {},
   "outputs": [],
   "source": []
  }
 ],
 "metadata": {
  "kernelspec": {
   "display_name": "Python 3",
   "language": "python",
   "name": "python3"
  },
  "language_info": {
   "codemirror_mode": {
    "name": "ipython",
    "version": 3
   },
   "file_extension": ".py",
   "mimetype": "text/x-python",
   "name": "python",
   "nbconvert_exporter": "python",
   "pygments_lexer": "ipython3",
   "version": "3.7.6"
  }
 },
 "nbformat": 4,
 "nbformat_minor": 4
}
