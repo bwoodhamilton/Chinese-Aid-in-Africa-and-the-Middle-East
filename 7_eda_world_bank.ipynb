{
 "cells": [
  {
   "cell_type": "markdown",
   "metadata": {},
   "source": [
    "# EDA and Cleaning World Bank Data"
   ]
  },
  {
   "cell_type": "code",
   "execution_count": 93,
   "metadata": {},
   "outputs": [],
   "source": [
    "# Importing libraries \n",
    "import numpy as np\n",
    "import pandas as pd\n",
    "import matplotlib.pyplot as plt\n",
    "import seaborn as sns"
   ]
  },
  {
   "cell_type": "code",
   "execution_count": 94,
   "metadata": {},
   "outputs": [],
   "source": [
    "# Reading in gdp per capita data \n",
    "gdp_pc14 = pd.read_csv('./aid_data/gdp/per_cap_gdp.csv')"
   ]
  },
  {
   "cell_type": "markdown",
   "metadata": {},
   "source": [
    "I picked a few indicators from World Bank data. I chose resource rents per capita, since China has a national interest in Africa and the Middle East because of natural resources. I also got gdp per capita for 2000 and 2014 to compare to see how it changed from 2000 to 2014. I also got data on population to use that to divide the aid numbers by that to make per capita columns for Chinese, US, and World Bank aid. Additionally, since there is criticism that Chinese aid can bring more debt to developing countries, I pulled figures for total debt per capita for each country. "
   ]
  },
  {
   "cell_type": "code",
   "execution_count": 95,
   "metadata": {},
   "outputs": [
    {
     "data": {
      "text/html": [
       "<div>\n",
       "<style scoped>\n",
       "    .dataframe tbody tr th:only-of-type {\n",
       "        vertical-align: middle;\n",
       "    }\n",
       "\n",
       "    .dataframe tbody tr th {\n",
       "        vertical-align: top;\n",
       "    }\n",
       "\n",
       "    .dataframe thead th {\n",
       "        text-align: right;\n",
       "    }\n",
       "</style>\n",
       "<table border=\"1\" class=\"dataframe\">\n",
       "  <thead>\n",
       "    <tr style=\"text-align: right;\">\n",
       "      <th></th>\n",
       "      <th>Country Name</th>\n",
       "      <th>2014</th>\n",
       "    </tr>\n",
       "  </thead>\n",
       "  <tbody>\n",
       "    <tr>\n",
       "      <th>0</th>\n",
       "      <td>Angola</td>\n",
       "      <td>3843.198241</td>\n",
       "    </tr>\n",
       "    <tr>\n",
       "      <th>1</th>\n",
       "      <td>United Arab Emirates</td>\n",
       "      <td>38495.04635</td>\n",
       "    </tr>\n",
       "    <tr>\n",
       "      <th>2</th>\n",
       "      <td>Burundi</td>\n",
       "      <td>245.3267387</td>\n",
       "    </tr>\n",
       "    <tr>\n",
       "      <th>3</th>\n",
       "      <td>Benin</td>\n",
       "      <td>834.4435964</td>\n",
       "    </tr>\n",
       "    <tr>\n",
       "      <th>4</th>\n",
       "      <td>Burkina Faso</td>\n",
       "      <td>639.7080956</td>\n",
       "    </tr>\n",
       "  </tbody>\n",
       "</table>\n",
       "</div>"
      ],
      "text/plain": [
       "           Country Name         2014\n",
       "0                Angola  3843.198241\n",
       "1  United Arab Emirates  38495.04635\n",
       "2               Burundi  245.3267387\n",
       "3                 Benin  834.4435964\n",
       "4          Burkina Faso  639.7080956"
      ]
     },
     "execution_count": 95,
     "metadata": {},
     "output_type": "execute_result"
    }
   ],
   "source": [
    "# Looking at my data frame \n",
    "gdp_pc14.head()"
   ]
  },
  {
   "cell_type": "code",
   "execution_count": 96,
   "metadata": {},
   "outputs": [
    {
     "name": "stdout",
     "output_type": "stream",
     "text": [
      "<class 'pandas.core.frame.DataFrame'>\n",
      "RangeIndex: 68 entries, 0 to 67\n",
      "Data columns (total 2 columns):\n",
      "Country Name    68 non-null object\n",
      "2014            68 non-null object\n",
      "dtypes: object(2)\n",
      "memory usage: 1.2+ KB\n"
     ]
    }
   ],
   "source": [
    "# Looking at my null values and data types \n",
    "gdp_pc14.info()"
   ]
  },
  {
   "cell_type": "code",
   "execution_count": 97,
   "metadata": {},
   "outputs": [],
   "source": [
    "# Changing the gdp per capita value to a numeric data type \n",
    "gdp_pc14['2014'] = pd.to_numeric(gdp_pc14['2014'], errors='coerce')"
   ]
  },
  {
   "cell_type": "code",
   "execution_count": 98,
   "metadata": {},
   "outputs": [
    {
     "name": "stdout",
     "output_type": "stream",
     "text": [
      "<class 'pandas.core.frame.DataFrame'>\n",
      "RangeIndex: 68 entries, 0 to 67\n",
      "Data columns (total 2 columns):\n",
      "Country Name    68 non-null object\n",
      "2014            67 non-null float64\n",
      "dtypes: float64(1), object(1)\n",
      "memory usage: 1.2+ KB\n"
     ]
    }
   ],
   "source": [
    "# Seeing how nulls and data types changed \n",
    "gdp_pc14.info()"
   ]
  },
  {
   "cell_type": "code",
   "execution_count": 99,
   "metadata": {},
   "outputs": [
    {
     "data": {
      "text/html": [
       "<div>\n",
       "<style scoped>\n",
       "    .dataframe tbody tr th:only-of-type {\n",
       "        vertical-align: middle;\n",
       "    }\n",
       "\n",
       "    .dataframe tbody tr th {\n",
       "        vertical-align: top;\n",
       "    }\n",
       "\n",
       "    .dataframe thead th {\n",
       "        text-align: right;\n",
       "    }\n",
       "</style>\n",
       "<table border=\"1\" class=\"dataframe\">\n",
       "  <thead>\n",
       "    <tr style=\"text-align: right;\">\n",
       "      <th></th>\n",
       "      <th>Country Name</th>\n",
       "      <th>2014</th>\n",
       "    </tr>\n",
       "  </thead>\n",
       "  <tbody>\n",
       "    <tr>\n",
       "      <th>14</th>\n",
       "      <td>Djibouti</td>\n",
       "      <td>NaN</td>\n",
       "    </tr>\n",
       "  </tbody>\n",
       "</table>\n",
       "</div>"
      ],
      "text/plain": [
       "   Country Name  2014\n",
       "14     Djibouti   NaN"
      ]
     },
     "execution_count": 99,
     "metadata": {},
     "output_type": "execute_result"
    }
   ],
   "source": [
    "# Seeing which value is null \n",
    "gdp_pc14[gdp_pc14.isnull().any(axis=1)]"
   ]
  },
  {
   "cell_type": "code",
   "execution_count": 100,
   "metadata": {},
   "outputs": [],
   "source": [
    "# Did research to fill in null value \n",
    "gdp_pc14 = gdp_pc14.fillna(1595.15)"
   ]
  },
  {
   "cell_type": "code",
   "execution_count": 101,
   "metadata": {},
   "outputs": [
    {
     "name": "stdout",
     "output_type": "stream",
     "text": [
      "<class 'pandas.core.frame.DataFrame'>\n",
      "RangeIndex: 68 entries, 0 to 67\n",
      "Data columns (total 2 columns):\n",
      "Country Name    68 non-null object\n",
      "2014            68 non-null float64\n",
      "dtypes: float64(1), object(1)\n",
      "memory usage: 1.2+ KB\n"
     ]
    }
   ],
   "source": [
    "# Checking that I have no null values \n",
    "gdp_pc14.info()"
   ]
  },
  {
   "cell_type": "code",
   "execution_count": 102,
   "metadata": {},
   "outputs": [],
   "source": [
    "# Renaming the column to gdp per capita \n",
    "gdp_pc14 = gdp_pc14.rename(columns={'2014' : 'gdp_per_cap14'})"
   ]
  },
  {
   "cell_type": "code",
   "execution_count": 103,
   "metadata": {},
   "outputs": [],
   "source": [
    "# Reading in 2000 gdp data \n",
    "gdp_pc00 = pd.read_csv('./aid_data/gdp/gdp_00.csv')"
   ]
  },
  {
   "cell_type": "code",
   "execution_count": 104,
   "metadata": {},
   "outputs": [
    {
     "data": {
      "text/html": [
       "<div>\n",
       "<style scoped>\n",
       "    .dataframe tbody tr th:only-of-type {\n",
       "        vertical-align: middle;\n",
       "    }\n",
       "\n",
       "    .dataframe tbody tr th {\n",
       "        vertical-align: top;\n",
       "    }\n",
       "\n",
       "    .dataframe thead th {\n",
       "        text-align: right;\n",
       "    }\n",
       "</style>\n",
       "<table border=\"1\" class=\"dataframe\">\n",
       "  <thead>\n",
       "    <tr style=\"text-align: right;\">\n",
       "      <th></th>\n",
       "      <th>Country Name</th>\n",
       "      <th>2000</th>\n",
       "    </tr>\n",
       "  </thead>\n",
       "  <tbody>\n",
       "    <tr>\n",
       "      <th>0</th>\n",
       "      <td>Angola</td>\n",
       "      <td>556.836318</td>\n",
       "    </tr>\n",
       "    <tr>\n",
       "      <th>1</th>\n",
       "      <td>United Arab Emirates</td>\n",
       "      <td>33291.419370</td>\n",
       "    </tr>\n",
       "    <tr>\n",
       "      <th>2</th>\n",
       "      <td>Burundi</td>\n",
       "      <td>136.463971</td>\n",
       "    </tr>\n",
       "    <tr>\n",
       "      <th>3</th>\n",
       "      <td>Benin</td>\n",
       "      <td>374.192394</td>\n",
       "    </tr>\n",
       "    <tr>\n",
       "      <th>4</th>\n",
       "      <td>Burkina Faso</td>\n",
       "      <td>226.475981</td>\n",
       "    </tr>\n",
       "  </tbody>\n",
       "</table>\n",
       "</div>"
      ],
      "text/plain": [
       "           Country Name          2000\n",
       "0                Angola    556.836318\n",
       "1  United Arab Emirates  33291.419370\n",
       "2               Burundi    136.463971\n",
       "3                 Benin    374.192394\n",
       "4          Burkina Faso    226.475981"
      ]
     },
     "execution_count": 104,
     "metadata": {},
     "output_type": "execute_result"
    }
   ],
   "source": [
    "# Looking at my 2000 gdp data \n",
    "gdp_pc00.head()"
   ]
  },
  {
   "cell_type": "code",
   "execution_count": 105,
   "metadata": {},
   "outputs": [
    {
     "name": "stdout",
     "output_type": "stream",
     "text": [
      "<class 'pandas.core.frame.DataFrame'>\n",
      "RangeIndex: 68 entries, 0 to 67\n",
      "Data columns (total 2 columns):\n",
      "Country Name    68 non-null object\n",
      "2000            68 non-null float64\n",
      "dtypes: float64(1), object(1)\n",
      "memory usage: 1.2+ KB\n"
     ]
    }
   ],
   "source": [
    "# Looking at the null values and data types \n",
    "gdp_pc00.info()"
   ]
  },
  {
   "cell_type": "code",
   "execution_count": 106,
   "metadata": {},
   "outputs": [],
   "source": [
    "# Renaming the column to gdp per capita \n",
    "gdp_pc00 = gdp_pc00.rename(columns={'2000' : 'gdp_per_cap00'})"
   ]
  },
  {
   "cell_type": "code",
   "execution_count": 107,
   "metadata": {},
   "outputs": [],
   "source": [
    "# Reading in my data about resource rents as proportion of gdp \n",
    "resources = pd.read_csv('./aid_data/gdp/resource_rents.csv')"
   ]
  },
  {
   "cell_type": "code",
   "execution_count": 108,
   "metadata": {},
   "outputs": [
    {
     "data": {
      "text/html": [
       "<div>\n",
       "<style scoped>\n",
       "    .dataframe tbody tr th:only-of-type {\n",
       "        vertical-align: middle;\n",
       "    }\n",
       "\n",
       "    .dataframe tbody tr th {\n",
       "        vertical-align: top;\n",
       "    }\n",
       "\n",
       "    .dataframe thead th {\n",
       "        text-align: right;\n",
       "    }\n",
       "</style>\n",
       "<table border=\"1\" class=\"dataframe\">\n",
       "  <thead>\n",
       "    <tr style=\"text-align: right;\">\n",
       "      <th></th>\n",
       "      <th>Country Name</th>\n",
       "      <th>2014</th>\n",
       "    </tr>\n",
       "  </thead>\n",
       "  <tbody>\n",
       "    <tr>\n",
       "      <th>0</th>\n",
       "      <td>Angola</td>\n",
       "      <td>23.381930</td>\n",
       "    </tr>\n",
       "    <tr>\n",
       "      <th>1</th>\n",
       "      <td>United Arab Emirates</td>\n",
       "      <td>24.249507</td>\n",
       "    </tr>\n",
       "    <tr>\n",
       "      <th>2</th>\n",
       "      <td>Burundi</td>\n",
       "      <td>17.033314</td>\n",
       "    </tr>\n",
       "    <tr>\n",
       "      <th>3</th>\n",
       "      <td>Benin</td>\n",
       "      <td>4.872945</td>\n",
       "    </tr>\n",
       "    <tr>\n",
       "      <th>4</th>\n",
       "      <td>Burkina Faso</td>\n",
       "      <td>16.981603</td>\n",
       "    </tr>\n",
       "  </tbody>\n",
       "</table>\n",
       "</div>"
      ],
      "text/plain": [
       "           Country Name       2014\n",
       "0                Angola  23.381930\n",
       "1  United Arab Emirates  24.249507\n",
       "2               Burundi  17.033314\n",
       "3                 Benin   4.872945\n",
       "4          Burkina Faso  16.981603"
      ]
     },
     "execution_count": 108,
     "metadata": {},
     "output_type": "execute_result"
    }
   ],
   "source": [
    "# Looking at the data frame \n",
    "resources.head()"
   ]
  },
  {
   "cell_type": "code",
   "execution_count": 109,
   "metadata": {},
   "outputs": [
    {
     "name": "stdout",
     "output_type": "stream",
     "text": [
      "<class 'pandas.core.frame.DataFrame'>\n",
      "RangeIndex: 68 entries, 0 to 67\n",
      "Data columns (total 2 columns):\n",
      "Country Name    68 non-null object\n",
      "2014            68 non-null float64\n",
      "dtypes: float64(1), object(1)\n",
      "memory usage: 1.2+ KB\n"
     ]
    }
   ],
   "source": [
    "# Looking at the data types and null values \n",
    "resources.info()"
   ]
  },
  {
   "cell_type": "code",
   "execution_count": 110,
   "metadata": {},
   "outputs": [],
   "source": [
    "# Renaming the column for resource rents \n",
    "resources = resources.rename(columns={'2014' : 'resource_rents'})"
   ]
  },
  {
   "cell_type": "code",
   "execution_count": 111,
   "metadata": {},
   "outputs": [
    {
     "data": {
      "text/html": [
       "<div>\n",
       "<style scoped>\n",
       "    .dataframe tbody tr th:only-of-type {\n",
       "        vertical-align: middle;\n",
       "    }\n",
       "\n",
       "    .dataframe tbody tr th {\n",
       "        vertical-align: top;\n",
       "    }\n",
       "\n",
       "    .dataframe thead th {\n",
       "        text-align: right;\n",
       "    }\n",
       "</style>\n",
       "<table border=\"1\" class=\"dataframe\">\n",
       "  <thead>\n",
       "    <tr style=\"text-align: right;\">\n",
       "      <th></th>\n",
       "      <th>Country Name</th>\n",
       "      <th>resource_rents</th>\n",
       "    </tr>\n",
       "  </thead>\n",
       "  <tbody>\n",
       "    <tr>\n",
       "      <th>0</th>\n",
       "      <td>Angola</td>\n",
       "      <td>23.381930</td>\n",
       "    </tr>\n",
       "    <tr>\n",
       "      <th>1</th>\n",
       "      <td>United Arab Emirates</td>\n",
       "      <td>24.249507</td>\n",
       "    </tr>\n",
       "    <tr>\n",
       "      <th>2</th>\n",
       "      <td>Burundi</td>\n",
       "      <td>17.033314</td>\n",
       "    </tr>\n",
       "    <tr>\n",
       "      <th>3</th>\n",
       "      <td>Benin</td>\n",
       "      <td>4.872945</td>\n",
       "    </tr>\n",
       "    <tr>\n",
       "      <th>4</th>\n",
       "      <td>Burkina Faso</td>\n",
       "      <td>16.981603</td>\n",
       "    </tr>\n",
       "  </tbody>\n",
       "</table>\n",
       "</div>"
      ],
      "text/plain": [
       "           Country Name  resource_rents\n",
       "0                Angola       23.381930\n",
       "1  United Arab Emirates       24.249507\n",
       "2               Burundi       17.033314\n",
       "3                 Benin        4.872945\n",
       "4          Burkina Faso       16.981603"
      ]
     },
     "execution_count": 111,
     "metadata": {},
     "output_type": "execute_result"
    }
   ],
   "source": [
    "# Checking to see if the columns changed \n",
    "resources.head()"
   ]
  },
  {
   "cell_type": "code",
   "execution_count": 112,
   "metadata": {},
   "outputs": [],
   "source": [
    "# Reading in population data \n",
    "population = pd.read_csv('./aid_data/gdp/population.csv')"
   ]
  },
  {
   "cell_type": "code",
   "execution_count": 113,
   "metadata": {},
   "outputs": [
    {
     "data": {
      "text/html": [
       "<div>\n",
       "<style scoped>\n",
       "    .dataframe tbody tr th:only-of-type {\n",
       "        vertical-align: middle;\n",
       "    }\n",
       "\n",
       "    .dataframe tbody tr th {\n",
       "        vertical-align: top;\n",
       "    }\n",
       "\n",
       "    .dataframe thead th {\n",
       "        text-align: right;\n",
       "    }\n",
       "</style>\n",
       "<table border=\"1\" class=\"dataframe\">\n",
       "  <thead>\n",
       "    <tr style=\"text-align: right;\">\n",
       "      <th></th>\n",
       "      <th>Country Name</th>\n",
       "      <th>2014</th>\n",
       "    </tr>\n",
       "  </thead>\n",
       "  <tbody>\n",
       "    <tr>\n",
       "      <th>0</th>\n",
       "      <td>Angola</td>\n",
       "      <td>26941779</td>\n",
       "    </tr>\n",
       "    <tr>\n",
       "      <th>1</th>\n",
       "      <td>United Arab Emirates</td>\n",
       "      <td>9214175</td>\n",
       "    </tr>\n",
       "    <tr>\n",
       "      <th>2</th>\n",
       "      <td>Burundi</td>\n",
       "      <td>9844297</td>\n",
       "    </tr>\n",
       "    <tr>\n",
       "      <th>3</th>\n",
       "      <td>Benin</td>\n",
       "      <td>10286842</td>\n",
       "    </tr>\n",
       "    <tr>\n",
       "      <th>4</th>\n",
       "      <td>Burkina Faso</td>\n",
       "      <td>17586017</td>\n",
       "    </tr>\n",
       "  </tbody>\n",
       "</table>\n",
       "</div>"
      ],
      "text/plain": [
       "           Country Name      2014\n",
       "0                Angola  26941779\n",
       "1  United Arab Emirates   9214175\n",
       "2               Burundi   9844297\n",
       "3                 Benin  10286842\n",
       "4          Burkina Faso  17586017"
      ]
     },
     "execution_count": 113,
     "metadata": {},
     "output_type": "execute_result"
    }
   ],
   "source": [
    "# Looking at my data frame \n",
    "population.head()"
   ]
  },
  {
   "cell_type": "code",
   "execution_count": 114,
   "metadata": {},
   "outputs": [
    {
     "name": "stdout",
     "output_type": "stream",
     "text": [
      "<class 'pandas.core.frame.DataFrame'>\n",
      "RangeIndex: 68 entries, 0 to 67\n",
      "Data columns (total 2 columns):\n",
      "Country Name    68 non-null object\n",
      "2014            68 non-null int64\n",
      "dtypes: int64(1), object(1)\n",
      "memory usage: 1.2+ KB\n"
     ]
    }
   ],
   "source": [
    "# Looking at the null values and data types \n",
    "population.info()"
   ]
  },
  {
   "cell_type": "code",
   "execution_count": 115,
   "metadata": {},
   "outputs": [],
   "source": [
    "# Renaming the columns \n",
    "population = population.rename(columns={'2014' : 'population'})"
   ]
  },
  {
   "cell_type": "code",
   "execution_count": 116,
   "metadata": {},
   "outputs": [],
   "source": [
    "# Reading in debt to gdp data \n",
    "debt_to_gdp = pd.read_csv('./aid_data/gdp/debt_to_gdp.csv', encoding='latin-1')"
   ]
  },
  {
   "cell_type": "code",
   "execution_count": 117,
   "metadata": {},
   "outputs": [
    {
     "data": {
      "text/html": [
       "<div>\n",
       "<style scoped>\n",
       "    .dataframe tbody tr th:only-of-type {\n",
       "        vertical-align: middle;\n",
       "    }\n",
       "\n",
       "    .dataframe tbody tr th {\n",
       "        vertical-align: top;\n",
       "    }\n",
       "\n",
       "    .dataframe thead th {\n",
       "        text-align: right;\n",
       "    }\n",
       "</style>\n",
       "<table border=\"1\" class=\"dataframe\">\n",
       "  <thead>\n",
       "    <tr style=\"text-align: right;\">\n",
       "      <th></th>\n",
       "      <th>Country</th>\n",
       "      <th>debt_to_gdp</th>\n",
       "    </tr>\n",
       "  </thead>\n",
       "  <tbody>\n",
       "    <tr>\n",
       "      <th>0</th>\n",
       "      <td>Algeria</td>\n",
       "      <td>7.673</td>\n",
       "    </tr>\n",
       "    <tr>\n",
       "      <th>1</th>\n",
       "      <td>Angola</td>\n",
       "      <td>40.676</td>\n",
       "    </tr>\n",
       "    <tr>\n",
       "      <th>2</th>\n",
       "      <td>Bahrain</td>\n",
       "      <td>44.397</td>\n",
       "    </tr>\n",
       "    <tr>\n",
       "      <th>3</th>\n",
       "      <td>Benin</td>\n",
       "      <td>30.452</td>\n",
       "    </tr>\n",
       "    <tr>\n",
       "      <th>4</th>\n",
       "      <td>Botswana</td>\n",
       "      <td>17.346</td>\n",
       "    </tr>\n",
       "  </tbody>\n",
       "</table>\n",
       "</div>"
      ],
      "text/plain": [
       "    Country  debt_to_gdp\n",
       "0   Algeria        7.673\n",
       "1    Angola       40.676\n",
       "2   Bahrain       44.397\n",
       "3     Benin       30.452\n",
       "4  Botswana       17.346"
      ]
     },
     "execution_count": 117,
     "metadata": {},
     "output_type": "execute_result"
    }
   ],
   "source": [
    "# Looking at my data frame \n",
    "debt_to_gdp.head()"
   ]
  },
  {
   "cell_type": "code",
   "execution_count": 118,
   "metadata": {},
   "outputs": [
    {
     "name": "stdout",
     "output_type": "stream",
     "text": [
      "<class 'pandas.core.frame.DataFrame'>\n",
      "RangeIndex: 68 entries, 0 to 67\n",
      "Data columns (total 2 columns):\n",
      "Country        68 non-null object\n",
      "debt_to_gdp    68 non-null float64\n",
      "dtypes: float64(1), object(1)\n",
      "memory usage: 1.2+ KB\n"
     ]
    }
   ],
   "source": [
    "# Checking null values and data types \n",
    "debt_to_gdp.info()"
   ]
  },
  {
   "cell_type": "code",
   "execution_count": 119,
   "metadata": {},
   "outputs": [],
   "source": [
    "# Renaming country column \n",
    "debt_to_gdp = debt_to_gdp.rename(columns={'Country' : 'Country Name'})"
   ]
  },
  {
   "cell_type": "code",
   "execution_count": 120,
   "metadata": {},
   "outputs": [
    {
     "data": {
      "text/plain": [
       "array(['Algeria', 'Angola', 'Bahrain', 'Benin', 'Botswana',\n",
       "       'Burkina Faso', 'Burundi', 'Cabo Verde', 'Cameroon',\n",
       "       'Central African Republic', 'Chad', 'Comoros',\n",
       "       'Democratic Republic of the Congo', 'Republic of Congo',\n",
       "       \"Côte d'Ivoire\", 'Djibouti', 'Egypt', 'Equatorial Guinea',\n",
       "       'Eritrea', 'Ethiopia', 'Gabon', 'The Gambia', 'Ghana', 'Guinea',\n",
       "       'Guinea-Bissau', 'Islamic Republic of Iran', 'Iraq', 'Israel',\n",
       "       'Jordan', 'Kenya', 'Kuwait', 'Lebanon', 'Lesotho', 'Liberia',\n",
       "       'Libya', 'Madagascar', 'Malawi', 'Mali', 'Mauritania', 'Mauritius',\n",
       "       'Morocco', 'Mozambique', 'Namibia', 'Niger', 'Nigeria', 'Oman',\n",
       "       'Qatar', 'Rwanda', 'São Tomé and Príncipe', 'Saudi Arabia',\n",
       "       'Senegal', 'Sierra Leone', 'Somalia', 'South Africa',\n",
       "       'South Sudan', 'Sudan', 'Swaziland', 'Syria', 'Tanzania', 'Togo',\n",
       "       'Tunisia', 'Turkey', 'Uganda', 'United Arab Emirates', 'Yemen',\n",
       "       'Zambia', 'Zimbabwe', 'Palestine'], dtype=object)"
      ]
     },
     "execution_count": 120,
     "metadata": {},
     "output_type": "execute_result"
    }
   ],
   "source": [
    "# Looking at unique country names \n",
    "debt_to_gdp['Country Name'].unique()"
   ]
  },
  {
   "cell_type": "code",
   "execution_count": 121,
   "metadata": {},
   "outputs": [],
   "source": [
    "# Renaming countries for consistency \n",
    "debt_to_gdp.replace({'Country Name' : {\"Côte d'Ivoire\" : \"Cote D'Ivoire\",\n",
    "                    'Democratic Republic of the Congo' : 'Democratic Republic of Congo',\n",
    "                    'Eswatini' : 'Swaziland',\n",
    "                    'Republic of Congo' : 'Congo',\n",
    "                    'The Gambia' : 'Gambia',\n",
    "                    'Islamic Republic of Iran' : 'Iran',\n",
    "                    'São Tomé and Príncipe' : 'Sao Tome and Principe'                \n",
    "                    }}, inplace=True)"
   ]
  },
  {
   "cell_type": "code",
   "execution_count": 122,
   "metadata": {},
   "outputs": [
    {
     "data": {
      "text/plain": [
       "array(['Algeria', 'Angola', 'Bahrain', 'Benin', 'Botswana',\n",
       "       'Burkina Faso', 'Burundi', 'Cabo Verde', 'Cameroon',\n",
       "       'Central African Republic', 'Chad', 'Comoros',\n",
       "       'Democratic Republic of Congo', 'Congo', \"Cote D'Ivoire\",\n",
       "       'Djibouti', 'Egypt', 'Equatorial Guinea', 'Eritrea', 'Ethiopia',\n",
       "       'Gabon', 'Gambia', 'Ghana', 'Guinea', 'Guinea-Bissau', 'Iran',\n",
       "       'Iraq', 'Israel', 'Jordan', 'Kenya', 'Kuwait', 'Lebanon',\n",
       "       'Lesotho', 'Liberia', 'Libya', 'Madagascar', 'Malawi', 'Mali',\n",
       "       'Mauritania', 'Mauritius', 'Morocco', 'Mozambique', 'Namibia',\n",
       "       'Niger', 'Nigeria', 'Oman', 'Qatar', 'Rwanda',\n",
       "       'Sao Tome and Principe', 'Saudi Arabia', 'Senegal', 'Sierra Leone',\n",
       "       'Somalia', 'South Africa', 'South Sudan', 'Sudan', 'Swaziland',\n",
       "       'Syria', 'Tanzania', 'Togo', 'Tunisia', 'Turkey', 'Uganda',\n",
       "       'United Arab Emirates', 'Yemen', 'Zambia', 'Zimbabwe', 'Palestine'],\n",
       "      dtype=object)"
      ]
     },
     "execution_count": 122,
     "metadata": {},
     "output_type": "execute_result"
    }
   ],
   "source": [
    "# Looking at the unique country names \n",
    "debt_to_gdp['Country Name'].unique()"
   ]
  },
  {
   "cell_type": "code",
   "execution_count": 123,
   "metadata": {},
   "outputs": [],
   "source": [
    "# Merging the population and gdp per capita data together \n",
    "wb_info = pd.merge(population, gdp_pc14, on=['Country Name'])"
   ]
  },
  {
   "cell_type": "code",
   "execution_count": 124,
   "metadata": {},
   "outputs": [],
   "source": [
    "# Merging resources data with other world bank info \n",
    "wb_info = pd.merge(wb_info, resources, on=['Country Name'])"
   ]
  },
  {
   "cell_type": "code",
   "execution_count": 125,
   "metadata": {},
   "outputs": [],
   "source": [
    "wb_info = pd.merge(wb_info, gdp_pc00, on=['Country Name'])"
   ]
  },
  {
   "cell_type": "code",
   "execution_count": 126,
   "metadata": {},
   "outputs": [
    {
     "data": {
      "text/plain": [
       "(68, 5)"
      ]
     },
     "execution_count": 126,
     "metadata": {},
     "output_type": "execute_result"
    }
   ],
   "source": [
    "# Looking at the shape of my data frame \n",
    "wb_info.shape"
   ]
  },
  {
   "cell_type": "code",
   "execution_count": 127,
   "metadata": {},
   "outputs": [
    {
     "data": {
      "text/plain": [
       "array(['Angola', 'United Arab Emirates', 'Burundi', 'Benin',\n",
       "       'Burkina Faso', 'Bahrain', 'Botswana', 'Central African Republic',\n",
       "       \"Cote d'Ivoire\", 'Cameroon', 'Congo, Dem. Rep.', 'Congo, Rep.',\n",
       "       'Comoros', 'Cabo Verde', 'Djibouti', 'Algeria', 'Egypt, Arab Rep.',\n",
       "       'Eritrea', 'Ethiopia', 'Gabon', 'Ghana', 'Guinea', 'Gambia, The',\n",
       "       'Guinea-Bissau', 'Equatorial Guinea', 'Iran, Islamic Rep.', 'Iraq',\n",
       "       'Israel', 'Jordan', 'Kenya', 'Kuwait', 'Lebanon', 'Liberia',\n",
       "       'Libya', 'Lesotho', 'Morocco', 'Madagascar', 'Mali', 'Mozambique',\n",
       "       'Mauritania', 'Mauritius', 'Malawi', 'Namibia', 'Niger', 'Nigeria',\n",
       "       'Oman', 'West Bank and Gaza', 'Qatar', 'Rwanda', 'Saudi Arabia',\n",
       "       'Sudan', 'Senegal', 'Sierra Leone', 'Somalia', 'South Sudan',\n",
       "       'Sao Tome and Principe', 'Eswatini', 'Syrian Arab Republic',\n",
       "       'Chad', 'Togo', 'Tunisia', 'Turkey', 'Tanzania', 'Uganda',\n",
       "       'Yemen, Rep.', 'South Africa', 'Zambia', 'Zimbabwe'], dtype=object)"
      ]
     },
     "execution_count": 127,
     "metadata": {},
     "output_type": "execute_result"
    }
   ],
   "source": [
    "# Looking unique country names \n",
    "wb_info['Country Name'].unique()"
   ]
  },
  {
   "cell_type": "code",
   "execution_count": 128,
   "metadata": {},
   "outputs": [],
   "source": [
    "# Changing the country names for consistency \n",
    "wb_info.replace({'Country Name' : {\"Cote d'Ivoire\" : \"Cote D'Ivoire\",\n",
    "                    'Congo, Dem. Rep.' : 'Democratic Republic of Congo',\n",
    "                    'Eswatini' : 'Swaziland',\n",
    "                    'Congo, Rep.' : 'Congo',\n",
    "                    'Gambia, The' : 'Gambia',\n",
    "                    'Iran, Islamic Rep.' : 'Iran',\n",
    "                    'Syrian Arab Republic': 'Syria',\n",
    "                    'Egypt, Arab Rep.' : 'Egypt',\n",
    "                    'West Bank and Gaza' : 'Palestine',\n",
    "                    'Yemen, Rep.' : 'Yemen'}}, inplace=True)"
   ]
  },
  {
   "cell_type": "code",
   "execution_count": 129,
   "metadata": {},
   "outputs": [],
   "source": [
    "# Merging debt to gdp data into data frame \n",
    "wb_info = pd.merge(wb_info, debt_to_gdp, on=['Country Name'], how='outer')"
   ]
  },
  {
   "cell_type": "code",
   "execution_count": 130,
   "metadata": {},
   "outputs": [
    {
     "data": {
      "text/html": [
       "<div>\n",
       "<style scoped>\n",
       "    .dataframe tbody tr th:only-of-type {\n",
       "        vertical-align: middle;\n",
       "    }\n",
       "\n",
       "    .dataframe tbody tr th {\n",
       "        vertical-align: top;\n",
       "    }\n",
       "\n",
       "    .dataframe thead th {\n",
       "        text-align: right;\n",
       "    }\n",
       "</style>\n",
       "<table border=\"1\" class=\"dataframe\">\n",
       "  <thead>\n",
       "    <tr style=\"text-align: right;\">\n",
       "      <th></th>\n",
       "      <th>Country Name</th>\n",
       "      <th>population</th>\n",
       "      <th>gdp_per_cap14</th>\n",
       "      <th>resource_rents</th>\n",
       "      <th>gdp_per_cap00</th>\n",
       "      <th>debt_to_gdp</th>\n",
       "    </tr>\n",
       "  </thead>\n",
       "  <tbody>\n",
       "    <tr>\n",
       "      <th>0</th>\n",
       "      <td>Angola</td>\n",
       "      <td>26941779</td>\n",
       "      <td>3843.198241</td>\n",
       "      <td>23.381930</td>\n",
       "      <td>556.836318</td>\n",
       "      <td>40.676</td>\n",
       "    </tr>\n",
       "    <tr>\n",
       "      <th>1</th>\n",
       "      <td>United Arab Emirates</td>\n",
       "      <td>9214175</td>\n",
       "      <td>38495.046350</td>\n",
       "      <td>24.249507</td>\n",
       "      <td>33291.419370</td>\n",
       "      <td>15.537</td>\n",
       "    </tr>\n",
       "    <tr>\n",
       "      <th>2</th>\n",
       "      <td>Burundi</td>\n",
       "      <td>9844297</td>\n",
       "      <td>245.326739</td>\n",
       "      <td>17.033314</td>\n",
       "      <td>136.463971</td>\n",
       "      <td>35.772</td>\n",
       "    </tr>\n",
       "    <tr>\n",
       "      <th>3</th>\n",
       "      <td>Benin</td>\n",
       "      <td>10286842</td>\n",
       "      <td>834.443596</td>\n",
       "      <td>4.872945</td>\n",
       "      <td>374.192394</td>\n",
       "      <td>30.452</td>\n",
       "    </tr>\n",
       "    <tr>\n",
       "      <th>4</th>\n",
       "      <td>Burkina Faso</td>\n",
       "      <td>17586017</td>\n",
       "      <td>639.708096</td>\n",
       "      <td>16.981603</td>\n",
       "      <td>226.475981</td>\n",
       "      <td>30.387</td>\n",
       "    </tr>\n",
       "  </tbody>\n",
       "</table>\n",
       "</div>"
      ],
      "text/plain": [
       "           Country Name  population  gdp_per_cap14  resource_rents  \\\n",
       "0                Angola    26941779    3843.198241       23.381930   \n",
       "1  United Arab Emirates     9214175   38495.046350       24.249507   \n",
       "2               Burundi     9844297     245.326739       17.033314   \n",
       "3                 Benin    10286842     834.443596        4.872945   \n",
       "4          Burkina Faso    17586017     639.708096       16.981603   \n",
       "\n",
       "   gdp_per_cap00  debt_to_gdp  \n",
       "0     556.836318       40.676  \n",
       "1   33291.419370       15.537  \n",
       "2     136.463971       35.772  \n",
       "3     374.192394       30.452  \n",
       "4     226.475981       30.387  "
      ]
     },
     "execution_count": 130,
     "metadata": {},
     "output_type": "execute_result"
    }
   ],
   "source": [
    "# Looking at my combined data frame \n",
    "wb_info.head()"
   ]
  },
  {
   "cell_type": "code",
   "execution_count": 131,
   "metadata": {},
   "outputs": [
    {
     "name": "stdout",
     "output_type": "stream",
     "text": [
      "<class 'pandas.core.frame.DataFrame'>\n",
      "Int64Index: 68 entries, 0 to 67\n",
      "Data columns (total 6 columns):\n",
      "Country Name      68 non-null object\n",
      "population        68 non-null int64\n",
      "gdp_per_cap14     68 non-null float64\n",
      "resource_rents    68 non-null float64\n",
      "gdp_per_cap00     68 non-null float64\n",
      "debt_to_gdp       68 non-null float64\n",
      "dtypes: float64(4), int64(1), object(1)\n",
      "memory usage: 3.7+ KB\n"
     ]
    }
   ],
   "source": [
    "# Looking for null values and data types \n",
    "wb_info.info()"
   ]
  },
  {
   "cell_type": "code",
   "execution_count": 132,
   "metadata": {},
   "outputs": [],
   "source": [
    "# Renaming country column \n",
    "wb_info = wb_info.rename(columns={'Country Name' : 'country'})"
   ]
  },
  {
   "cell_type": "code",
   "execution_count": 133,
   "metadata": {},
   "outputs": [
    {
     "data": {
      "text/html": [
       "<div>\n",
       "<style scoped>\n",
       "    .dataframe tbody tr th:only-of-type {\n",
       "        vertical-align: middle;\n",
       "    }\n",
       "\n",
       "    .dataframe tbody tr th {\n",
       "        vertical-align: top;\n",
       "    }\n",
       "\n",
       "    .dataframe thead th {\n",
       "        text-align: right;\n",
       "    }\n",
       "</style>\n",
       "<table border=\"1\" class=\"dataframe\">\n",
       "  <thead>\n",
       "    <tr style=\"text-align: right;\">\n",
       "      <th></th>\n",
       "      <th>country</th>\n",
       "      <th>population</th>\n",
       "      <th>gdp_per_cap14</th>\n",
       "      <th>resource_rents</th>\n",
       "      <th>gdp_per_cap00</th>\n",
       "      <th>debt_to_gdp</th>\n",
       "    </tr>\n",
       "  </thead>\n",
       "  <tbody>\n",
       "    <tr>\n",
       "      <th>0</th>\n",
       "      <td>Angola</td>\n",
       "      <td>26941779</td>\n",
       "      <td>3843.198241</td>\n",
       "      <td>23.381930</td>\n",
       "      <td>556.836318</td>\n",
       "      <td>40.676</td>\n",
       "    </tr>\n",
       "    <tr>\n",
       "      <th>1</th>\n",
       "      <td>United Arab Emirates</td>\n",
       "      <td>9214175</td>\n",
       "      <td>38495.046350</td>\n",
       "      <td>24.249507</td>\n",
       "      <td>33291.419370</td>\n",
       "      <td>15.537</td>\n",
       "    </tr>\n",
       "    <tr>\n",
       "      <th>2</th>\n",
       "      <td>Burundi</td>\n",
       "      <td>9844297</td>\n",
       "      <td>245.326739</td>\n",
       "      <td>17.033314</td>\n",
       "      <td>136.463971</td>\n",
       "      <td>35.772</td>\n",
       "    </tr>\n",
       "    <tr>\n",
       "      <th>3</th>\n",
       "      <td>Benin</td>\n",
       "      <td>10286842</td>\n",
       "      <td>834.443596</td>\n",
       "      <td>4.872945</td>\n",
       "      <td>374.192394</td>\n",
       "      <td>30.452</td>\n",
       "    </tr>\n",
       "    <tr>\n",
       "      <th>4</th>\n",
       "      <td>Burkina Faso</td>\n",
       "      <td>17586017</td>\n",
       "      <td>639.708096</td>\n",
       "      <td>16.981603</td>\n",
       "      <td>226.475981</td>\n",
       "      <td>30.387</td>\n",
       "    </tr>\n",
       "  </tbody>\n",
       "</table>\n",
       "</div>"
      ],
      "text/plain": [
       "                country  population  gdp_per_cap14  resource_rents  \\\n",
       "0                Angola    26941779    3843.198241       23.381930   \n",
       "1  United Arab Emirates     9214175   38495.046350       24.249507   \n",
       "2               Burundi     9844297     245.326739       17.033314   \n",
       "3                 Benin    10286842     834.443596        4.872945   \n",
       "4          Burkina Faso    17586017     639.708096       16.981603   \n",
       "\n",
       "   gdp_per_cap00  debt_to_gdp  \n",
       "0     556.836318       40.676  \n",
       "1   33291.419370       15.537  \n",
       "2     136.463971       35.772  \n",
       "3     374.192394       30.452  \n",
       "4     226.475981       30.387  "
      ]
     },
     "execution_count": 133,
     "metadata": {},
     "output_type": "execute_result"
    }
   ],
   "source": [
    "# Looking at my data frame\n",
    "wb_info.head()"
   ]
  },
  {
   "cell_type": "code",
   "execution_count": 134,
   "metadata": {},
   "outputs": [],
   "source": [
    "# Saving my info to a csv\n",
    "wb_info.to_csv('./aid_data/gdp/wb_info.csv', index=False)"
   ]
  },
  {
   "cell_type": "code",
   "execution_count": null,
   "metadata": {},
   "outputs": [],
   "source": []
  }
 ],
 "metadata": {
  "kernelspec": {
   "display_name": "Python 3",
   "language": "python",
   "name": "python3"
  },
  "language_info": {
   "codemirror_mode": {
    "name": "ipython",
    "version": 3
   },
   "file_extension": ".py",
   "mimetype": "text/x-python",
   "name": "python",
   "nbconvert_exporter": "python",
   "pygments_lexer": "ipython3",
   "version": "3.7.6"
  }
 },
 "nbformat": 4,
 "nbformat_minor": 4
}
