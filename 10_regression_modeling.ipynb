{
 "cells": [
  {
   "cell_type": "markdown",
   "metadata": {},
   "source": [
    "# Classification Modeling \n",
    "\n",
    "I tried classification modeling without a lot of success. "
   ]
  },
  {
   "cell_type": "code",
   "execution_count": 121,
   "metadata": {},
   "outputs": [],
   "source": [
    "# Imported libraries for data manipulation, analysis, and visualization\n",
    "import numpy as np\n",
    "import pandas as pd\n",
    "import matplotlib.pyplot as plt\n",
    "import seaborn as sns\n",
    "from sklearn.linear_model import LinearRegression\n",
    "from sklearn.model_selection import train_test_split, cross_val_score\n",
    "from sklearn.metrics import r2_score\n",
    "from sklearn.preprocessing import StandardScaler\n",
    "from sklearn.ensemble import BaggingRegressor, RandomForestRegressor, ExtraTreesRegressor \n",
    "%matplotlib inline"
   ]
  },
  {
   "cell_type": "code",
   "execution_count": 122,
   "metadata": {},
   "outputs": [],
   "source": [
    "# Reading in data\n",
    "aid = pd.read_csv('./aid_data/combined_data/aid_sums.csv')"
   ]
  },
  {
   "cell_type": "code",
   "execution_count": 123,
   "metadata": {},
   "outputs": [
    {
     "data": {
      "text/html": [
       "<div>\n",
       "<style scoped>\n",
       "    .dataframe tbody tr th:only-of-type {\n",
       "        vertical-align: middle;\n",
       "    }\n",
       "\n",
       "    .dataframe tbody tr th {\n",
       "        vertical-align: top;\n",
       "    }\n",
       "\n",
       "    .dataframe thead th {\n",
       "        text-align: right;\n",
       "    }\n",
       "</style>\n",
       "<table border=\"1\" class=\"dataframe\">\n",
       "  <thead>\n",
       "    <tr style=\"text-align: right;\">\n",
       "      <th></th>\n",
       "      <th>country</th>\n",
       "      <th>world_bank_totals</th>\n",
       "      <th>chinese_aid_totals</th>\n",
       "      <th>usaid_aid</th>\n",
       "      <th>hdi_00</th>\n",
       "      <th>hdi_14</th>\n",
       "      <th>pr_score00</th>\n",
       "      <th>cl_score00</th>\n",
       "      <th>fh_status00</th>\n",
       "      <th>pr_score14</th>\n",
       "      <th>...</th>\n",
       "      <th>resource_rents</th>\n",
       "      <th>gdp_per_cap00</th>\n",
       "      <th>debt_to_gdp</th>\n",
       "      <th>fh_change</th>\n",
       "      <th>pc_gdp_change</th>\n",
       "      <th>hdi_change</th>\n",
       "      <th>world_bank_pc</th>\n",
       "      <th>chinese_aid_pc</th>\n",
       "      <th>usaid_pc</th>\n",
       "      <th>chinese_aid_total_max</th>\n",
       "    </tr>\n",
       "  </thead>\n",
       "  <tbody>\n",
       "    <tr>\n",
       "      <th>0</th>\n",
       "      <td>Algeria</td>\n",
       "      <td>4.380505e+08</td>\n",
       "      <td>5.880901e+08</td>\n",
       "      <td>2.476621e+08</td>\n",
       "      <td>0.646</td>\n",
       "      <td>0.749</td>\n",
       "      <td>6.0</td>\n",
       "      <td>5.0</td>\n",
       "      <td>NF</td>\n",
       "      <td>6.0</td>\n",
       "      <td>...</td>\n",
       "      <td>24.602722</td>\n",
       "      <td>1764.888222</td>\n",
       "      <td>7.673</td>\n",
       "      <td>0.0</td>\n",
       "      <td>2937.203478</td>\n",
       "      <td>0.103</td>\n",
       "      <td>11.254086</td>\n",
       "      <td>15.108798</td>\n",
       "      <td>6.362761</td>\n",
       "      <td>1</td>\n",
       "    </tr>\n",
       "    <tr>\n",
       "      <th>1</th>\n",
       "      <td>Angola</td>\n",
       "      <td>8.030873e+08</td>\n",
       "      <td>3.864233e+10</td>\n",
       "      <td>2.939893e+09</td>\n",
       "      <td>0.394</td>\n",
       "      <td>0.557</td>\n",
       "      <td>6.0</td>\n",
       "      <td>6.0</td>\n",
       "      <td>NF</td>\n",
       "      <td>6.0</td>\n",
       "      <td>...</td>\n",
       "      <td>23.381930</td>\n",
       "      <td>556.836318</td>\n",
       "      <td>40.676</td>\n",
       "      <td>-1.0</td>\n",
       "      <td>3286.361923</td>\n",
       "      <td>0.163</td>\n",
       "      <td>29.808251</td>\n",
       "      <td>1434.290317</td>\n",
       "      <td>109.120217</td>\n",
       "      <td>1</td>\n",
       "    </tr>\n",
       "    <tr>\n",
       "      <th>2</th>\n",
       "      <td>Benin</td>\n",
       "      <td>1.107820e+09</td>\n",
       "      <td>1.155924e+09</td>\n",
       "      <td>1.785451e+09</td>\n",
       "      <td>0.398</td>\n",
       "      <td>0.505</td>\n",
       "      <td>2.0</td>\n",
       "      <td>2.0</td>\n",
       "      <td>F</td>\n",
       "      <td>2.0</td>\n",
       "      <td>...</td>\n",
       "      <td>4.872945</td>\n",
       "      <td>374.192394</td>\n",
       "      <td>30.452</td>\n",
       "      <td>0.0</td>\n",
       "      <td>460.251202</td>\n",
       "      <td>0.107</td>\n",
       "      <td>107.692898</td>\n",
       "      <td>112.369168</td>\n",
       "      <td>173.566471</td>\n",
       "      <td>0</td>\n",
       "    </tr>\n",
       "    <tr>\n",
       "      <th>3</th>\n",
       "      <td>Botswana</td>\n",
       "      <td>3.858719e+08</td>\n",
       "      <td>2.563158e+09</td>\n",
       "      <td>2.141447e+09</td>\n",
       "      <td>0.578</td>\n",
       "      <td>0.709</td>\n",
       "      <td>2.0</td>\n",
       "      <td>2.0</td>\n",
       "      <td>F</td>\n",
       "      <td>3.0</td>\n",
       "      <td>...</td>\n",
       "      <td>2.516289</td>\n",
       "      <td>3522.308678</td>\n",
       "      <td>17.346</td>\n",
       "      <td>1.0</td>\n",
       "      <td>4341.944603</td>\n",
       "      <td>0.131</td>\n",
       "      <td>184.750231</td>\n",
       "      <td>1227.205008</td>\n",
       "      <td>1025.295634</td>\n",
       "      <td>1</td>\n",
       "    </tr>\n",
       "    <tr>\n",
       "      <th>4</th>\n",
       "      <td>Burkina Faso</td>\n",
       "      <td>2.858288e+09</td>\n",
       "      <td>0.000000e+00</td>\n",
       "      <td>2.048434e+09</td>\n",
       "      <td>0.286</td>\n",
       "      <td>0.405</td>\n",
       "      <td>4.0</td>\n",
       "      <td>4.0</td>\n",
       "      <td>PF</td>\n",
       "      <td>6.0</td>\n",
       "      <td>...</td>\n",
       "      <td>16.981603</td>\n",
       "      <td>226.475981</td>\n",
       "      <td>30.387</td>\n",
       "      <td>1.0</td>\n",
       "      <td>413.232114</td>\n",
       "      <td>0.119</td>\n",
       "      <td>162.531851</td>\n",
       "      <td>0.000000</td>\n",
       "      <td>116.480855</td>\n",
       "      <td>0</td>\n",
       "    </tr>\n",
       "  </tbody>\n",
       "</table>\n",
       "<p>5 rows × 25 columns</p>\n",
       "</div>"
      ],
      "text/plain": [
       "        country  world_bank_totals  chinese_aid_totals     usaid_aid  hdi_00  \\\n",
       "0       Algeria       4.380505e+08        5.880901e+08  2.476621e+08   0.646   \n",
       "1        Angola       8.030873e+08        3.864233e+10  2.939893e+09   0.394   \n",
       "2         Benin       1.107820e+09        1.155924e+09  1.785451e+09   0.398   \n",
       "3      Botswana       3.858719e+08        2.563158e+09  2.141447e+09   0.578   \n",
       "4  Burkina Faso       2.858288e+09        0.000000e+00  2.048434e+09   0.286   \n",
       "\n",
       "   hdi_14  pr_score00  cl_score00 fh_status00  pr_score14  ...  \\\n",
       "0   0.749         6.0         5.0          NF         6.0  ...   \n",
       "1   0.557         6.0         6.0          NF         6.0  ...   \n",
       "2   0.505         2.0         2.0           F         2.0  ...   \n",
       "3   0.709         2.0         2.0           F         3.0  ...   \n",
       "4   0.405         4.0         4.0          PF         6.0  ...   \n",
       "\n",
       "   resource_rents gdp_per_cap00  debt_to_gdp  fh_change  pc_gdp_change  \\\n",
       "0       24.602722   1764.888222        7.673        0.0    2937.203478   \n",
       "1       23.381930    556.836318       40.676       -1.0    3286.361923   \n",
       "2        4.872945    374.192394       30.452        0.0     460.251202   \n",
       "3        2.516289   3522.308678       17.346        1.0    4341.944603   \n",
       "4       16.981603    226.475981       30.387        1.0     413.232114   \n",
       "\n",
       "   hdi_change  world_bank_pc  chinese_aid_pc     usaid_pc  \\\n",
       "0       0.103      11.254086       15.108798     6.362761   \n",
       "1       0.163      29.808251     1434.290317   109.120217   \n",
       "2       0.107     107.692898      112.369168   173.566471   \n",
       "3       0.131     184.750231     1227.205008  1025.295634   \n",
       "4       0.119     162.531851        0.000000   116.480855   \n",
       "\n",
       "   chinese_aid_total_max  \n",
       "0                      1  \n",
       "1                      1  \n",
       "2                      0  \n",
       "3                      1  \n",
       "4                      0  \n",
       "\n",
       "[5 rows x 25 columns]"
      ]
     },
     "execution_count": 123,
     "metadata": {},
     "output_type": "execute_result"
    }
   ],
   "source": [
    "# Looking at my data\n",
    "aid.head()"
   ]
  },
  {
   "cell_type": "code",
   "execution_count": 124,
   "metadata": {},
   "outputs": [
    {
     "name": "stdout",
     "output_type": "stream",
     "text": [
      "Index(['country', 'world_bank_totals', 'chinese_aid_totals', 'usaid_aid',\n",
      "       'hdi_00', 'hdi_14', 'pr_score00', 'cl_score00', 'fh_status00',\n",
      "       'pr_score14', 'cl_score14', 'fh_status14', 'cpi_2014', 'population',\n",
      "       'gdp_per_cap14', 'resource_rents', 'gdp_per_cap00', 'debt_to_gdp',\n",
      "       'fh_change', 'pc_gdp_change', 'hdi_change', 'world_bank_pc',\n",
      "       'chinese_aid_pc', 'usaid_pc', 'chinese_aid_total_max'],\n",
      "      dtype='object')\n"
     ]
    }
   ],
   "source": [
    "# Printing out my columns \n",
    "print(aid.columns)"
   ]
  },
  {
   "cell_type": "code",
   "execution_count": 125,
   "metadata": {},
   "outputs": [],
   "source": [
    "# Scaling my features, assigning that as my X variable \n",
    "ss = StandardScaler()\n",
    "X = ss.fit_transform(aid[['hdi_change', 'fh_change', 'resource_rents', 'pc_gdp_change', 'cpi_2014', 'hdi_14', 'pr_score14', 'cl_score14', 'gdp_per_cap14']])"
   ]
  },
  {
   "cell_type": "code",
   "execution_count": 126,
   "metadata": {},
   "outputs": [],
   "source": [
    "# Chinese aid totals is my predicted variable \n",
    "y = aid['chinese_aid_pc']"
   ]
  },
  {
   "cell_type": "markdown",
   "metadata": {},
   "source": [
    "## Linear Regression Model"
   ]
  },
  {
   "cell_type": "code",
   "execution_count": 127,
   "metadata": {},
   "outputs": [
    {
     "data": {
      "text/plain": [
       "LinearRegression(copy_X=True, fit_intercept=True, n_jobs=None, normalize=False)"
      ]
     },
     "execution_count": 127,
     "metadata": {},
     "output_type": "execute_result"
    }
   ],
   "source": [
    "# Train test split and fitting a linear regression model \n",
    "X_train, X_test, y_train, y_test = train_test_split(X, y, random_state=22)\n",
    "lr = LinearRegression()\n",
    "lr.fit(X_train, y_train)"
   ]
  },
  {
   "cell_type": "code",
   "execution_count": 128,
   "metadata": {},
   "outputs": [
    {
     "data": {
      "text/plain": [
       "0.18013500569330487"
      ]
     },
     "execution_count": 128,
     "metadata": {},
     "output_type": "execute_result"
    }
   ],
   "source": [
    "# Training score is not good \n",
    "lr.score(X_train, y_train)"
   ]
  },
  {
   "cell_type": "code",
   "execution_count": 129,
   "metadata": {},
   "outputs": [
    {
     "data": {
      "text/plain": [
       "-1.6022660340505035"
      ]
     },
     "execution_count": 129,
     "metadata": {},
     "output_type": "execute_result"
    }
   ],
   "source": [
    "# Testing score is even worse\n",
    "lr.score(X_test, y_test)"
   ]
  },
  {
   "cell_type": "markdown",
   "metadata": {},
   "source": [
    "## Extra Trees Model"
   ]
  },
  {
   "cell_type": "code",
   "execution_count": 130,
   "metadata": {},
   "outputs": [
    {
     "data": {
      "text/plain": [
       "ExtraTreesRegressor(bootstrap=False, ccp_alpha=0.0, criterion='mse',\n",
       "                    max_depth=None, max_features='auto', max_leaf_nodes=None,\n",
       "                    max_samples=None, min_impurity_decrease=0.0,\n",
       "                    min_impurity_split=None, min_samples_leaf=1,\n",
       "                    min_samples_split=2, min_weight_fraction_leaf=0.0,\n",
       "                    n_estimators=100, n_jobs=None, oob_score=False,\n",
       "                    random_state=None, verbose=0, warm_start=False)"
      ]
     },
     "execution_count": 130,
     "metadata": {},
     "output_type": "execute_result"
    }
   ],
   "source": [
    "# Fitting an extra trees model \n",
    "xt = ExtraTreesRegressor()\n",
    "xt.fit(X_train, y_train)"
   ]
  },
  {
   "cell_type": "code",
   "execution_count": 131,
   "metadata": {},
   "outputs": [
    {
     "data": {
      "text/plain": [
       "1.0"
      ]
     },
     "execution_count": 131,
     "metadata": {},
     "output_type": "execute_result"
    }
   ],
   "source": [
    "# Training score means this is probably overfit\n",
    "xt.score(X_train, y_train)"
   ]
  },
  {
   "cell_type": "code",
   "execution_count": 132,
   "metadata": {},
   "outputs": [
    {
     "data": {
      "text/plain": [
       "-0.998908941820656"
      ]
     },
     "execution_count": 132,
     "metadata": {},
     "output_type": "execute_result"
    }
   ],
   "source": [
    "# Model is overfit, and testing score is not good\n",
    "xt.score(X_test, y_test)"
   ]
  },
  {
   "cell_type": "markdown",
   "metadata": {},
   "source": [
    "## Bagging Regressor "
   ]
  },
  {
   "cell_type": "code",
   "execution_count": 133,
   "metadata": {},
   "outputs": [
    {
     "data": {
      "text/plain": [
       "BaggingRegressor(base_estimator=None, bootstrap=True, bootstrap_features=False,\n",
       "                 max_features=1.0, max_samples=1.0, n_estimators=10,\n",
       "                 n_jobs=None, oob_score=False, random_state=None, verbose=0,\n",
       "                 warm_start=False)"
      ]
     },
     "execution_count": 133,
     "metadata": {},
     "output_type": "execute_result"
    }
   ],
   "source": [
    "# Fitting a Bagging Regressor \n",
    "br = BaggingRegressor()\n",
    "br.fit(X_train, y_train)"
   ]
  },
  {
   "cell_type": "code",
   "execution_count": 134,
   "metadata": {},
   "outputs": [
    {
     "data": {
      "text/plain": [
       "0.5900194029790065"
      ]
     },
     "execution_count": 134,
     "metadata": {},
     "output_type": "execute_result"
    }
   ],
   "source": [
    "# Training score\n",
    "br.score(X_train, y_train)"
   ]
  },
  {
   "cell_type": "code",
   "execution_count": 135,
   "metadata": {},
   "outputs": [
    {
     "data": {
      "text/plain": [
       "-4.208294610147553"
      ]
     },
     "execution_count": 135,
     "metadata": {},
     "output_type": "execute_result"
    }
   ],
   "source": [
    "# Testing score, which is not good \n",
    "br.score(X_test, y_test)"
   ]
  },
  {
   "cell_type": "markdown",
   "metadata": {},
   "source": [
    "## Random Forest Regressor "
   ]
  },
  {
   "cell_type": "code",
   "execution_count": 136,
   "metadata": {},
   "outputs": [
    {
     "data": {
      "text/plain": [
       "RandomForestRegressor(bootstrap=True, ccp_alpha=0.0, criterion='mse',\n",
       "                      max_depth=None, max_features='auto', max_leaf_nodes=None,\n",
       "                      max_samples=None, min_impurity_decrease=0.0,\n",
       "                      min_impurity_split=None, min_samples_leaf=1,\n",
       "                      min_samples_split=2, min_weight_fraction_leaf=0.0,\n",
       "                      n_estimators=100, n_jobs=None, oob_score=False,\n",
       "                      random_state=None, verbose=0, warm_start=False)"
      ]
     },
     "execution_count": 136,
     "metadata": {},
     "output_type": "execute_result"
    }
   ],
   "source": [
    "# Fitting a Random Forest Model \n",
    "rf = RandomForestRegressor()\n",
    "rf.fit(X_train, y_train)"
   ]
  },
  {
   "cell_type": "code",
   "execution_count": 137,
   "metadata": {},
   "outputs": [
    {
     "data": {
      "text/plain": [
       "0.769624289223955"
      ]
     },
     "execution_count": 137,
     "metadata": {},
     "output_type": "execute_result"
    }
   ],
   "source": [
    "# Training score \n",
    "rf.score(X_train, y_train)"
   ]
  },
  {
   "cell_type": "code",
   "execution_count": 138,
   "metadata": {},
   "outputs": [
    {
     "data": {
      "text/plain": [
       "-5.302333752181181"
      ]
     },
     "execution_count": 138,
     "metadata": {},
     "output_type": "execute_result"
    }
   ],
   "source": [
    "# Testing score, not good \n",
    "rf.score(X_test, y_test)"
   ]
  },
  {
   "cell_type": "markdown",
   "metadata": {},
   "source": [
    "### Regression modeling was unsuccessful. I think this shows that Chinese aid is difficult to predict just based on factors like corruption, HDI, type of government, etc. There are a lot of factors that go into Chinese aid that cannot be explained by data alone. "
   ]
  },
  {
   "cell_type": "code",
   "execution_count": null,
   "metadata": {},
   "outputs": [],
   "source": []
  }
 ],
 "metadata": {
  "kernelspec": {
   "display_name": "Python 3",
   "language": "python",
   "name": "python3"
  },
  "language_info": {
   "codemirror_mode": {
    "name": "ipython",
    "version": 3
   },
   "file_extension": ".py",
   "mimetype": "text/x-python",
   "name": "python",
   "nbconvert_exporter": "python",
   "pygments_lexer": "ipython3",
   "version": "3.7.6"
  }
 },
 "nbformat": 4,
 "nbformat_minor": 4
}
