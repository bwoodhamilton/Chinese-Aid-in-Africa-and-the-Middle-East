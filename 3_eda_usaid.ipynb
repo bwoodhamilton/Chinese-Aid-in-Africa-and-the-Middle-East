{
 "cells": [
  {
   "cell_type": "markdown",
   "metadata": {},
   "source": [
    "# EDA and Cleaning USAID Data"
   ]
  },
  {
   "cell_type": "code",
   "execution_count": 65,
   "metadata": {},
   "outputs": [],
   "source": [
    "# Importing libraries \n",
    "import numpy as np\n",
    "import pandas as pd\n",
    "import matplotlib.pyplot as plt\n",
    "import seaborn as sns"
   ]
  },
  {
   "cell_type": "code",
   "execution_count": 66,
   "metadata": {},
   "outputs": [],
   "source": [
    "# Reading in USAID data\n",
    "us_aid = pd.read_csv('./aid_data/usaid/us_foreign_aid_complete.csv')"
   ]
  },
  {
   "cell_type": "markdown",
   "metadata": {},
   "source": [
    "### The USAID data set is similar to the World Bank and Chinese aid data sets in that it outlines US Aid activity at a project level. I decided to bring in the US aid as a method of comparison with Chinese aid. "
   ]
  },
  {
   "cell_type": "code",
   "execution_count": 67,
   "metadata": {},
   "outputs": [
    {
     "data": {
      "text/html": [
       "<div>\n",
       "<style scoped>\n",
       "    .dataframe tbody tr th:only-of-type {\n",
       "        vertical-align: middle;\n",
       "    }\n",
       "\n",
       "    .dataframe tbody tr th {\n",
       "        vertical-align: top;\n",
       "    }\n",
       "\n",
       "    .dataframe thead th {\n",
       "        text-align: right;\n",
       "    }\n",
       "</style>\n",
       "<table border=\"1\" class=\"dataframe\">\n",
       "  <thead>\n",
       "    <tr style=\"text-align: right;\">\n",
       "      <th></th>\n",
       "      <th>country_id</th>\n",
       "      <th>country_code</th>\n",
       "      <th>country_name</th>\n",
       "      <th>region_id</th>\n",
       "      <th>region_name</th>\n",
       "      <th>income_group_id</th>\n",
       "      <th>income_group_name</th>\n",
       "      <th>income_group_acronym</th>\n",
       "      <th>implementing_agency_id</th>\n",
       "      <th>implementing_agency_acronym</th>\n",
       "      <th>...</th>\n",
       "      <th>activity_start_date</th>\n",
       "      <th>activity_end_date</th>\n",
       "      <th>transaction_type_id</th>\n",
       "      <th>transaction_type_name</th>\n",
       "      <th>fiscal_year</th>\n",
       "      <th>current_amount</th>\n",
       "      <th>constant_amount</th>\n",
       "      <th>USG_sector_id</th>\n",
       "      <th>USG_sector_name</th>\n",
       "      <th>submission_id</th>\n",
       "    </tr>\n",
       "  </thead>\n",
       "  <tbody>\n",
       "    <tr>\n",
       "      <th>0</th>\n",
       "      <td>4</td>\n",
       "      <td>AFG</td>\n",
       "      <td>Afghanistan</td>\n",
       "      <td>4</td>\n",
       "      <td>South and Central Asia</td>\n",
       "      <td>1.0</td>\n",
       "      <td>Low Income Country</td>\n",
       "      <td>LIC</td>\n",
       "      <td>7</td>\n",
       "      <td>DOD</td>\n",
       "      <td>...</td>\n",
       "      <td>NaN</td>\n",
       "      <td>NaN</td>\n",
       "      <td>2</td>\n",
       "      <td>Obligations</td>\n",
       "      <td>2011</td>\n",
       "      <td>9941000000</td>\n",
       "      <td>11172173522</td>\n",
       "      <td>3</td>\n",
       "      <td>Stabilization Operations and Security Sector R...</td>\n",
       "      <td>28</td>\n",
       "    </tr>\n",
       "    <tr>\n",
       "      <th>1</th>\n",
       "      <td>4</td>\n",
       "      <td>AFG</td>\n",
       "      <td>Afghanistan</td>\n",
       "      <td>4</td>\n",
       "      <td>South and Central Asia</td>\n",
       "      <td>1.0</td>\n",
       "      <td>Low Income Country</td>\n",
       "      <td>LIC</td>\n",
       "      <td>7</td>\n",
       "      <td>DOD</td>\n",
       "      <td>...</td>\n",
       "      <td>NaN</td>\n",
       "      <td>NaN</td>\n",
       "      <td>2</td>\n",
       "      <td>Obligations</td>\n",
       "      <td>2012</td>\n",
       "      <td>9243000000</td>\n",
       "      <td>10195234944</td>\n",
       "      <td>3</td>\n",
       "      <td>Stabilization Operations and Security Sector R...</td>\n",
       "      <td>28</td>\n",
       "    </tr>\n",
       "    <tr>\n",
       "      <th>2</th>\n",
       "      <td>4</td>\n",
       "      <td>AFG</td>\n",
       "      <td>Afghanistan</td>\n",
       "      <td>4</td>\n",
       "      <td>South and Central Asia</td>\n",
       "      <td>1.0</td>\n",
       "      <td>Low Income Country</td>\n",
       "      <td>LIC</td>\n",
       "      <td>7</td>\n",
       "      <td>DOD</td>\n",
       "      <td>...</td>\n",
       "      <td>NaN</td>\n",
       "      <td>NaN</td>\n",
       "      <td>3</td>\n",
       "      <td>Disbursements</td>\n",
       "      <td>2011</td>\n",
       "      <td>7840175215</td>\n",
       "      <td>8811165672</td>\n",
       "      <td>3</td>\n",
       "      <td>Stabilization Operations and Security Sector R...</td>\n",
       "      <td>28</td>\n",
       "    </tr>\n",
       "    <tr>\n",
       "      <th>3</th>\n",
       "      <td>4</td>\n",
       "      <td>AFG</td>\n",
       "      <td>Afghanistan</td>\n",
       "      <td>4</td>\n",
       "      <td>South and Central Asia</td>\n",
       "      <td>1.0</td>\n",
       "      <td>Low Income Country</td>\n",
       "      <td>LIC</td>\n",
       "      <td>7</td>\n",
       "      <td>DOD</td>\n",
       "      <td>...</td>\n",
       "      <td>NaN</td>\n",
       "      <td>NaN</td>\n",
       "      <td>3</td>\n",
       "      <td>Disbursements</td>\n",
       "      <td>2013</td>\n",
       "      <td>7764310985</td>\n",
       "      <td>8409304652</td>\n",
       "      <td>3</td>\n",
       "      <td>Stabilization Operations and Security Sector R...</td>\n",
       "      <td>28</td>\n",
       "    </tr>\n",
       "    <tr>\n",
       "      <th>4</th>\n",
       "      <td>4</td>\n",
       "      <td>AFG</td>\n",
       "      <td>Afghanistan</td>\n",
       "      <td>4</td>\n",
       "      <td>South and Central Asia</td>\n",
       "      <td>1.0</td>\n",
       "      <td>Low Income Country</td>\n",
       "      <td>LIC</td>\n",
       "      <td>7</td>\n",
       "      <td>DOD</td>\n",
       "      <td>...</td>\n",
       "      <td>NaN</td>\n",
       "      <td>NaN</td>\n",
       "      <td>2</td>\n",
       "      <td>Obligations</td>\n",
       "      <td>2013</td>\n",
       "      <td>6928000000</td>\n",
       "      <td>7503519983</td>\n",
       "      <td>3</td>\n",
       "      <td>Stabilization Operations and Security Sector R...</td>\n",
       "      <td>28</td>\n",
       "    </tr>\n",
       "  </tbody>\n",
       "</table>\n",
       "<p>5 rows × 48 columns</p>\n",
       "</div>"
      ],
      "text/plain": [
       "   country_id country_code country_name  region_id             region_name  \\\n",
       "0           4          AFG  Afghanistan          4  South and Central Asia   \n",
       "1           4          AFG  Afghanistan          4  South and Central Asia   \n",
       "2           4          AFG  Afghanistan          4  South and Central Asia   \n",
       "3           4          AFG  Afghanistan          4  South and Central Asia   \n",
       "4           4          AFG  Afghanistan          4  South and Central Asia   \n",
       "\n",
       "   income_group_id   income_group_name income_group_acronym  \\\n",
       "0              1.0  Low Income Country                  LIC   \n",
       "1              1.0  Low Income Country                  LIC   \n",
       "2              1.0  Low Income Country                  LIC   \n",
       "3              1.0  Low Income Country                  LIC   \n",
       "4              1.0  Low Income Country                  LIC   \n",
       "\n",
       "   implementing_agency_id implementing_agency_acronym  ...  \\\n",
       "0                       7                         DOD  ...   \n",
       "1                       7                         DOD  ...   \n",
       "2                       7                         DOD  ...   \n",
       "3                       7                         DOD  ...   \n",
       "4                       7                         DOD  ...   \n",
       "\n",
       "  activity_start_date  activity_end_date transaction_type_id  \\\n",
       "0                 NaN                NaN                   2   \n",
       "1                 NaN                NaN                   2   \n",
       "2                 NaN                NaN                   3   \n",
       "3                 NaN                NaN                   3   \n",
       "4                 NaN                NaN                   2   \n",
       "\n",
       "  transaction_type_name  fiscal_year current_amount  constant_amount  \\\n",
       "0           Obligations         2011     9941000000      11172173522   \n",
       "1           Obligations         2012     9243000000      10195234944   \n",
       "2         Disbursements         2011     7840175215       8811165672   \n",
       "3         Disbursements         2013     7764310985       8409304652   \n",
       "4           Obligations         2013     6928000000       7503519983   \n",
       "\n",
       "  USG_sector_id                                    USG_sector_name  \\\n",
       "0             3  Stabilization Operations and Security Sector R...   \n",
       "1             3  Stabilization Operations and Security Sector R...   \n",
       "2             3  Stabilization Operations and Security Sector R...   \n",
       "3             3  Stabilization Operations and Security Sector R...   \n",
       "4             3  Stabilization Operations and Security Sector R...   \n",
       "\n",
       "  submission_id  \n",
       "0            28  \n",
       "1            28  \n",
       "2            28  \n",
       "3            28  \n",
       "4            28  \n",
       "\n",
       "[5 rows x 48 columns]"
      ]
     },
     "execution_count": 67,
     "metadata": {},
     "output_type": "execute_result"
    }
   ],
   "source": [
    "# Looking at the data frame\n",
    "us_aid.head()"
   ]
  },
  {
   "cell_type": "code",
   "execution_count": 68,
   "metadata": {},
   "outputs": [
    {
     "data": {
      "text/plain": [
       "array(['South and Central Asia', 'Middle East and North Africa',\n",
       "       'Europe and Eurasia', 'East Asia and Oceania', 'World',\n",
       "       'Western Hemisphere', 'Sub-Saharan Africa'], dtype=object)"
      ]
     },
     "execution_count": 68,
     "metadata": {},
     "output_type": "execute_result"
    }
   ],
   "source": [
    "# Looking at the regions in the data \n",
    "us_aid['region_name'].unique()"
   ]
  },
  {
   "cell_type": "code",
   "execution_count": 69,
   "metadata": {},
   "outputs": [],
   "source": [
    "# I am adding Turkey as seperate because it is under Europe in this data\n",
    "turkey = us_aid[us_aid['country_name'] == 'Turkey'] "
   ]
  },
  {
   "cell_type": "code",
   "execution_count": 70,
   "metadata": {},
   "outputs": [],
   "source": [
    "# Including Middle East and North Africa in my data\n",
    "us_aid1 = us_aid[us_aid['region_name'] == 'Middle East and North Africa'] "
   ]
  },
  {
   "cell_type": "code",
   "execution_count": 71,
   "metadata": {},
   "outputs": [],
   "source": [
    "# Including Sub-Saharan Africa in my data \n",
    "us_aid2 = us_aid[us_aid['region_name'] == 'Sub-Saharan Africa'] "
   ]
  },
  {
   "cell_type": "code",
   "execution_count": 72,
   "metadata": {},
   "outputs": [],
   "source": [
    "# Combining all of data frames\n",
    "us_aid = pd.concat([us_aid1, us_aid2, turkey])"
   ]
  },
  {
   "cell_type": "code",
   "execution_count": 73,
   "metadata": {},
   "outputs": [
    {
     "name": "stdout",
     "output_type": "stream",
     "text": [
      "<class 'pandas.core.frame.DataFrame'>\n",
      "Int64Index: 504737 entries, 13 to 1137950\n",
      "Data columns (total 48 columns):\n",
      "country_id                     504737 non-null int64\n",
      "country_code                   504728 non-null object\n",
      "country_name                   504737 non-null object\n",
      "region_id                      504737 non-null int64\n",
      "region_name                    504737 non-null object\n",
      "income_group_id                453745 non-null float64\n",
      "income_group_name              453745 non-null object\n",
      "income_group_acronym           453745 non-null object\n",
      "implementing_agency_id         504737 non-null int64\n",
      "implementing_agency_acronym    504691 non-null object\n",
      "implementing_agency_name       504737 non-null object\n",
      "implementing_subagency_id      504737 non-null int64\n",
      "subagency_acronym              461999 non-null object\n",
      "subagency_name                 504737 non-null object\n",
      "channel_category_id            504737 non-null int64\n",
      "channel_category_name          504737 non-null object\n",
      "channel_subcategory_id         504737 non-null int64\n",
      "channel_subcategory_name       504737 non-null object\n",
      "channel_id                     504737 non-null int64\n",
      "channel_name                   504737 non-null object\n",
      "dac_category_id                504737 non-null int64\n",
      "dac_category_name              504737 non-null object\n",
      "dac_sector_code                504737 non-null int64\n",
      "dac_sector_name                504737 non-null object\n",
      "dac_purpose_code               504737 non-null int64\n",
      "dac_purpose_name               504737 non-null object\n",
      "funding_account_id             504737 non-null object\n",
      "funding_account_name           504737 non-null object\n",
      "funding_agency_id              504737 non-null int64\n",
      "funding_agency_name            504737 non-null object\n",
      "funding_agency_acronym         504674 non-null object\n",
      "assistance_category_id         504737 non-null int64\n",
      "assistance_category_name       504737 non-null object\n",
      "aid_type_group_id              504737 non-null int64\n",
      "aid_type_group_name            504737 non-null object\n",
      "activity_id                    504737 non-null int64\n",
      "activity_name                  504737 non-null object\n",
      "activity_project_number        330299 non-null object\n",
      "activity_start_date            104881 non-null object\n",
      "activity_end_date              108646 non-null object\n",
      "transaction_type_id            504737 non-null int64\n",
      "transaction_type_name          504737 non-null object\n",
      "fiscal_year                    504737 non-null object\n",
      "current_amount                 504737 non-null int64\n",
      "constant_amount                504737 non-null int64\n",
      "USG_sector_id                  504737 non-null int64\n",
      "USG_sector_name                504737 non-null object\n",
      "submission_id                  504737 non-null int64\n",
      "dtypes: float64(1), int64(19), object(28)\n",
      "memory usage: 188.7+ MB\n"
     ]
    }
   ],
   "source": [
    "# Looking at the data types and null values \n",
    "us_aid.info()"
   ]
  },
  {
   "cell_type": "code",
   "execution_count": 74,
   "metadata": {},
   "outputs": [
    {
     "data": {
      "text/plain": [
       "Emergency Response                                 57625\n",
       "Government and Civil Society                       52139\n",
       "HIV/AIDS                                           51306\n",
       "Operating Expenses                                 44988\n",
       "Basic Health                                       30599\n",
       "Agriculture                                        29986\n",
       "Developmental Food Aid/Food Security Assistance    28985\n",
       "Administration and Oversight                       27848\n",
       "Conflict, Peace, and Security                      26601\n",
       "Maternal and Child Health, Family Planning         25744\n",
       "Other Multisector                                  24808\n",
       "Basic Education                                    17520\n",
       "General Environmental Protection                   14441\n",
       "Other Social Infrastructure and Services            9982\n",
       "Water Supply and Sanitation                         9193\n",
       "Business and Other Services                         7112\n",
       "Energy                                              7023\n",
       "Health, General                                     6838\n",
       "Program Design and Learning                         6288\n",
       "Trade Policy and Regulations                        4736\n",
       "Industry                                            4187\n",
       "Transport and Storage                               4163\n",
       "Education, Level Unspecified                        2619\n",
       "Banking and Financial Services                      2553\n",
       "Post-Secondary Education                            1876\n",
       "Disaster Prevention and Preparedness                1835\n",
       "Communications                                       960\n",
       "Mineral Resources and Mining                         940\n",
       "Secondary Education                                  476\n",
       "Other Commodity Assistance                           404\n",
       "Construction                                         338\n",
       "Reconstruction Relief and Rehabilitation             338\n",
       "Unallocated/ Unspecified                             122\n",
       "Tourism                                              115\n",
       "General Budget Support                                46\n",
       "Refugees in Donor Countries                            2\n",
       "Action Relating To Debt                                1\n",
       "Name: dac_sector_name, dtype: int64"
      ]
     },
     "execution_count": 74,
     "metadata": {},
     "output_type": "execute_result"
    }
   ],
   "source": [
    "# Looking at the counts by sector names\n",
    "us_aid['dac_sector_name'].value_counts()"
   ]
  },
  {
   "cell_type": "code",
   "execution_count": 75,
   "metadata": {},
   "outputs": [
    {
     "data": {
      "text/plain": [
       "13    Security system management and reform\n",
       "19    Security system management and reform\n",
       "20    Security system management and reform\n",
       "22    Security system management and reform\n",
       "26    Security system management and reform\n",
       "Name: dac_purpose_name, dtype: object"
      ]
     },
     "execution_count": 75,
     "metadata": {},
     "output_type": "execute_result"
    }
   ],
   "source": [
    "# Looking at the values for this. Not a very useful column, so I will not keep it. \n",
    "us_aid['dac_purpose_name'].head()"
   ]
  },
  {
   "cell_type": "code",
   "execution_count": 76,
   "metadata": {},
   "outputs": [
    {
     "data": {
      "text/plain": [
       "U.S. Agency for International Development    251685\n",
       "Department of State                          122222\n",
       "Department of Agriculture                     55258\n",
       "Executive Office of the President             14122\n",
       "Department of Defense                         13659\n",
       "African Development Foundation                10503\n",
       "Peace Corps                                   10104\n",
       "Millennium Challenge Corporation               8982\n",
       "Department of Health and Human Services        7389\n",
       "Department of the Interior                     3225\n",
       "Trade and Development Agency                   3200\n",
       "Department of the Treasury                     1383\n",
       "Department of Energy                           1331\n",
       "Department of the Army                          472\n",
       "Department of Labor                             310\n",
       "Department of Justice                           276\n",
       "Department of Commerce                          232\n",
       "Department of Homeland Security                  83\n",
       "Department of the Air Force                      65\n",
       "Unknown - Historical Greenbook                   63\n",
       "Environmental Protection Agency                  57\n",
       "Department of Transportation                     44\n",
       "Federal Trade Commission                         44\n",
       "Department of the Navy                           26\n",
       "National Aeronautics and Space Administra         2\n",
       "Name: funding_agency_name, dtype: int64"
      ]
     },
     "execution_count": 76,
     "metadata": {},
     "output_type": "execute_result"
    }
   ],
   "source": [
    "# Looking at the values \n",
    "us_aid['funding_agency_name'].value_counts()"
   ]
  },
  {
   "cell_type": "code",
   "execution_count": 77,
   "metadata": {},
   "outputs": [],
   "source": [
    "# Saving the columns I want to save for modeling/analysis \n",
    "us_aid = us_aid[['country_name', 'activity_name', 'dac_sector_name', 'funding_agency_name', 'fiscal_year', 'constant_amount']]"
   ]
  },
  {
   "cell_type": "code",
   "execution_count": 78,
   "metadata": {},
   "outputs": [
    {
     "data": {
      "text/html": [
       "<div>\n",
       "<style scoped>\n",
       "    .dataframe tbody tr th:only-of-type {\n",
       "        vertical-align: middle;\n",
       "    }\n",
       "\n",
       "    .dataframe tbody tr th {\n",
       "        vertical-align: top;\n",
       "    }\n",
       "\n",
       "    .dataframe thead th {\n",
       "        text-align: right;\n",
       "    }\n",
       "</style>\n",
       "<table border=\"1\" class=\"dataframe\">\n",
       "  <thead>\n",
       "    <tr style=\"text-align: right;\">\n",
       "      <th></th>\n",
       "      <th>country_name</th>\n",
       "      <th>activity_name</th>\n",
       "      <th>dac_sector_name</th>\n",
       "      <th>funding_agency_name</th>\n",
       "      <th>fiscal_year</th>\n",
       "      <th>constant_amount</th>\n",
       "    </tr>\n",
       "  </thead>\n",
       "  <tbody>\n",
       "    <tr>\n",
       "      <th>13</th>\n",
       "      <td>Iraq</td>\n",
       "      <td>Iraq Security Force Fund</td>\n",
       "      <td>Conflict, Peace, and Security</td>\n",
       "      <td>Department of the Army</td>\n",
       "      <td>2006</td>\n",
       "      <td>6494175353</td>\n",
       "    </tr>\n",
       "    <tr>\n",
       "      <th>19</th>\n",
       "      <td>Iraq</td>\n",
       "      <td>Iraq Security Force Fund</td>\n",
       "      <td>Conflict, Peace, and Security</td>\n",
       "      <td>Department of the Army</td>\n",
       "      <td>2008</td>\n",
       "      <td>5105263158</td>\n",
       "    </tr>\n",
       "    <tr>\n",
       "      <th>20</th>\n",
       "      <td>Iraq</td>\n",
       "      <td>Iraq Security Force Fund</td>\n",
       "      <td>Conflict, Peace, and Security</td>\n",
       "      <td>Department of the Army</td>\n",
       "      <td>2007</td>\n",
       "      <td>4944490868</td>\n",
       "    </tr>\n",
       "    <tr>\n",
       "      <th>22</th>\n",
       "      <td>Iraq</td>\n",
       "      <td>Iraq Security Force Fund</td>\n",
       "      <td>Conflict, Peace, and Security</td>\n",
       "      <td>Department of the Army</td>\n",
       "      <td>2007</td>\n",
       "      <td>4560217725</td>\n",
       "    </tr>\n",
       "    <tr>\n",
       "      <th>26</th>\n",
       "      <td>Iraq</td>\n",
       "      <td>Iraq Security Force Fund</td>\n",
       "      <td>Conflict, Peace, and Security</td>\n",
       "      <td>Department of the Army</td>\n",
       "      <td>2008</td>\n",
       "      <td>4320019181</td>\n",
       "    </tr>\n",
       "  </tbody>\n",
       "</table>\n",
       "</div>"
      ],
      "text/plain": [
       "   country_name             activity_name                dac_sector_name  \\\n",
       "13         Iraq  Iraq Security Force Fund  Conflict, Peace, and Security   \n",
       "19         Iraq  Iraq Security Force Fund  Conflict, Peace, and Security   \n",
       "20         Iraq  Iraq Security Force Fund  Conflict, Peace, and Security   \n",
       "22         Iraq  Iraq Security Force Fund  Conflict, Peace, and Security   \n",
       "26         Iraq  Iraq Security Force Fund  Conflict, Peace, and Security   \n",
       "\n",
       "       funding_agency_name fiscal_year  constant_amount  \n",
       "13  Department of the Army        2006       6494175353  \n",
       "19  Department of the Army        2008       5105263158  \n",
       "20  Department of the Army        2007       4944490868  \n",
       "22  Department of the Army        2007       4560217725  \n",
       "26  Department of the Army        2008       4320019181  "
      ]
     },
     "execution_count": 78,
     "metadata": {},
     "output_type": "execute_result"
    }
   ],
   "source": [
    "# Looking at my new dataframe\n",
    "us_aid.head()"
   ]
  },
  {
   "cell_type": "code",
   "execution_count": 79,
   "metadata": {},
   "outputs": [
    {
     "name": "stdout",
     "output_type": "stream",
     "text": [
      "<class 'pandas.core.frame.DataFrame'>\n",
      "Int64Index: 504737 entries, 13 to 1137950\n",
      "Data columns (total 6 columns):\n",
      "country_name           504737 non-null object\n",
      "activity_name          504737 non-null object\n",
      "dac_sector_name        504737 non-null object\n",
      "funding_agency_name    504737 non-null object\n",
      "fiscal_year            504737 non-null object\n",
      "constant_amount        504737 non-null int64\n",
      "dtypes: int64(1), object(5)\n",
      "memory usage: 27.0+ MB\n"
     ]
    }
   ],
   "source": [
    "# Looking at the info to check for null values and data types\n",
    "# No null value, but need to change fiscal year to numeric type\n",
    "us_aid.info()"
   ]
  },
  {
   "cell_type": "code",
   "execution_count": 80,
   "metadata": {},
   "outputs": [],
   "source": [
    "# Changing fiscal year to a numeric data type \n",
    "us_aid['fiscal_year'] = pd.to_numeric(us_aid['fiscal_year'], errors='coerce')"
   ]
  },
  {
   "cell_type": "code",
   "execution_count": 81,
   "metadata": {},
   "outputs": [
    {
     "name": "stdout",
     "output_type": "stream",
     "text": [
      "<class 'pandas.core.frame.DataFrame'>\n",
      "Int64Index: 504737 entries, 13 to 1137950\n",
      "Data columns (total 6 columns):\n",
      "country_name           504737 non-null object\n",
      "activity_name          504737 non-null object\n",
      "dac_sector_name        504737 non-null object\n",
      "funding_agency_name    504737 non-null object\n",
      "fiscal_year            504573 non-null float64\n",
      "constant_amount        504737 non-null int64\n",
      "dtypes: float64(1), int64(1), object(4)\n",
      "memory usage: 27.0+ MB\n"
     ]
    }
   ],
   "source": [
    "# Checking to see if the numeric change took\n",
    "us_aid.info()"
   ]
  },
  {
   "cell_type": "code",
   "execution_count": 82,
   "metadata": {},
   "outputs": [
    {
     "data": {
      "text/plain": [
       "count    504573.000000\n",
       "mean       2010.578081\n",
       "std           7.279472\n",
       "min        1946.000000\n",
       "25%        2007.000000\n",
       "50%        2012.000000\n",
       "75%        2016.000000\n",
       "max        2020.000000\n",
       "Name: fiscal_year, dtype: float64"
      ]
     },
     "execution_count": 82,
     "metadata": {},
     "output_type": "execute_result"
    }
   ],
   "source": [
    "# Looking at the range of values, min, max, etc. \n",
    "us_aid['fiscal_year'].describe()"
   ]
  },
  {
   "cell_type": "code",
   "execution_count": 83,
   "metadata": {},
   "outputs": [],
   "source": [
    "# Getting rid of any values before 2000\n",
    "us_aid = us_aid[us_aid['fiscal_year'] >= 2000] "
   ]
  },
  {
   "cell_type": "code",
   "execution_count": 84,
   "metadata": {},
   "outputs": [
    {
     "data": {
      "text/plain": [
       "count    486596.000000\n",
       "mean       2011.463160\n",
       "std           5.224882\n",
       "min        2000.000000\n",
       "25%        2007.000000\n",
       "50%        2012.000000\n",
       "75%        2016.000000\n",
       "max        2020.000000\n",
       "Name: fiscal_year, dtype: float64"
      ]
     },
     "execution_count": 84,
     "metadata": {},
     "output_type": "execute_result"
    }
   ],
   "source": [
    "# Looking at my new range of values \n",
    "us_aid['fiscal_year'].describe()"
   ]
  },
  {
   "cell_type": "code",
   "execution_count": 85,
   "metadata": {},
   "outputs": [],
   "source": [
    "# Removing values above 2014\n",
    "us_aid = us_aid[us_aid['fiscal_year'] <= 2014] "
   ]
  },
  {
   "cell_type": "code",
   "execution_count": 86,
   "metadata": {},
   "outputs": [
    {
     "data": {
      "text/plain": [
       "count    320320.000000\n",
       "mean       2008.500974\n",
       "std           3.819316\n",
       "min        2000.000000\n",
       "25%        2005.000000\n",
       "50%        2009.000000\n",
       "75%        2012.000000\n",
       "max        2014.000000\n",
       "Name: fiscal_year, dtype: float64"
      ]
     },
     "execution_count": 86,
     "metadata": {},
     "output_type": "execute_result"
    }
   ],
   "source": [
    "# Looking at my new range of values\n",
    "us_aid['fiscal_year'].describe()"
   ]
  },
  {
   "cell_type": "code",
   "execution_count": 87,
   "metadata": {},
   "outputs": [
    {
     "name": "stdout",
     "output_type": "stream",
     "text": [
      "<class 'pandas.core.frame.DataFrame'>\n",
      "Int64Index: 320320 entries, 13 to 1134884\n",
      "Data columns (total 6 columns):\n",
      "country_name           320320 non-null object\n",
      "activity_name          320320 non-null object\n",
      "dac_sector_name        320320 non-null object\n",
      "funding_agency_name    320320 non-null object\n",
      "fiscal_year            320320 non-null float64\n",
      "constant_amount        320320 non-null int64\n",
      "dtypes: float64(1), int64(1), object(4)\n",
      "memory usage: 17.1+ MB\n"
     ]
    }
   ],
   "source": [
    "# Looking at my new value counts\n",
    "us_aid.info()"
   ]
  },
  {
   "cell_type": "code",
   "execution_count": 88,
   "metadata": {},
   "outputs": [
    {
     "data": {
      "text/plain": [
       "array(['Iraq', 'Israel', 'Egypt', 'Jordan', 'West Bank/Gaza',\n",
       "       'Middle East and North Africa Region', 'Syria', 'Lebanon',\n",
       "       'Morocco', 'Libya', 'Tunisia', 'Bahrain', 'Oman', 'Yemen',\n",
       "       'Middle East Region', 'North Africa Region', 'Algeria',\n",
       "       'United Arab Emirates', 'Qatar', 'Iran', 'Saudi Arabia', 'Kuwait',\n",
       "       'Tanzania', 'Sub-Saharan Africa Region', 'Sudan (former)',\n",
       "       'Senegal', 'Zambia', 'Somalia', 'Nigeria', 'South Sudan',\n",
       "       'South Africa', 'Kenya', 'Mozambique', 'Uganda', 'Malawi', 'Mali',\n",
       "       'Burkina Faso', 'Sudan', 'Botswana', 'Ghana', 'Ethiopia',\n",
       "       'Liberia', 'Benin', 'Lesotho', 'Namibia', \"Cote d'Ivoire\", 'Chad',\n",
       "       'Central African Republic', 'Cabo Verde', 'Rwanda',\n",
       "       'Congo (Kinshasa)', 'Mauritania', 'Niger', 'Zimbabwe',\n",
       "       'Madagascar', 'West Africa Region', 'Angola', 'Eswatini',\n",
       "       'Burundi', 'Southern Africa Region', 'Cameroon', 'Djibouti',\n",
       "       'Eastern Africa Region', 'Sierra Leone', 'Guinea', 'Eritrea',\n",
       "       'Gambia', 'Guinea-Bissau', 'Congo (Brazzaville)', 'Togo',\n",
       "       'Seychelles', 'Sao Tome and Principe', 'Gabon',\n",
       "       'East and South Africa Region', 'Western (Spanish) Sahara',\n",
       "       'Mauritius', 'Comoros', 'Equatorial Guinea',\n",
       "       'Eastern and Central Africa Region',\n",
       "       'British Indian Ocean Territory', 'Turkey'], dtype=object)"
      ]
     },
     "execution_count": 88,
     "metadata": {},
     "output_type": "execute_result"
    }
   ],
   "source": [
    "# Looking at unique country names \n",
    "us_aid['country_name'].unique()"
   ]
  },
  {
   "cell_type": "code",
   "execution_count": 89,
   "metadata": {},
   "outputs": [],
   "source": [
    "# Changing the names to be consistent \n",
    "us_aid.replace({'country_name' : {'West Bank/Gaza' : 'Palestine',\n",
    "                    'Sudan (former)' : 'Sudan',\n",
    "                    \"Cote d'Ivoire\" : \"Cote D'Ivoire\",\n",
    "                    'Congo (Kinshasa)': 'Democratic Republic of Congo',\n",
    "                    'Congo (Brazzaville)' : 'Congo',\n",
    "                    'Eswatini' : 'Swaziland'\n",
    "                    }}, inplace=True)"
   ]
  },
  {
   "cell_type": "code",
   "execution_count": 90,
   "metadata": {},
   "outputs": [],
   "source": [
    "# Grouping by country names and amounts to make sums for each country\n",
    "usaid_sums = us_aid.groupby('country_name')['constant_amount'].sum()"
   ]
  },
  {
   "cell_type": "code",
   "execution_count": 91,
   "metadata": {},
   "outputs": [
    {
     "data": {
      "text/plain": [
       "country_name\n",
       "Algeria      247662135\n",
       "Angola      2939892764\n",
       "Bahrain      900204738\n",
       "Benin       1785450859\n",
       "Botswana    2141446815\n",
       "Name: constant_amount, dtype: int64"
      ]
     },
     "execution_count": 91,
     "metadata": {},
     "output_type": "execute_result"
    }
   ],
   "source": [
    "# Lookng at my new data\n",
    "usaid_sums.head(5)"
   ]
  },
  {
   "cell_type": "code",
   "execution_count": 92,
   "metadata": {},
   "outputs": [],
   "source": [
    "# Saving my data to a data frame\n",
    "usaid_sums = usaid_sums.to_frame()"
   ]
  },
  {
   "cell_type": "code",
   "execution_count": 93,
   "metadata": {},
   "outputs": [],
   "source": [
    "# Renaming the column\n",
    "usaid_sums.rename(columns={'constant_amount': 'usaid_totals'}, inplace=True)"
   ]
  },
  {
   "cell_type": "code",
   "execution_count": 94,
   "metadata": {},
   "outputs": [],
   "source": [
    "# Saving my data frame to a csv\n",
    "usaid_sums.to_csv('./aid_data/usaid/usaid_sums.csv', index=True)"
   ]
  },
  {
   "cell_type": "code",
   "execution_count": null,
   "metadata": {},
   "outputs": [],
   "source": []
  },
  {
   "cell_type": "code",
   "execution_count": null,
   "metadata": {},
   "outputs": [],
   "source": []
  }
 ],
 "metadata": {
  "kernelspec": {
   "display_name": "Python 3",
   "language": "python",
   "name": "python3"
  },
  "language_info": {
   "codemirror_mode": {
    "name": "ipython",
    "version": 3
   },
   "file_extension": ".py",
   "mimetype": "text/x-python",
   "name": "python",
   "nbconvert_exporter": "python",
   "pygments_lexer": "ipython3",
   "version": "3.7.6"
  }
 },
 "nbformat": 4,
 "nbformat_minor": 4
}
