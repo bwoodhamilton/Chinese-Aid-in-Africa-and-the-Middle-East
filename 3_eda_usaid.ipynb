{
 "cells": [
  {
   "cell_type": "markdown",
   "metadata": {},
   "source": [
    "# EDA and Cleaning USAID Data"
   ]
  },
  {
   "cell_type": "code",
   "execution_count": 64,
   "metadata": {},
   "outputs": [],
   "source": [
    "# Importing libraries \n",
    "import numpy as np\n",
    "import pandas as pd\n",
    "import matplotlib.pyplot as plt\n",
    "import seaborn as sns"
   ]
  },
  {
   "cell_type": "code",
   "execution_count": 65,
   "metadata": {},
   "outputs": [],
   "source": [
    "# Reading in USAID data\n",
    "us_aid = pd.read_csv('./aid_data/usaid/us_foreign_aid_complete.csv')"
   ]
  },
  {
   "cell_type": "code",
   "execution_count": 66,
   "metadata": {},
   "outputs": [
    {
     "data": {
      "text/html": [
       "<div>\n",
       "<style scoped>\n",
       "    .dataframe tbody tr th:only-of-type {\n",
       "        vertical-align: middle;\n",
       "    }\n",
       "\n",
       "    .dataframe tbody tr th {\n",
       "        vertical-align: top;\n",
       "    }\n",
       "\n",
       "    .dataframe thead th {\n",
       "        text-align: right;\n",
       "    }\n",
       "</style>\n",
       "<table border=\"1\" class=\"dataframe\">\n",
       "  <thead>\n",
       "    <tr style=\"text-align: right;\">\n",
       "      <th></th>\n",
       "      <th>country_id</th>\n",
       "      <th>country_code</th>\n",
       "      <th>country_name</th>\n",
       "      <th>region_id</th>\n",
       "      <th>region_name</th>\n",
       "      <th>income_group_id</th>\n",
       "      <th>income_group_name</th>\n",
       "      <th>income_group_acronym</th>\n",
       "      <th>implementing_agency_id</th>\n",
       "      <th>implementing_agency_acronym</th>\n",
       "      <th>...</th>\n",
       "      <th>activity_start_date</th>\n",
       "      <th>activity_end_date</th>\n",
       "      <th>transaction_type_id</th>\n",
       "      <th>transaction_type_name</th>\n",
       "      <th>fiscal_year</th>\n",
       "      <th>current_amount</th>\n",
       "      <th>constant_amount</th>\n",
       "      <th>USG_sector_id</th>\n",
       "      <th>USG_sector_name</th>\n",
       "      <th>submission_id</th>\n",
       "    </tr>\n",
       "  </thead>\n",
       "  <tbody>\n",
       "    <tr>\n",
       "      <th>0</th>\n",
       "      <td>4</td>\n",
       "      <td>AFG</td>\n",
       "      <td>Afghanistan</td>\n",
       "      <td>4</td>\n",
       "      <td>South and Central Asia</td>\n",
       "      <td>1.0</td>\n",
       "      <td>Low Income Country</td>\n",
       "      <td>LIC</td>\n",
       "      <td>7</td>\n",
       "      <td>DOD</td>\n",
       "      <td>...</td>\n",
       "      <td>NaN</td>\n",
       "      <td>NaN</td>\n",
       "      <td>2</td>\n",
       "      <td>Obligations</td>\n",
       "      <td>2011</td>\n",
       "      <td>9941000000</td>\n",
       "      <td>11172173522</td>\n",
       "      <td>3</td>\n",
       "      <td>Stabilization Operations and Security Sector R...</td>\n",
       "      <td>28</td>\n",
       "    </tr>\n",
       "    <tr>\n",
       "      <th>1</th>\n",
       "      <td>4</td>\n",
       "      <td>AFG</td>\n",
       "      <td>Afghanistan</td>\n",
       "      <td>4</td>\n",
       "      <td>South and Central Asia</td>\n",
       "      <td>1.0</td>\n",
       "      <td>Low Income Country</td>\n",
       "      <td>LIC</td>\n",
       "      <td>7</td>\n",
       "      <td>DOD</td>\n",
       "      <td>...</td>\n",
       "      <td>NaN</td>\n",
       "      <td>NaN</td>\n",
       "      <td>2</td>\n",
       "      <td>Obligations</td>\n",
       "      <td>2012</td>\n",
       "      <td>9243000000</td>\n",
       "      <td>10195234944</td>\n",
       "      <td>3</td>\n",
       "      <td>Stabilization Operations and Security Sector R...</td>\n",
       "      <td>28</td>\n",
       "    </tr>\n",
       "    <tr>\n",
       "      <th>2</th>\n",
       "      <td>4</td>\n",
       "      <td>AFG</td>\n",
       "      <td>Afghanistan</td>\n",
       "      <td>4</td>\n",
       "      <td>South and Central Asia</td>\n",
       "      <td>1.0</td>\n",
       "      <td>Low Income Country</td>\n",
       "      <td>LIC</td>\n",
       "      <td>7</td>\n",
       "      <td>DOD</td>\n",
       "      <td>...</td>\n",
       "      <td>NaN</td>\n",
       "      <td>NaN</td>\n",
       "      <td>3</td>\n",
       "      <td>Disbursements</td>\n",
       "      <td>2011</td>\n",
       "      <td>7840175215</td>\n",
       "      <td>8811165672</td>\n",
       "      <td>3</td>\n",
       "      <td>Stabilization Operations and Security Sector R...</td>\n",
       "      <td>28</td>\n",
       "    </tr>\n",
       "    <tr>\n",
       "      <th>3</th>\n",
       "      <td>4</td>\n",
       "      <td>AFG</td>\n",
       "      <td>Afghanistan</td>\n",
       "      <td>4</td>\n",
       "      <td>South and Central Asia</td>\n",
       "      <td>1.0</td>\n",
       "      <td>Low Income Country</td>\n",
       "      <td>LIC</td>\n",
       "      <td>7</td>\n",
       "      <td>DOD</td>\n",
       "      <td>...</td>\n",
       "      <td>NaN</td>\n",
       "      <td>NaN</td>\n",
       "      <td>3</td>\n",
       "      <td>Disbursements</td>\n",
       "      <td>2013</td>\n",
       "      <td>7764310985</td>\n",
       "      <td>8409304652</td>\n",
       "      <td>3</td>\n",
       "      <td>Stabilization Operations and Security Sector R...</td>\n",
       "      <td>28</td>\n",
       "    </tr>\n",
       "    <tr>\n",
       "      <th>4</th>\n",
       "      <td>4</td>\n",
       "      <td>AFG</td>\n",
       "      <td>Afghanistan</td>\n",
       "      <td>4</td>\n",
       "      <td>South and Central Asia</td>\n",
       "      <td>1.0</td>\n",
       "      <td>Low Income Country</td>\n",
       "      <td>LIC</td>\n",
       "      <td>7</td>\n",
       "      <td>DOD</td>\n",
       "      <td>...</td>\n",
       "      <td>NaN</td>\n",
       "      <td>NaN</td>\n",
       "      <td>2</td>\n",
       "      <td>Obligations</td>\n",
       "      <td>2013</td>\n",
       "      <td>6928000000</td>\n",
       "      <td>7503519983</td>\n",
       "      <td>3</td>\n",
       "      <td>Stabilization Operations and Security Sector R...</td>\n",
       "      <td>28</td>\n",
       "    </tr>\n",
       "  </tbody>\n",
       "</table>\n",
       "<p>5 rows × 48 columns</p>\n",
       "</div>"
      ],
      "text/plain": [
       "   country_id country_code country_name  region_id             region_name  \\\n",
       "0           4          AFG  Afghanistan          4  South and Central Asia   \n",
       "1           4          AFG  Afghanistan          4  South and Central Asia   \n",
       "2           4          AFG  Afghanistan          4  South and Central Asia   \n",
       "3           4          AFG  Afghanistan          4  South and Central Asia   \n",
       "4           4          AFG  Afghanistan          4  South and Central Asia   \n",
       "\n",
       "   income_group_id   income_group_name income_group_acronym  \\\n",
       "0              1.0  Low Income Country                  LIC   \n",
       "1              1.0  Low Income Country                  LIC   \n",
       "2              1.0  Low Income Country                  LIC   \n",
       "3              1.0  Low Income Country                  LIC   \n",
       "4              1.0  Low Income Country                  LIC   \n",
       "\n",
       "   implementing_agency_id implementing_agency_acronym  ...  \\\n",
       "0                       7                         DOD  ...   \n",
       "1                       7                         DOD  ...   \n",
       "2                       7                         DOD  ...   \n",
       "3                       7                         DOD  ...   \n",
       "4                       7                         DOD  ...   \n",
       "\n",
       "  activity_start_date  activity_end_date transaction_type_id  \\\n",
       "0                 NaN                NaN                   2   \n",
       "1                 NaN                NaN                   2   \n",
       "2                 NaN                NaN                   3   \n",
       "3                 NaN                NaN                   3   \n",
       "4                 NaN                NaN                   2   \n",
       "\n",
       "  transaction_type_name  fiscal_year current_amount  constant_amount  \\\n",
       "0           Obligations         2011     9941000000      11172173522   \n",
       "1           Obligations         2012     9243000000      10195234944   \n",
       "2         Disbursements         2011     7840175215       8811165672   \n",
       "3         Disbursements         2013     7764310985       8409304652   \n",
       "4           Obligations         2013     6928000000       7503519983   \n",
       "\n",
       "  USG_sector_id                                    USG_sector_name  \\\n",
       "0             3  Stabilization Operations and Security Sector R...   \n",
       "1             3  Stabilization Operations and Security Sector R...   \n",
       "2             3  Stabilization Operations and Security Sector R...   \n",
       "3             3  Stabilization Operations and Security Sector R...   \n",
       "4             3  Stabilization Operations and Security Sector R...   \n",
       "\n",
       "  submission_id  \n",
       "0            28  \n",
       "1            28  \n",
       "2            28  \n",
       "3            28  \n",
       "4            28  \n",
       "\n",
       "[5 rows x 48 columns]"
      ]
     },
     "execution_count": 66,
     "metadata": {},
     "output_type": "execute_result"
    }
   ],
   "source": [
    "# Looking at the data frame\n",
    "us_aid.head()"
   ]
  },
  {
   "cell_type": "code",
   "execution_count": 67,
   "metadata": {},
   "outputs": [
    {
     "data": {
      "text/plain": [
       "array(['South and Central Asia', 'Middle East and North Africa',\n",
       "       'Europe and Eurasia', 'East Asia and Oceania', 'World',\n",
       "       'Western Hemisphere', 'Sub-Saharan Africa'], dtype=object)"
      ]
     },
     "execution_count": 67,
     "metadata": {},
     "output_type": "execute_result"
    }
   ],
   "source": [
    "# Looking at the regions in the data \n",
    "us_aid['region_name'].unique()"
   ]
  },
  {
   "cell_type": "code",
   "execution_count": 68,
   "metadata": {},
   "outputs": [],
   "source": [
    "# I am adding Turkey as seperate because it is under Europe in this data\n",
    "turkey = us_aid[us_aid['country_name'] == 'Turkey'] "
   ]
  },
  {
   "cell_type": "code",
   "execution_count": 69,
   "metadata": {},
   "outputs": [],
   "source": [
    "# Including Middle East and North Africa in my data\n",
    "us_aid1 = us_aid[us_aid['region_name'] == 'Middle East and North Africa'] "
   ]
  },
  {
   "cell_type": "code",
   "execution_count": null,
   "metadata": {},
   "outputs": [],
   "source": [
    "# Including Sub-Saharan Africa in my data \n",
    "us_aid2 = us_aid[us_aid['region_name'] == 'Sub-Saharan Africa'] "
   ]
  },
  {
   "cell_type": "code",
   "execution_count": null,
   "metadata": {},
   "outputs": [],
   "source": [
    "# Combining all of data frames\n",
    "us_aid = pd.concat([us_aid1, us_aid2, turkey])"
   ]
  },
  {
   "cell_type": "code",
   "execution_count": null,
   "metadata": {},
   "outputs": [],
   "source": [
    "# Looking at the data types and null values \n",
    "us_aid.info()"
   ]
  },
  {
   "cell_type": "code",
   "execution_count": null,
   "metadata": {},
   "outputs": [],
   "source": [
    "# Looking at the counts by sector names\n",
    "us_aid['dac_sector_name'].value_counts()"
   ]
  },
  {
   "cell_type": "code",
   "execution_count": null,
   "metadata": {},
   "outputs": [],
   "source": [
    "# Looking at the values for this. Not a very useful column, so I will not keep it. \n",
    "us_aid['dac_purpose_name'].head()"
   ]
  },
  {
   "cell_type": "code",
   "execution_count": null,
   "metadata": {},
   "outputs": [],
   "source": [
    "# Looking at the values \n",
    "us_aid['funding_agency_name'].value_counts()"
   ]
  },
  {
   "cell_type": "code",
   "execution_count": null,
   "metadata": {},
   "outputs": [],
   "source": [
    "# Saving the columns I want to save for modeling/analysis \n",
    "us_aid = us_aid[['country_name', 'activity_name', 'dac_sector_name', 'funding_agency_name', 'fiscal_year', 'constant_amount']]"
   ]
  },
  {
   "cell_type": "code",
   "execution_count": null,
   "metadata": {},
   "outputs": [],
   "source": [
    "# Looking at my new dataframe\n",
    "us_aid.head()"
   ]
  },
  {
   "cell_type": "code",
   "execution_count": null,
   "metadata": {},
   "outputs": [],
   "source": [
    "# Looking at the info to check for null values and data types\n",
    "# No null value, but need to change fiscal year to numeric type\n",
    "us_aid.info()"
   ]
  },
  {
   "cell_type": "code",
   "execution_count": null,
   "metadata": {},
   "outputs": [],
   "source": [
    "# Changing fiscal year to a numeric data type \n",
    "us_aid['fiscal_year'] = pd.to_numeric(us_aid['fiscal_year'], errors='coerce')"
   ]
  },
  {
   "cell_type": "code",
   "execution_count": null,
   "metadata": {},
   "outputs": [],
   "source": [
    "# Checking to see if the numeric change took\n",
    "us_aid.info()"
   ]
  },
  {
   "cell_type": "code",
   "execution_count": null,
   "metadata": {},
   "outputs": [],
   "source": [
    "# Looking at the range of values, min, max, etc. \n",
    "us_aid['fiscal_year'].describe()"
   ]
  },
  {
   "cell_type": "code",
   "execution_count": null,
   "metadata": {},
   "outputs": [],
   "source": [
    "# Getting rid of any values before 2000\n",
    "us_aid = us_aid[us_aid['fiscal_year'] >= 2000] "
   ]
  },
  {
   "cell_type": "code",
   "execution_count": null,
   "metadata": {},
   "outputs": [],
   "source": [
    "# Looking at my new range of values \n",
    "us_aid['fiscal_year'].describe()"
   ]
  },
  {
   "cell_type": "code",
   "execution_count": null,
   "metadata": {},
   "outputs": [],
   "source": [
    "# Removing values above 2014\n",
    "us_aid = us_aid[us_aid['fiscal_year'] <= 2014] "
   ]
  },
  {
   "cell_type": "code",
   "execution_count": null,
   "metadata": {},
   "outputs": [],
   "source": [
    "# Looking at my new range of values\n",
    "us_aid['fiscal_year'].describe()"
   ]
  },
  {
   "cell_type": "code",
   "execution_count": null,
   "metadata": {},
   "outputs": [],
   "source": [
    "# Looking at my new value counts\n",
    "us_aid.info()"
   ]
  },
  {
   "cell_type": "code",
   "execution_count": null,
   "metadata": {},
   "outputs": [],
   "source": [
    "# Looking at unique country names \n",
    "us_aid['country_name'].unique()"
   ]
  },
  {
   "cell_type": "code",
   "execution_count": null,
   "metadata": {},
   "outputs": [],
   "source": [
    "# Changing the names to be consistent \n",
    "us_aid.replace({'country_name' : {'West Bank/Gaza' : 'Palestine',\n",
    "                    'Sudan (former)' : 'Sudan',\n",
    "                    \"Cote d'Ivoire\" : \"Cote D'Ivoire\",\n",
    "                    'Congo (Kinshasa)': 'Democratic Republic of Congo',\n",
    "                    'Congo (Brazzaville)' : 'Congo',\n",
    "                    }}, inplace=True)"
   ]
  },
  {
   "cell_type": "code",
   "execution_count": null,
   "metadata": {},
   "outputs": [],
   "source": [
    "# Grouping by country names and amounts to make sums for each country\n",
    "usaid_sums = us_aid.groupby('country_name')['constant_amount'].sum()"
   ]
  },
  {
   "cell_type": "code",
   "execution_count": null,
   "metadata": {},
   "outputs": [],
   "source": [
    "# Lookng at my new data\n",
    "usaid_sums.head(5)"
   ]
  },
  {
   "cell_type": "code",
   "execution_count": null,
   "metadata": {},
   "outputs": [],
   "source": [
    "# Saving my data to a data frame\n",
    "usaid_sums = usaid_sums.to_frame()"
   ]
  },
  {
   "cell_type": "code",
   "execution_count": null,
   "metadata": {},
   "outputs": [],
   "source": [
    "# Renaming the column\n",
    "usaid_sums.rename(columns={'constant_amount': 'usaid_totals'}, inplace=True)"
   ]
  },
  {
   "cell_type": "code",
   "execution_count": null,
   "metadata": {},
   "outputs": [],
   "source": [
    "# Saving my data frame to a csv\n",
    "usaid_sums.to_csv('./aid_data/usaid/usaid_sums.csv', index=True)"
   ]
  },
  {
   "cell_type": "markdown",
   "metadata": {},
   "source": []
  },
  {
   "cell_type": "code",
   "execution_count": 45,
   "metadata": {},
   "outputs": [],
   "source": [
    "usaid_yearly_sums = us_aid.groupby(['country_name', 'fiscal_year'])['constant_amount'].sum()"
   ]
  },
  {
   "cell_type": "code",
   "execution_count": null,
   "metadata": {},
   "outputs": [],
   "source": []
  },
  {
   "cell_type": "code",
   "execution_count": 46,
   "metadata": {},
   "outputs": [],
   "source": [
    "usaid_yearly_sums = usaid_yearly_sums.to_frame()"
   ]
  },
  {
   "cell_type": "code",
   "execution_count": 47,
   "metadata": {},
   "outputs": [
    {
     "data": {
      "text/html": [
       "<div>\n",
       "<style scoped>\n",
       "    .dataframe tbody tr th:only-of-type {\n",
       "        vertical-align: middle;\n",
       "    }\n",
       "\n",
       "    .dataframe tbody tr th {\n",
       "        vertical-align: top;\n",
       "    }\n",
       "\n",
       "    .dataframe thead th {\n",
       "        text-align: right;\n",
       "    }\n",
       "</style>\n",
       "<table border=\"1\" class=\"dataframe\">\n",
       "  <thead>\n",
       "    <tr style=\"text-align: right;\">\n",
       "      <th></th>\n",
       "      <th></th>\n",
       "      <th>constant_amount</th>\n",
       "    </tr>\n",
       "    <tr>\n",
       "      <th>country_name</th>\n",
       "      <th>fiscal_year</th>\n",
       "      <th></th>\n",
       "    </tr>\n",
       "  </thead>\n",
       "  <tbody>\n",
       "    <tr>\n",
       "      <th rowspan=\"15\" valign=\"top\">Algeria</th>\n",
       "      <th>2000.0</th>\n",
       "      <td>1696369</td>\n",
       "    </tr>\n",
       "    <tr>\n",
       "      <th>2001.0</th>\n",
       "      <td>4678370</td>\n",
       "    </tr>\n",
       "    <tr>\n",
       "      <th>2002.0</th>\n",
       "      <td>10008641</td>\n",
       "    </tr>\n",
       "    <tr>\n",
       "      <th>2003.0</th>\n",
       "      <td>9894601</td>\n",
       "    </tr>\n",
       "    <tr>\n",
       "      <th>2004.0</th>\n",
       "      <td>10618022</td>\n",
       "    </tr>\n",
       "    <tr>\n",
       "      <th>2005.0</th>\n",
       "      <td>6266475</td>\n",
       "    </tr>\n",
       "    <tr>\n",
       "      <th>2006.0</th>\n",
       "      <td>6411946</td>\n",
       "    </tr>\n",
       "    <tr>\n",
       "      <th>2007.0</th>\n",
       "      <td>10812148</td>\n",
       "    </tr>\n",
       "    <tr>\n",
       "      <th>2008.0</th>\n",
       "      <td>26320757</td>\n",
       "    </tr>\n",
       "    <tr>\n",
       "      <th>2009.0</th>\n",
       "      <td>24412834</td>\n",
       "    </tr>\n",
       "    <tr>\n",
       "      <th>2010.0</th>\n",
       "      <td>29248307</td>\n",
       "    </tr>\n",
       "    <tr>\n",
       "      <th>2011.0</th>\n",
       "      <td>24495095</td>\n",
       "    </tr>\n",
       "    <tr>\n",
       "      <th>2012.0</th>\n",
       "      <td>27660251</td>\n",
       "    </tr>\n",
       "    <tr>\n",
       "      <th>2013.0</th>\n",
       "      <td>31771936</td>\n",
       "    </tr>\n",
       "    <tr>\n",
       "      <th>2014.0</th>\n",
       "      <td>23366383</td>\n",
       "    </tr>\n",
       "    <tr>\n",
       "      <th rowspan=\"5\" valign=\"top\">Angola</th>\n",
       "      <th>2000.0</th>\n",
       "      <td>149024154</td>\n",
       "    </tr>\n",
       "    <tr>\n",
       "      <th>2001.0</th>\n",
       "      <td>195654611</td>\n",
       "    </tr>\n",
       "    <tr>\n",
       "      <th>2002.0</th>\n",
       "      <td>320198429</td>\n",
       "    </tr>\n",
       "    <tr>\n",
       "      <th>2003.0</th>\n",
       "      <td>419605634</td>\n",
       "    </tr>\n",
       "    <tr>\n",
       "      <th>2004.0</th>\n",
       "      <td>324355719</td>\n",
       "    </tr>\n",
       "  </tbody>\n",
       "</table>\n",
       "</div>"
      ],
      "text/plain": [
       "                          constant_amount\n",
       "country_name fiscal_year                 \n",
       "Algeria      2000.0               1696369\n",
       "             2001.0               4678370\n",
       "             2002.0              10008641\n",
       "             2003.0               9894601\n",
       "             2004.0              10618022\n",
       "             2005.0               6266475\n",
       "             2006.0               6411946\n",
       "             2007.0              10812148\n",
       "             2008.0              26320757\n",
       "             2009.0              24412834\n",
       "             2010.0              29248307\n",
       "             2011.0              24495095\n",
       "             2012.0              27660251\n",
       "             2013.0              31771936\n",
       "             2014.0              23366383\n",
       "Angola       2000.0             149024154\n",
       "             2001.0             195654611\n",
       "             2002.0             320198429\n",
       "             2003.0             419605634\n",
       "             2004.0             324355719"
      ]
     },
     "execution_count": 47,
     "metadata": {},
     "output_type": "execute_result"
    }
   ],
   "source": [
    "usaid_yearly_sums.head(20)"
   ]
  },
  {
   "cell_type": "code",
   "execution_count": 48,
   "metadata": {},
   "outputs": [],
   "source": [
    "usaid_yearly_sums.rename(columns={'constant_amount': 'usaid_totals'}, inplace=True)"
   ]
  },
  {
   "cell_type": "code",
   "execution_count": 49,
   "metadata": {},
   "outputs": [],
   "source": [
    "usaid_yearly_sums.rename(columns={'fiscal_year': 'year'}, inplace=True)"
   ]
  },
  {
   "cell_type": "code",
   "execution_count": 50,
   "metadata": {},
   "outputs": [],
   "source": [
    "usaid_yearly_sums.rename(columns={'constant_amount' : 'usaid_totals', 'fiscal_year' : 'year'}, inplace=True)"
   ]
  },
  {
   "cell_type": "code",
   "execution_count": 51,
   "metadata": {},
   "outputs": [
    {
     "data": {
      "text/html": [
       "<div>\n",
       "<style scoped>\n",
       "    .dataframe tbody tr th:only-of-type {\n",
       "        vertical-align: middle;\n",
       "    }\n",
       "\n",
       "    .dataframe tbody tr th {\n",
       "        vertical-align: top;\n",
       "    }\n",
       "\n",
       "    .dataframe thead th {\n",
       "        text-align: right;\n",
       "    }\n",
       "</style>\n",
       "<table border=\"1\" class=\"dataframe\">\n",
       "  <thead>\n",
       "    <tr style=\"text-align: right;\">\n",
       "      <th></th>\n",
       "      <th></th>\n",
       "      <th>usaid_totals</th>\n",
       "    </tr>\n",
       "    <tr>\n",
       "      <th>country_name</th>\n",
       "      <th>fiscal_year</th>\n",
       "      <th></th>\n",
       "    </tr>\n",
       "  </thead>\n",
       "  <tbody>\n",
       "    <tr>\n",
       "      <th rowspan=\"5\" valign=\"top\">Algeria</th>\n",
       "      <th>2000.0</th>\n",
       "      <td>1696369</td>\n",
       "    </tr>\n",
       "    <tr>\n",
       "      <th>2001.0</th>\n",
       "      <td>4678370</td>\n",
       "    </tr>\n",
       "    <tr>\n",
       "      <th>2002.0</th>\n",
       "      <td>10008641</td>\n",
       "    </tr>\n",
       "    <tr>\n",
       "      <th>2003.0</th>\n",
       "      <td>9894601</td>\n",
       "    </tr>\n",
       "    <tr>\n",
       "      <th>2004.0</th>\n",
       "      <td>10618022</td>\n",
       "    </tr>\n",
       "  </tbody>\n",
       "</table>\n",
       "</div>"
      ],
      "text/plain": [
       "                          usaid_totals\n",
       "country_name fiscal_year              \n",
       "Algeria      2000.0            1696369\n",
       "             2001.0            4678370\n",
       "             2002.0           10008641\n",
       "             2003.0            9894601\n",
       "             2004.0           10618022"
      ]
     },
     "execution_count": 51,
     "metadata": {},
     "output_type": "execute_result"
    }
   ],
   "source": [
    "usaid_yearly_sums.head()"
   ]
  },
  {
   "cell_type": "code",
   "execution_count": 52,
   "metadata": {},
   "outputs": [],
   "source": [
    "usaid_yearly_sums.to_csv('./aid_data/usaid/usaid_yearly_sums.csv', index=True)"
   ]
  },
  {
   "cell_type": "code",
   "execution_count": null,
   "metadata": {},
   "outputs": [],
   "source": []
  },
  {
   "cell_type": "code",
   "execution_count": null,
   "metadata": {},
   "outputs": [],
   "source": []
  }
 ],
 "metadata": {
  "kernelspec": {
   "display_name": "Python 3",
   "language": "python",
   "name": "python3"
  },
  "language_info": {
   "codemirror_mode": {
    "name": "ipython",
    "version": 3
   },
   "file_extension": ".py",
   "mimetype": "text/x-python",
   "name": "python",
   "nbconvert_exporter": "python",
   "pygments_lexer": "ipython3",
   "version": "3.7.6"
  }
 },
 "nbformat": 4,
 "nbformat_minor": 4
}
