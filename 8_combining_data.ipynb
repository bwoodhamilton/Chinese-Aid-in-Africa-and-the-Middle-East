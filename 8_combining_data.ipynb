{
 "cells": [
  {
   "cell_type": "markdown",
   "metadata": {},
   "source": [
    "# Combining Data from Multiple Sources"
   ]
  },
  {
   "cell_type": "code",
   "execution_count": 1059,
   "metadata": {},
   "outputs": [],
   "source": [
    "# Importing libraries \n",
    "import numpy as np\n",
    "import pandas as pd\n",
    "import matplotlib.pyplot as plt\n",
    "import seaborn as sns"
   ]
  },
  {
   "cell_type": "markdown",
   "metadata": {},
   "source": [
    "## William and Mary Aid Data"
   ]
  },
  {
   "cell_type": "code",
   "execution_count": 1060,
   "metadata": {},
   "outputs": [],
   "source": [
    "# Reading in cleaned world bank data\n",
    "world_bank = pd.read_csv('./aid_data/aid_data_wm/world_bank_sums.csv')"
   ]
  },
  {
   "cell_type": "code",
   "execution_count": 1061,
   "metadata": {},
   "outputs": [],
   "source": [
    "# Reading in cleaned Chinese data \n",
    "chinese = pd.read_csv('./aid_data/aid_data_wm/chinese_aid_sums.csv')"
   ]
  },
  {
   "cell_type": "code",
   "execution_count": 1062,
   "metadata": {},
   "outputs": [
    {
     "data": {
      "text/html": [
       "<div>\n",
       "<style scoped>\n",
       "    .dataframe tbody tr th:only-of-type {\n",
       "        vertical-align: middle;\n",
       "    }\n",
       "\n",
       "    .dataframe tbody tr th {\n",
       "        vertical-align: top;\n",
       "    }\n",
       "\n",
       "    .dataframe thead th {\n",
       "        text-align: right;\n",
       "    }\n",
       "</style>\n",
       "<table border=\"1\" class=\"dataframe\">\n",
       "  <thead>\n",
       "    <tr style=\"text-align: right;\">\n",
       "      <th></th>\n",
       "      <th>recipients</th>\n",
       "      <th>world_bank_totals</th>\n",
       "    </tr>\n",
       "  </thead>\n",
       "  <tbody>\n",
       "    <tr>\n",
       "      <th>0</th>\n",
       "      <td>Africa</td>\n",
       "      <td>3.875336e+09</td>\n",
       "    </tr>\n",
       "    <tr>\n",
       "      <th>1</th>\n",
       "      <td>Algeria</td>\n",
       "      <td>4.380505e+08</td>\n",
       "    </tr>\n",
       "    <tr>\n",
       "      <th>2</th>\n",
       "      <td>Angola</td>\n",
       "      <td>8.030873e+08</td>\n",
       "    </tr>\n",
       "    <tr>\n",
       "      <th>3</th>\n",
       "      <td>Benin</td>\n",
       "      <td>1.107820e+09</td>\n",
       "    </tr>\n",
       "    <tr>\n",
       "      <th>4</th>\n",
       "      <td>Botswana</td>\n",
       "      <td>3.858719e+08</td>\n",
       "    </tr>\n",
       "  </tbody>\n",
       "</table>\n",
       "</div>"
      ],
      "text/plain": [
       "  recipients  world_bank_totals\n",
       "0     Africa       3.875336e+09\n",
       "1    Algeria       4.380505e+08\n",
       "2     Angola       8.030873e+08\n",
       "3      Benin       1.107820e+09\n",
       "4   Botswana       3.858719e+08"
      ]
     },
     "execution_count": 1062,
     "metadata": {},
     "output_type": "execute_result"
    }
   ],
   "source": [
    "# Checking world bank data\n",
    "world_bank.head()"
   ]
  },
  {
   "cell_type": "code",
   "execution_count": 1063,
   "metadata": {},
   "outputs": [
    {
     "data": {
      "text/html": [
       "<div>\n",
       "<style scoped>\n",
       "    .dataframe tbody tr th:only-of-type {\n",
       "        vertical-align: middle;\n",
       "    }\n",
       "\n",
       "    .dataframe tbody tr th {\n",
       "        vertical-align: top;\n",
       "    }\n",
       "\n",
       "    .dataframe thead th {\n",
       "        text-align: right;\n",
       "    }\n",
       "</style>\n",
       "<table border=\"1\" class=\"dataframe\">\n",
       "  <thead>\n",
       "    <tr style=\"text-align: right;\">\n",
       "      <th></th>\n",
       "      <th>recipient_condensed</th>\n",
       "      <th>chinese_aid_totals</th>\n",
       "    </tr>\n",
       "  </thead>\n",
       "  <tbody>\n",
       "    <tr>\n",
       "      <th>0</th>\n",
       "      <td>Africa, regional</td>\n",
       "      <td>1.554420e+10</td>\n",
       "    </tr>\n",
       "    <tr>\n",
       "      <th>1</th>\n",
       "      <td>Algeria</td>\n",
       "      <td>5.674971e+08</td>\n",
       "    </tr>\n",
       "    <tr>\n",
       "      <th>2</th>\n",
       "      <td>Angola</td>\n",
       "      <td>3.824927e+10</td>\n",
       "    </tr>\n",
       "    <tr>\n",
       "      <th>3</th>\n",
       "      <td>Bahrain</td>\n",
       "      <td>2.108542e+07</td>\n",
       "    </tr>\n",
       "    <tr>\n",
       "      <th>4</th>\n",
       "      <td>Benin</td>\n",
       "      <td>1.212040e+09</td>\n",
       "    </tr>\n",
       "  </tbody>\n",
       "</table>\n",
       "</div>"
      ],
      "text/plain": [
       "  recipient_condensed  chinese_aid_totals\n",
       "0    Africa, regional        1.554420e+10\n",
       "1             Algeria        5.674971e+08\n",
       "2              Angola        3.824927e+10\n",
       "3             Bahrain        2.108542e+07\n",
       "4               Benin        1.212040e+09"
      ]
     },
     "execution_count": 1063,
     "metadata": {},
     "output_type": "execute_result"
    }
   ],
   "source": [
    "# Checking Chinese data\n",
    "chinese.head()"
   ]
  },
  {
   "cell_type": "code",
   "execution_count": 1064,
   "metadata": {},
   "outputs": [],
   "source": [
    "# Changing recipients to country\n",
    "world_bank.rename(columns={'recipients': 'country'}, inplace=True)"
   ]
  },
  {
   "cell_type": "code",
   "execution_count": 1065,
   "metadata": {},
   "outputs": [
    {
     "data": {
      "text/html": [
       "<div>\n",
       "<style scoped>\n",
       "    .dataframe tbody tr th:only-of-type {\n",
       "        vertical-align: middle;\n",
       "    }\n",
       "\n",
       "    .dataframe tbody tr th {\n",
       "        vertical-align: top;\n",
       "    }\n",
       "\n",
       "    .dataframe thead th {\n",
       "        text-align: right;\n",
       "    }\n",
       "</style>\n",
       "<table border=\"1\" class=\"dataframe\">\n",
       "  <thead>\n",
       "    <tr style=\"text-align: right;\">\n",
       "      <th></th>\n",
       "      <th>country</th>\n",
       "      <th>world_bank_totals</th>\n",
       "    </tr>\n",
       "  </thead>\n",
       "  <tbody>\n",
       "    <tr>\n",
       "      <th>0</th>\n",
       "      <td>Africa</td>\n",
       "      <td>3.875336e+09</td>\n",
       "    </tr>\n",
       "    <tr>\n",
       "      <th>1</th>\n",
       "      <td>Algeria</td>\n",
       "      <td>4.380505e+08</td>\n",
       "    </tr>\n",
       "    <tr>\n",
       "      <th>2</th>\n",
       "      <td>Angola</td>\n",
       "      <td>8.030873e+08</td>\n",
       "    </tr>\n",
       "    <tr>\n",
       "      <th>3</th>\n",
       "      <td>Benin</td>\n",
       "      <td>1.107820e+09</td>\n",
       "    </tr>\n",
       "    <tr>\n",
       "      <th>4</th>\n",
       "      <td>Botswana</td>\n",
       "      <td>3.858719e+08</td>\n",
       "    </tr>\n",
       "  </tbody>\n",
       "</table>\n",
       "</div>"
      ],
      "text/plain": [
       "    country  world_bank_totals\n",
       "0    Africa       3.875336e+09\n",
       "1   Algeria       4.380505e+08\n",
       "2    Angola       8.030873e+08\n",
       "3     Benin       1.107820e+09\n",
       "4  Botswana       3.858719e+08"
      ]
     },
     "execution_count": 1065,
     "metadata": {},
     "output_type": "execute_result"
    }
   ],
   "source": [
    "# Checking to see if the change stuck \n",
    "world_bank.head()"
   ]
  },
  {
   "cell_type": "code",
   "execution_count": 1066,
   "metadata": {},
   "outputs": [
    {
     "data": {
      "text/plain": [
       "array(['Africa', 'Algeria', 'Angola', 'Benin', 'Botswana', 'Burkina Faso',\n",
       "       'Burundi', 'Cabo Verde', 'Cameroon', 'Central African Republic',\n",
       "       'Chad', 'Comoros', 'Congo', \"Cote D'Ivoire\",\n",
       "       'Democratic Republic of Congo', 'Djibouti', 'Eastern Africa',\n",
       "       'Egypt', 'Eritrea', 'Ethiopia', 'Gabon', 'Gambia', 'Ghana',\n",
       "       'Guinea', 'Guinea-Bissau', 'Iran', 'Iraq', 'Jordan', 'Kenya',\n",
       "       'Lebanon', 'Lesotho', 'Liberia', 'Madagascar', 'Malawi', 'Mali',\n",
       "       'Mauritania', 'Mauritius', 'Morocco', 'Mozambique', 'Namibia',\n",
       "       'Niger', 'Nigeria', 'Rwanda', 'Sao Tome and Principe', 'Senegal',\n",
       "       'Seychelles', 'Sierra Leone', 'South Africa', 'South Sudan',\n",
       "       'Swaziland', 'Tanzania', 'Togo', 'Tunisia', 'Turkey', 'Uganda',\n",
       "       'Western Africa', 'Yemen', 'Zambia'], dtype=object)"
      ]
     },
     "execution_count": 1066,
     "metadata": {},
     "output_type": "execute_result"
    }
   ],
   "source": [
    "# Looking at the unique country values\n",
    "world_bank['country'].unique()"
   ]
  },
  {
   "cell_type": "code",
   "execution_count": 1067,
   "metadata": {},
   "outputs": [],
   "source": [
    "# Renaming recipients to country \n",
    "chinese.rename(columns={'recipient_condensed': 'country'}, inplace=True)"
   ]
  },
  {
   "cell_type": "code",
   "execution_count": 1068,
   "metadata": {},
   "outputs": [
    {
     "data": {
      "text/html": [
       "<div>\n",
       "<style scoped>\n",
       "    .dataframe tbody tr th:only-of-type {\n",
       "        vertical-align: middle;\n",
       "    }\n",
       "\n",
       "    .dataframe tbody tr th {\n",
       "        vertical-align: top;\n",
       "    }\n",
       "\n",
       "    .dataframe thead th {\n",
       "        text-align: right;\n",
       "    }\n",
       "</style>\n",
       "<table border=\"1\" class=\"dataframe\">\n",
       "  <thead>\n",
       "    <tr style=\"text-align: right;\">\n",
       "      <th></th>\n",
       "      <th>country</th>\n",
       "      <th>chinese_aid_totals</th>\n",
       "    </tr>\n",
       "  </thead>\n",
       "  <tbody>\n",
       "    <tr>\n",
       "      <th>0</th>\n",
       "      <td>Africa, regional</td>\n",
       "      <td>1.554420e+10</td>\n",
       "    </tr>\n",
       "    <tr>\n",
       "      <th>1</th>\n",
       "      <td>Algeria</td>\n",
       "      <td>5.674971e+08</td>\n",
       "    </tr>\n",
       "    <tr>\n",
       "      <th>2</th>\n",
       "      <td>Angola</td>\n",
       "      <td>3.824927e+10</td>\n",
       "    </tr>\n",
       "    <tr>\n",
       "      <th>3</th>\n",
       "      <td>Bahrain</td>\n",
       "      <td>2.108542e+07</td>\n",
       "    </tr>\n",
       "    <tr>\n",
       "      <th>4</th>\n",
       "      <td>Benin</td>\n",
       "      <td>1.212040e+09</td>\n",
       "    </tr>\n",
       "  </tbody>\n",
       "</table>\n",
       "</div>"
      ],
      "text/plain": [
       "            country  chinese_aid_totals\n",
       "0  Africa, regional        1.554420e+10\n",
       "1           Algeria        5.674971e+08\n",
       "2            Angola        3.824927e+10\n",
       "3           Bahrain        2.108542e+07\n",
       "4             Benin        1.212040e+09"
      ]
     },
     "execution_count": 1068,
     "metadata": {},
     "output_type": "execute_result"
    }
   ],
   "source": [
    "# Making sure the change stuck \n",
    "chinese.head()"
   ]
  },
  {
   "cell_type": "code",
   "execution_count": 1069,
   "metadata": {},
   "outputs": [
    {
     "data": {
      "text/plain": [
       "array(['Africa, regional', 'Algeria', 'Angola', 'Bahrain', 'Benin',\n",
       "       'Botswana', 'Burundi', 'Cabo Verde', 'Cameroon',\n",
       "       'Central African Republic', 'Chad', 'Comoros', 'Congo',\n",
       "       \"Cote D'Ivoire\", 'Democratic Republic of Congo', 'Djibouti',\n",
       "       'Egypt', 'Equatorial Guinea', 'Eritrea', 'Ethiopia', 'Gabon',\n",
       "       'Ghana', 'Guinea', 'Guinea-Bissau', 'Iraq', 'Israel', 'Jordan',\n",
       "       'Kenya', 'Lebanon', 'Lesotho', 'Liberia', 'Libya', 'Madagascar',\n",
       "       'Malawi', 'Mali', 'Mauritania', 'Mauritius', 'Morocco',\n",
       "       'Mozambique', 'Namibia', 'Niger', 'Nigeria', 'Palestine', 'Rwanda',\n",
       "       'Senegal', 'Seychelles', 'Sierra Leone', 'Somalia', 'South Africa',\n",
       "       'South Sudan', 'Sudan', 'Syria', 'Tanzania', 'Togo', 'Tunisia',\n",
       "       'Turkey', 'Uganda', 'United Arab Emirates', 'Yemen', 'Zambia',\n",
       "       'Zimbabwe'], dtype=object)"
      ]
     },
     "execution_count": 1069,
     "metadata": {},
     "output_type": "execute_result"
    }
   ],
   "source": [
    "# Looking at the country values\n",
    "chinese['country'].unique()"
   ]
  },
  {
   "cell_type": "code",
   "execution_count": 1070,
   "metadata": {},
   "outputs": [
    {
     "name": "stdout",
     "output_type": "stream",
     "text": [
      "<class 'pandas.core.frame.DataFrame'>\n",
      "RangeIndex: 58 entries, 0 to 57\n",
      "Data columns (total 2 columns):\n",
      "country              58 non-null object\n",
      "world_bank_totals    58 non-null float64\n",
      "dtypes: float64(1), object(1)\n",
      "memory usage: 1.0+ KB\n"
     ]
    }
   ],
   "source": [
    "# Looking the data types and null values \n",
    "world_bank.info()"
   ]
  },
  {
   "cell_type": "code",
   "execution_count": 1071,
   "metadata": {},
   "outputs": [
    {
     "name": "stdout",
     "output_type": "stream",
     "text": [
      "<class 'pandas.core.frame.DataFrame'>\n",
      "RangeIndex: 61 entries, 0 to 60\n",
      "Data columns (total 2 columns):\n",
      "country               61 non-null object\n",
      "chinese_aid_totals    61 non-null float64\n",
      "dtypes: float64(1), object(1)\n",
      "memory usage: 1.1+ KB\n"
     ]
    }
   ],
   "source": [
    "# Looking at the data types and null values \n",
    "chinese.info()"
   ]
  },
  {
   "cell_type": "code",
   "execution_count": 1072,
   "metadata": {},
   "outputs": [],
   "source": [
    "# Merging my two dataframes on country. Doing outer because each has rows I want to keep that aren't in\n",
    "# the other one. \n",
    "aid = pd.merge(world_bank, chinese, how='outer', on=['country'])"
   ]
  },
  {
   "cell_type": "code",
   "execution_count": 1073,
   "metadata": {},
   "outputs": [
    {
     "data": {
      "text/html": [
       "<div>\n",
       "<style scoped>\n",
       "    .dataframe tbody tr th:only-of-type {\n",
       "        vertical-align: middle;\n",
       "    }\n",
       "\n",
       "    .dataframe tbody tr th {\n",
       "        vertical-align: top;\n",
       "    }\n",
       "\n",
       "    .dataframe thead th {\n",
       "        text-align: right;\n",
       "    }\n",
       "</style>\n",
       "<table border=\"1\" class=\"dataframe\">\n",
       "  <thead>\n",
       "    <tr style=\"text-align: right;\">\n",
       "      <th></th>\n",
       "      <th>country</th>\n",
       "      <th>world_bank_totals</th>\n",
       "      <th>chinese_aid_totals</th>\n",
       "    </tr>\n",
       "  </thead>\n",
       "  <tbody>\n",
       "    <tr>\n",
       "      <th>0</th>\n",
       "      <td>Africa</td>\n",
       "      <td>3.875336e+09</td>\n",
       "      <td>NaN</td>\n",
       "    </tr>\n",
       "    <tr>\n",
       "      <th>1</th>\n",
       "      <td>Algeria</td>\n",
       "      <td>4.380505e+08</td>\n",
       "      <td>5.674971e+08</td>\n",
       "    </tr>\n",
       "    <tr>\n",
       "      <th>2</th>\n",
       "      <td>Angola</td>\n",
       "      <td>8.030873e+08</td>\n",
       "      <td>3.824927e+10</td>\n",
       "    </tr>\n",
       "    <tr>\n",
       "      <th>3</th>\n",
       "      <td>Benin</td>\n",
       "      <td>1.107820e+09</td>\n",
       "      <td>1.212040e+09</td>\n",
       "    </tr>\n",
       "    <tr>\n",
       "      <th>4</th>\n",
       "      <td>Botswana</td>\n",
       "      <td>3.858719e+08</td>\n",
       "      <td>2.585561e+09</td>\n",
       "    </tr>\n",
       "  </tbody>\n",
       "</table>\n",
       "</div>"
      ],
      "text/plain": [
       "    country  world_bank_totals  chinese_aid_totals\n",
       "0    Africa       3.875336e+09                 NaN\n",
       "1   Algeria       4.380505e+08        5.674971e+08\n",
       "2    Angola       8.030873e+08        3.824927e+10\n",
       "3     Benin       1.107820e+09        1.212040e+09\n",
       "4  Botswana       3.858719e+08        2.585561e+09"
      ]
     },
     "execution_count": 1073,
     "metadata": {},
     "output_type": "execute_result"
    }
   ],
   "source": [
    "# Checking my combined data frame \n",
    "aid.head()"
   ]
  },
  {
   "cell_type": "code",
   "execution_count": 1074,
   "metadata": {},
   "outputs": [
    {
     "name": "stdout",
     "output_type": "stream",
     "text": [
      "<class 'pandas.core.frame.DataFrame'>\n",
      "Int64Index: 69 entries, 0 to 68\n",
      "Data columns (total 3 columns):\n",
      "country               69 non-null object\n",
      "world_bank_totals     58 non-null float64\n",
      "chinese_aid_totals    61 non-null float64\n",
      "dtypes: float64(2), object(1)\n",
      "memory usage: 2.2+ KB\n"
     ]
    }
   ],
   "source": [
    "# Looking at my null values and data types \n",
    "aid.info()"
   ]
  },
  {
   "cell_type": "markdown",
   "metadata": {},
   "source": [
    "## USAID Data"
   ]
  },
  {
   "cell_type": "code",
   "execution_count": 1075,
   "metadata": {},
   "outputs": [],
   "source": [
    "# Reading in csv \n",
    "usaid = pd.read_csv('./aid_data/usaid/usaid_sums.csv')"
   ]
  },
  {
   "cell_type": "code",
   "execution_count": 1076,
   "metadata": {},
   "outputs": [
    {
     "data": {
      "text/html": [
       "<div>\n",
       "<style scoped>\n",
       "    .dataframe tbody tr th:only-of-type {\n",
       "        vertical-align: middle;\n",
       "    }\n",
       "\n",
       "    .dataframe tbody tr th {\n",
       "        vertical-align: top;\n",
       "    }\n",
       "\n",
       "    .dataframe thead th {\n",
       "        text-align: right;\n",
       "    }\n",
       "</style>\n",
       "<table border=\"1\" class=\"dataframe\">\n",
       "  <thead>\n",
       "    <tr style=\"text-align: right;\">\n",
       "      <th></th>\n",
       "      <th>country_name</th>\n",
       "      <th>usaid_totals</th>\n",
       "    </tr>\n",
       "  </thead>\n",
       "  <tbody>\n",
       "    <tr>\n",
       "      <th>0</th>\n",
       "      <td>Algeria</td>\n",
       "      <td>247662135</td>\n",
       "    </tr>\n",
       "    <tr>\n",
       "      <th>1</th>\n",
       "      <td>Angola</td>\n",
       "      <td>2939892764</td>\n",
       "    </tr>\n",
       "    <tr>\n",
       "      <th>2</th>\n",
       "      <td>Bahrain</td>\n",
       "      <td>900204738</td>\n",
       "    </tr>\n",
       "    <tr>\n",
       "      <th>3</th>\n",
       "      <td>Benin</td>\n",
       "      <td>1785450859</td>\n",
       "    </tr>\n",
       "    <tr>\n",
       "      <th>4</th>\n",
       "      <td>Botswana</td>\n",
       "      <td>2141446815</td>\n",
       "    </tr>\n",
       "  </tbody>\n",
       "</table>\n",
       "</div>"
      ],
      "text/plain": [
       "  country_name  usaid_totals\n",
       "0      Algeria     247662135\n",
       "1       Angola    2939892764\n",
       "2      Bahrain     900204738\n",
       "3        Benin    1785450859\n",
       "4     Botswana    2141446815"
      ]
     },
     "execution_count": 1076,
     "metadata": {},
     "output_type": "execute_result"
    }
   ],
   "source": [
    "# Looking at USAID data \n",
    "usaid.head()"
   ]
  },
  {
   "cell_type": "code",
   "execution_count": 1077,
   "metadata": {},
   "outputs": [],
   "source": [
    "# Renaming my columns \n",
    "usaid.rename(columns={'country_name': 'country', 'usaid_totals': 'usaid_aid'}, inplace=True)"
   ]
  },
  {
   "cell_type": "code",
   "execution_count": 1078,
   "metadata": {},
   "outputs": [
    {
     "data": {
      "text/plain": [
       "array(['Algeria', 'Angola', 'Bahrain', 'Benin', 'Botswana',\n",
       "       'British Indian Ocean Territory', 'Burkina Faso', 'Burundi',\n",
       "       'Cabo Verde', 'Cameroon', 'Central African Republic', 'Chad',\n",
       "       'Comoros', 'Congo', \"Cote D'Ivoire\",\n",
       "       'Democratic Republic of Congo', 'Djibouti',\n",
       "       'East and South Africa Region', 'Eastern Africa Region',\n",
       "       'Eastern and Central Africa Region', 'Egypt', 'Equatorial Guinea',\n",
       "       'Eritrea', 'Ethiopia', 'Gabon', 'Gambia', 'Ghana', 'Guinea',\n",
       "       'Guinea-Bissau', 'Iran', 'Iraq', 'Israel', 'Jordan', 'Kenya',\n",
       "       'Kuwait', 'Lebanon', 'Lesotho', 'Liberia', 'Libya', 'Madagascar',\n",
       "       'Malawi', 'Mali', 'Mauritania', 'Mauritius', 'Middle East Region',\n",
       "       'Middle East and North Africa Region', 'Morocco', 'Mozambique',\n",
       "       'Namibia', 'Niger', 'Nigeria', 'North Africa Region', 'Oman',\n",
       "       'Palestine', 'Qatar', 'Rwanda', 'Sao Tome and Principe',\n",
       "       'Saudi Arabia', 'Senegal', 'Seychelles', 'Sierra Leone', 'Somalia',\n",
       "       'South Africa', 'South Sudan', 'Southern Africa Region',\n",
       "       'Sub-Saharan Africa Region', 'Sudan', 'Swaziland', 'Syria',\n",
       "       'Tanzania', 'Togo', 'Tunisia', 'Turkey', 'Uganda',\n",
       "       'United Arab Emirates', 'West Africa Region',\n",
       "       'Western (Spanish) Sahara', 'Yemen', 'Zambia', 'Zimbabwe'],\n",
       "      dtype=object)"
      ]
     },
     "execution_count": 1078,
     "metadata": {},
     "output_type": "execute_result"
    }
   ],
   "source": [
    "# Looking at unique country names \n",
    "usaid['country'].unique()"
   ]
  },
  {
   "cell_type": "code",
   "execution_count": 1079,
   "metadata": {},
   "outputs": [
    {
     "data": {
      "text/plain": [
       "array(['Algeria', 'Angola', 'Bahrain', 'Benin', 'Botswana',\n",
       "       'British Indian Ocean Territory', 'Burkina Faso', 'Burundi',\n",
       "       'Cabo Verde', 'Cameroon', 'Central African Republic', 'Chad',\n",
       "       'Comoros', 'Congo', \"Cote D'Ivoire\",\n",
       "       'Democratic Republic of Congo', 'Djibouti',\n",
       "       'East and South Africa Region', 'Eastern Africa Region',\n",
       "       'Eastern and Central Africa Region', 'Egypt', 'Equatorial Guinea',\n",
       "       'Eritrea', 'Ethiopia', 'Gabon', 'Gambia', 'Ghana', 'Guinea',\n",
       "       'Guinea-Bissau', 'Iran', 'Iraq', 'Israel', 'Jordan', 'Kenya',\n",
       "       'Kuwait', 'Lebanon', 'Lesotho', 'Liberia', 'Libya', 'Madagascar',\n",
       "       'Malawi', 'Mali', 'Mauritania', 'Mauritius', 'Middle East Region',\n",
       "       'Middle East and North Africa Region', 'Morocco', 'Mozambique',\n",
       "       'Namibia', 'Niger', 'Nigeria', 'North Africa Region', 'Oman',\n",
       "       'Palestine', 'Qatar', 'Rwanda', 'Sao Tome and Principe',\n",
       "       'Saudi Arabia', 'Senegal', 'Seychelles', 'Sierra Leone', 'Somalia',\n",
       "       'South Africa', 'South Sudan', 'Southern Africa Region',\n",
       "       'Sub-Saharan Africa Region', 'Sudan', 'Swaziland', 'Syria',\n",
       "       'Tanzania', 'Togo', 'Tunisia', 'Turkey', 'Uganda',\n",
       "       'United Arab Emirates', 'West Africa Region',\n",
       "       'Western (Spanish) Sahara', 'Yemen', 'Zambia', 'Zimbabwe'],\n",
       "      dtype=object)"
      ]
     },
     "execution_count": 1079,
     "metadata": {},
     "output_type": "execute_result"
    }
   ],
   "source": [
    "# Looking at unique country names \n",
    "usaid['country'].unique()"
   ]
  },
  {
   "cell_type": "code",
   "execution_count": 1080,
   "metadata": {},
   "outputs": [],
   "source": [
    "# Merging USAID data with Chinese/World Bank data \n",
    "aid = pd.merge(aid, usaid, how='outer', on=['country'])"
   ]
  },
  {
   "cell_type": "code",
   "execution_count": 1081,
   "metadata": {},
   "outputs": [
    {
     "data": {
      "text/html": [
       "<div>\n",
       "<style scoped>\n",
       "    .dataframe tbody tr th:only-of-type {\n",
       "        vertical-align: middle;\n",
       "    }\n",
       "\n",
       "    .dataframe tbody tr th {\n",
       "        vertical-align: top;\n",
       "    }\n",
       "\n",
       "    .dataframe thead th {\n",
       "        text-align: right;\n",
       "    }\n",
       "</style>\n",
       "<table border=\"1\" class=\"dataframe\">\n",
       "  <thead>\n",
       "    <tr style=\"text-align: right;\">\n",
       "      <th></th>\n",
       "      <th>country</th>\n",
       "      <th>world_bank_totals</th>\n",
       "      <th>chinese_aid_totals</th>\n",
       "      <th>usaid_aid</th>\n",
       "    </tr>\n",
       "  </thead>\n",
       "  <tbody>\n",
       "    <tr>\n",
       "      <th>0</th>\n",
       "      <td>Africa</td>\n",
       "      <td>3.875336e+09</td>\n",
       "      <td>NaN</td>\n",
       "      <td>NaN</td>\n",
       "    </tr>\n",
       "    <tr>\n",
       "      <th>1</th>\n",
       "      <td>Algeria</td>\n",
       "      <td>4.380505e+08</td>\n",
       "      <td>5.674971e+08</td>\n",
       "      <td>2.476621e+08</td>\n",
       "    </tr>\n",
       "    <tr>\n",
       "      <th>2</th>\n",
       "      <td>Angola</td>\n",
       "      <td>8.030873e+08</td>\n",
       "      <td>3.824927e+10</td>\n",
       "      <td>2.939893e+09</td>\n",
       "    </tr>\n",
       "    <tr>\n",
       "      <th>3</th>\n",
       "      <td>Benin</td>\n",
       "      <td>1.107820e+09</td>\n",
       "      <td>1.212040e+09</td>\n",
       "      <td>1.785451e+09</td>\n",
       "    </tr>\n",
       "    <tr>\n",
       "      <th>4</th>\n",
       "      <td>Botswana</td>\n",
       "      <td>3.858719e+08</td>\n",
       "      <td>2.585561e+09</td>\n",
       "      <td>2.141447e+09</td>\n",
       "    </tr>\n",
       "  </tbody>\n",
       "</table>\n",
       "</div>"
      ],
      "text/plain": [
       "    country  world_bank_totals  chinese_aid_totals     usaid_aid\n",
       "0    Africa       3.875336e+09                 NaN           NaN\n",
       "1   Algeria       4.380505e+08        5.674971e+08  2.476621e+08\n",
       "2    Angola       8.030873e+08        3.824927e+10  2.939893e+09\n",
       "3     Benin       1.107820e+09        1.212040e+09  1.785451e+09\n",
       "4  Botswana       3.858719e+08        2.585561e+09  2.141447e+09"
      ]
     },
     "execution_count": 1081,
     "metadata": {},
     "output_type": "execute_result"
    }
   ],
   "source": [
    "# Looking at my new data frame\n",
    "aid.head()"
   ]
  },
  {
   "cell_type": "code",
   "execution_count": 1082,
   "metadata": {},
   "outputs": [
    {
     "data": {
      "text/plain": [
       "array(['Africa', 'Algeria', 'Angola', 'Benin', 'Botswana', 'Burkina Faso',\n",
       "       'Burundi', 'Cabo Verde', 'Cameroon', 'Central African Republic',\n",
       "       'Chad', 'Comoros', 'Congo', \"Cote D'Ivoire\",\n",
       "       'Democratic Republic of Congo', 'Djibouti', 'Eastern Africa',\n",
       "       'Egypt', 'Eritrea', 'Ethiopia', 'Gabon', 'Gambia', 'Ghana',\n",
       "       'Guinea', 'Guinea-Bissau', 'Iran', 'Iraq', 'Jordan', 'Kenya',\n",
       "       'Lebanon', 'Lesotho', 'Liberia', 'Madagascar', 'Malawi', 'Mali',\n",
       "       'Mauritania', 'Mauritius', 'Morocco', 'Mozambique', 'Namibia',\n",
       "       'Niger', 'Nigeria', 'Rwanda', 'Sao Tome and Principe', 'Senegal',\n",
       "       'Seychelles', 'Sierra Leone', 'South Africa', 'South Sudan',\n",
       "       'Swaziland', 'Tanzania', 'Togo', 'Tunisia', 'Turkey', 'Uganda',\n",
       "       'Western Africa', 'Yemen', 'Zambia', 'Africa, regional', 'Bahrain',\n",
       "       'Equatorial Guinea', 'Israel', 'Libya', 'Palestine', 'Somalia',\n",
       "       'Sudan', 'Syria', 'United Arab Emirates', 'Zimbabwe',\n",
       "       'British Indian Ocean Territory', 'East and South Africa Region',\n",
       "       'Eastern Africa Region', 'Eastern and Central Africa Region',\n",
       "       'Kuwait', 'Middle East Region',\n",
       "       'Middle East and North Africa Region', 'North Africa Region',\n",
       "       'Oman', 'Qatar', 'Saudi Arabia', 'Southern Africa Region',\n",
       "       'Sub-Saharan Africa Region', 'West Africa Region',\n",
       "       'Western (Spanish) Sahara'], dtype=object)"
      ]
     },
     "execution_count": 1082,
     "metadata": {},
     "output_type": "execute_result"
    }
   ],
   "source": [
    "# Looking at the list of unique countries \n",
    "aid['country'].unique()"
   ]
  },
  {
   "cell_type": "code",
   "execution_count": 1083,
   "metadata": {},
   "outputs": [],
   "source": [
    "# Getting rid of the regional values I don't need \n",
    "aid = aid.drop(aid.loc[aid['country'] == 'Africa'].index)\n",
    "aid = aid.drop(aid.loc[aid['country'] == 'Eastern Africa'].index)\n",
    "aid = aid.drop(aid.loc[aid['country'] == 'Western Africa'].index)\n",
    "aid = aid.drop(aid.loc[aid['country'] == 'Africa, regional'].index)\n",
    "aid = aid.drop(aid.loc[aid['country'] == 'British Indian Ocean Territory'].index)\n",
    "aid = aid.drop(aid.loc[aid['country'] == 'East and South Africa Region'].index)\n",
    "aid = aid.drop(aid.loc[aid['country'] == 'Eastern Africa Region'].index)\n",
    "aid = aid.drop(aid.loc[aid['country'] == 'Eastern and Central Africa Region'].index)\n",
    "aid = aid.drop(aid.loc[aid['country'] == 'Middle East Region'].index)\n",
    "aid = aid.drop(aid.loc[aid['country'] == 'Middle East and North Africa Region'].index)\n",
    "aid = aid.drop(aid.loc[aid['country'] == 'North Africa Region'].index)\n",
    "aid = aid.drop(aid.loc[aid['country'] == 'Southern Africa Region'].index)\n",
    "aid = aid.drop(aid.loc[aid['country'] == 'Sub-Saharan Africa Region'].index)\n",
    "aid = aid.drop(aid.loc[aid['country'] == 'West Africa Region'].index)\n",
    "aid = aid.drop(aid.loc[aid['country'] == 'Western (Spanish) Sahara'].index)"
   ]
  },
  {
   "cell_type": "code",
   "execution_count": 1084,
   "metadata": {},
   "outputs": [
    {
     "name": "stdout",
     "output_type": "stream",
     "text": [
      "<class 'pandas.core.frame.DataFrame'>\n",
      "Int64Index: 69 entries, 1 to 79\n",
      "Data columns (total 4 columns):\n",
      "country               69 non-null object\n",
      "world_bank_totals     55 non-null float64\n",
      "chinese_aid_totals    60 non-null float64\n",
      "usaid_aid             69 non-null float64\n",
      "dtypes: float64(3), object(1)\n",
      "memory usage: 2.7+ KB\n"
     ]
    }
   ],
   "source": [
    "# Checking out the null values and data types of my new data frame \n",
    "aid.info()"
   ]
  },
  {
   "cell_type": "code",
   "execution_count": 1085,
   "metadata": {},
   "outputs": [
    {
     "data": {
      "text/plain": [
       "array(['Algeria', 'Angola', 'Benin', 'Botswana', 'Burkina Faso',\n",
       "       'Burundi', 'Cabo Verde', 'Cameroon', 'Central African Republic',\n",
       "       'Chad', 'Comoros', 'Congo', \"Cote D'Ivoire\",\n",
       "       'Democratic Republic of Congo', 'Djibouti', 'Egypt', 'Eritrea',\n",
       "       'Ethiopia', 'Gabon', 'Gambia', 'Ghana', 'Guinea', 'Guinea-Bissau',\n",
       "       'Iran', 'Iraq', 'Jordan', 'Kenya', 'Lebanon', 'Lesotho', 'Liberia',\n",
       "       'Madagascar', 'Malawi', 'Mali', 'Mauritania', 'Mauritius',\n",
       "       'Morocco', 'Mozambique', 'Namibia', 'Niger', 'Nigeria', 'Rwanda',\n",
       "       'Sao Tome and Principe', 'Senegal', 'Seychelles', 'Sierra Leone',\n",
       "       'South Africa', 'South Sudan', 'Swaziland', 'Tanzania', 'Togo',\n",
       "       'Tunisia', 'Turkey', 'Uganda', 'Yemen', 'Zambia', 'Bahrain',\n",
       "       'Equatorial Guinea', 'Israel', 'Libya', 'Palestine', 'Somalia',\n",
       "       'Sudan', 'Syria', 'United Arab Emirates', 'Zimbabwe', 'Kuwait',\n",
       "       'Oman', 'Qatar', 'Saudi Arabia'], dtype=object)"
      ]
     },
     "execution_count": 1085,
     "metadata": {},
     "output_type": "execute_result"
    }
   ],
   "source": [
    "# Looking at my unique country values \n",
    "aid['country'].unique()"
   ]
  },
  {
   "cell_type": "code",
   "execution_count": 1086,
   "metadata": {},
   "outputs": [],
   "source": [
    "# Saving data frame to a csv \n",
    "aid.to_csv('./aid_data/combined_data/aid_sums.csv', index=False)"
   ]
  },
  {
   "cell_type": "code",
   "execution_count": 1087,
   "metadata": {},
   "outputs": [],
   "source": [
    "# Reading in my combined data frame \n",
    "aid = pd.read_csv('./aid_data/combined_data/aid_sums.csv')"
   ]
  },
  {
   "cell_type": "code",
   "execution_count": 1088,
   "metadata": {},
   "outputs": [],
   "source": [
    "# Reading in my HDI csv file \n",
    "hdi = pd.read_csv('./aid_data/human_development/hdi.csv')"
   ]
  },
  {
   "cell_type": "code",
   "execution_count": 1089,
   "metadata": {},
   "outputs": [
    {
     "data": {
      "text/html": [
       "<div>\n",
       "<style scoped>\n",
       "    .dataframe tbody tr th:only-of-type {\n",
       "        vertical-align: middle;\n",
       "    }\n",
       "\n",
       "    .dataframe tbody tr th {\n",
       "        vertical-align: top;\n",
       "    }\n",
       "\n",
       "    .dataframe thead th {\n",
       "        text-align: right;\n",
       "    }\n",
       "</style>\n",
       "<table border=\"1\" class=\"dataframe\">\n",
       "  <thead>\n",
       "    <tr style=\"text-align: right;\">\n",
       "      <th></th>\n",
       "      <th>country</th>\n",
       "      <th>year</th>\n",
       "      <th>hdi</th>\n",
       "    </tr>\n",
       "  </thead>\n",
       "  <tbody>\n",
       "    <tr>\n",
       "      <th>0</th>\n",
       "      <td>Algeria</td>\n",
       "      <td>2000</td>\n",
       "      <td>0.646</td>\n",
       "    </tr>\n",
       "    <tr>\n",
       "      <th>1</th>\n",
       "      <td>Algeria</td>\n",
       "      <td>2001</td>\n",
       "      <td>0.655</td>\n",
       "    </tr>\n",
       "    <tr>\n",
       "      <th>2</th>\n",
       "      <td>Algeria</td>\n",
       "      <td>2002</td>\n",
       "      <td>0.666</td>\n",
       "    </tr>\n",
       "    <tr>\n",
       "      <th>3</th>\n",
       "      <td>Algeria</td>\n",
       "      <td>2003</td>\n",
       "      <td>0.676</td>\n",
       "    </tr>\n",
       "    <tr>\n",
       "      <th>4</th>\n",
       "      <td>Algeria</td>\n",
       "      <td>2004</td>\n",
       "      <td>0.685</td>\n",
       "    </tr>\n",
       "  </tbody>\n",
       "</table>\n",
       "</div>"
      ],
      "text/plain": [
       "   country  year    hdi\n",
       "0  Algeria  2000  0.646\n",
       "1  Algeria  2001  0.655\n",
       "2  Algeria  2002  0.666\n",
       "3  Algeria  2003  0.676\n",
       "4  Algeria  2004  0.685"
      ]
     },
     "execution_count": 1089,
     "metadata": {},
     "output_type": "execute_result"
    }
   ],
   "source": [
    "# Looking at my HDI info \n",
    "hdi.head()"
   ]
  },
  {
   "cell_type": "code",
   "execution_count": 1090,
   "metadata": {},
   "outputs": [],
   "source": [
    "# Making a data frame with just 2000 data \n",
    "hdi_00 = hdi[hdi['year'] == 2000]"
   ]
  },
  {
   "cell_type": "code",
   "execution_count": 1091,
   "metadata": {},
   "outputs": [],
   "source": [
    "# Making another data frame with just 2014 data \n",
    "hdi_14 = hdi[hdi['year'] == 2014]"
   ]
  },
  {
   "cell_type": "code",
   "execution_count": 1092,
   "metadata": {},
   "outputs": [
    {
     "data": {
      "text/html": [
       "<div>\n",
       "<style scoped>\n",
       "    .dataframe tbody tr th:only-of-type {\n",
       "        vertical-align: middle;\n",
       "    }\n",
       "\n",
       "    .dataframe tbody tr th {\n",
       "        vertical-align: top;\n",
       "    }\n",
       "\n",
       "    .dataframe thead th {\n",
       "        text-align: right;\n",
       "    }\n",
       "</style>\n",
       "<table border=\"1\" class=\"dataframe\">\n",
       "  <thead>\n",
       "    <tr style=\"text-align: right;\">\n",
       "      <th></th>\n",
       "      <th>country</th>\n",
       "      <th>year</th>\n",
       "      <th>hdi</th>\n",
       "    </tr>\n",
       "  </thead>\n",
       "  <tbody>\n",
       "    <tr>\n",
       "      <th>0</th>\n",
       "      <td>Algeria</td>\n",
       "      <td>2000</td>\n",
       "      <td>0.646</td>\n",
       "    </tr>\n",
       "    <tr>\n",
       "      <th>15</th>\n",
       "      <td>Angola</td>\n",
       "      <td>2000</td>\n",
       "      <td>0.394</td>\n",
       "    </tr>\n",
       "    <tr>\n",
       "      <th>30</th>\n",
       "      <td>Bahrain</td>\n",
       "      <td>2000</td>\n",
       "      <td>0.792</td>\n",
       "    </tr>\n",
       "    <tr>\n",
       "      <th>45</th>\n",
       "      <td>Benin</td>\n",
       "      <td>2000</td>\n",
       "      <td>0.398</td>\n",
       "    </tr>\n",
       "    <tr>\n",
       "      <th>60</th>\n",
       "      <td>Botswana</td>\n",
       "      <td>2000</td>\n",
       "      <td>0.578</td>\n",
       "    </tr>\n",
       "  </tbody>\n",
       "</table>\n",
       "</div>"
      ],
      "text/plain": [
       "     country  year    hdi\n",
       "0    Algeria  2000  0.646\n",
       "15    Angola  2000  0.394\n",
       "30   Bahrain  2000  0.792\n",
       "45     Benin  2000  0.398\n",
       "60  Botswana  2000  0.578"
      ]
     },
     "execution_count": 1092,
     "metadata": {},
     "output_type": "execute_result"
    }
   ],
   "source": [
    "# Looking at my 2000 data frame \n",
    "hdi_00.head()"
   ]
  },
  {
   "cell_type": "code",
   "execution_count": 1093,
   "metadata": {},
   "outputs": [
    {
     "data": {
      "text/html": [
       "<div>\n",
       "<style scoped>\n",
       "    .dataframe tbody tr th:only-of-type {\n",
       "        vertical-align: middle;\n",
       "    }\n",
       "\n",
       "    .dataframe tbody tr th {\n",
       "        vertical-align: top;\n",
       "    }\n",
       "\n",
       "    .dataframe thead th {\n",
       "        text-align: right;\n",
       "    }\n",
       "</style>\n",
       "<table border=\"1\" class=\"dataframe\">\n",
       "  <thead>\n",
       "    <tr style=\"text-align: right;\">\n",
       "      <th></th>\n",
       "      <th>country</th>\n",
       "      <th>year</th>\n",
       "      <th>hdi</th>\n",
       "    </tr>\n",
       "  </thead>\n",
       "  <tbody>\n",
       "    <tr>\n",
       "      <th>14</th>\n",
       "      <td>Algeria</td>\n",
       "      <td>2014</td>\n",
       "      <td>0.749</td>\n",
       "    </tr>\n",
       "    <tr>\n",
       "      <th>29</th>\n",
       "      <td>Angola</td>\n",
       "      <td>2014</td>\n",
       "      <td>0.557</td>\n",
       "    </tr>\n",
       "    <tr>\n",
       "      <th>44</th>\n",
       "      <td>Bahrain</td>\n",
       "      <td>2014</td>\n",
       "      <td>0.810</td>\n",
       "    </tr>\n",
       "    <tr>\n",
       "      <th>59</th>\n",
       "      <td>Benin</td>\n",
       "      <td>2014</td>\n",
       "      <td>0.505</td>\n",
       "    </tr>\n",
       "    <tr>\n",
       "      <th>74</th>\n",
       "      <td>Botswana</td>\n",
       "      <td>2014</td>\n",
       "      <td>0.709</td>\n",
       "    </tr>\n",
       "  </tbody>\n",
       "</table>\n",
       "</div>"
      ],
      "text/plain": [
       "     country  year    hdi\n",
       "14   Algeria  2014  0.749\n",
       "29    Angola  2014  0.557\n",
       "44   Bahrain  2014  0.810\n",
       "59     Benin  2014  0.505\n",
       "74  Botswana  2014  0.709"
      ]
     },
     "execution_count": 1093,
     "metadata": {},
     "output_type": "execute_result"
    }
   ],
   "source": [
    "# Looking at my 2014 data frame \n",
    "hdi_14.head()"
   ]
  },
  {
   "cell_type": "code",
   "execution_count": 1094,
   "metadata": {},
   "outputs": [],
   "source": [
    "# Dropping the column for year\n",
    "hdi_00 = hdi_00.drop(columns='year')"
   ]
  },
  {
   "cell_type": "code",
   "execution_count": 1095,
   "metadata": {},
   "outputs": [],
   "source": [
    "# Dropping the column for year \n",
    "hdi_14 = hdi_14.drop(columns='year')"
   ]
  },
  {
   "cell_type": "code",
   "execution_count": 1096,
   "metadata": {},
   "outputs": [],
   "source": [
    "# Merging aid and hdi_00 data frames together \n",
    "aid = pd.merge(aid, hdi_00, how='outer', on=['country'])"
   ]
  },
  {
   "cell_type": "code",
   "execution_count": 1097,
   "metadata": {},
   "outputs": [],
   "source": [
    "# Merging aid and hdi_14 data frames \n",
    "aid = pd.merge(aid, hdi_14, how='outer', on=['country'])"
   ]
  },
  {
   "cell_type": "code",
   "execution_count": 1098,
   "metadata": {},
   "outputs": [
    {
     "data": {
      "text/html": [
       "<div>\n",
       "<style scoped>\n",
       "    .dataframe tbody tr th:only-of-type {\n",
       "        vertical-align: middle;\n",
       "    }\n",
       "\n",
       "    .dataframe tbody tr th {\n",
       "        vertical-align: top;\n",
       "    }\n",
       "\n",
       "    .dataframe thead th {\n",
       "        text-align: right;\n",
       "    }\n",
       "</style>\n",
       "<table border=\"1\" class=\"dataframe\">\n",
       "  <thead>\n",
       "    <tr style=\"text-align: right;\">\n",
       "      <th></th>\n",
       "      <th>country</th>\n",
       "      <th>world_bank_totals</th>\n",
       "      <th>chinese_aid_totals</th>\n",
       "      <th>usaid_aid</th>\n",
       "      <th>hdi_x</th>\n",
       "      <th>hdi_y</th>\n",
       "    </tr>\n",
       "  </thead>\n",
       "  <tbody>\n",
       "    <tr>\n",
       "      <th>0</th>\n",
       "      <td>Algeria</td>\n",
       "      <td>4.380505e+08</td>\n",
       "      <td>5.674971e+08</td>\n",
       "      <td>2.476621e+08</td>\n",
       "      <td>0.646</td>\n",
       "      <td>0.749</td>\n",
       "    </tr>\n",
       "    <tr>\n",
       "      <th>1</th>\n",
       "      <td>Angola</td>\n",
       "      <td>8.030873e+08</td>\n",
       "      <td>3.824927e+10</td>\n",
       "      <td>2.939893e+09</td>\n",
       "      <td>0.394</td>\n",
       "      <td>0.557</td>\n",
       "    </tr>\n",
       "    <tr>\n",
       "      <th>2</th>\n",
       "      <td>Benin</td>\n",
       "      <td>1.107820e+09</td>\n",
       "      <td>1.212040e+09</td>\n",
       "      <td>1.785451e+09</td>\n",
       "      <td>0.398</td>\n",
       "      <td>0.505</td>\n",
       "    </tr>\n",
       "    <tr>\n",
       "      <th>3</th>\n",
       "      <td>Botswana</td>\n",
       "      <td>3.858719e+08</td>\n",
       "      <td>2.585561e+09</td>\n",
       "      <td>2.141447e+09</td>\n",
       "      <td>0.578</td>\n",
       "      <td>0.709</td>\n",
       "    </tr>\n",
       "    <tr>\n",
       "      <th>4</th>\n",
       "      <td>Burkina Faso</td>\n",
       "      <td>2.858288e+09</td>\n",
       "      <td>NaN</td>\n",
       "      <td>2.048434e+09</td>\n",
       "      <td>0.286</td>\n",
       "      <td>0.405</td>\n",
       "    </tr>\n",
       "  </tbody>\n",
       "</table>\n",
       "</div>"
      ],
      "text/plain": [
       "        country  world_bank_totals  chinese_aid_totals     usaid_aid  hdi_x  \\\n",
       "0       Algeria       4.380505e+08        5.674971e+08  2.476621e+08  0.646   \n",
       "1        Angola       8.030873e+08        3.824927e+10  2.939893e+09  0.394   \n",
       "2         Benin       1.107820e+09        1.212040e+09  1.785451e+09  0.398   \n",
       "3      Botswana       3.858719e+08        2.585561e+09  2.141447e+09  0.578   \n",
       "4  Burkina Faso       2.858288e+09                 NaN  2.048434e+09  0.286   \n",
       "\n",
       "   hdi_y  \n",
       "0  0.749  \n",
       "1  0.557  \n",
       "2  0.505  \n",
       "3  0.709  \n",
       "4  0.405  "
      ]
     },
     "execution_count": 1098,
     "metadata": {},
     "output_type": "execute_result"
    }
   ],
   "source": [
    "# Looking at my dataframe \n",
    "aid.head()"
   ]
  },
  {
   "cell_type": "code",
   "execution_count": 1099,
   "metadata": {},
   "outputs": [],
   "source": [
    "# Renaming my columns \n",
    "aid.rename(columns={'hdi_x': 'hdi_00', 'hdi_y': 'hdi_14'}, inplace=True)"
   ]
  },
  {
   "cell_type": "code",
   "execution_count": 1100,
   "metadata": {},
   "outputs": [],
   "source": [
    "# Reading in Freedom House data \n",
    "freedom_house = pd.read_csv('./aid_data/freedom_house/freedom_house_clean.csv')"
   ]
  },
  {
   "cell_type": "code",
   "execution_count": 1101,
   "metadata": {},
   "outputs": [
    {
     "data": {
      "text/html": [
       "<div>\n",
       "<style scoped>\n",
       "    .dataframe tbody tr th:only-of-type {\n",
       "        vertical-align: middle;\n",
       "    }\n",
       "\n",
       "    .dataframe tbody tr th {\n",
       "        vertical-align: top;\n",
       "    }\n",
       "\n",
       "    .dataframe thead th {\n",
       "        text-align: right;\n",
       "    }\n",
       "</style>\n",
       "<table border=\"1\" class=\"dataframe\">\n",
       "  <thead>\n",
       "    <tr style=\"text-align: right;\">\n",
       "      <th></th>\n",
       "      <th>country</th>\n",
       "      <th>year</th>\n",
       "      <th>pr_score</th>\n",
       "      <th>cl_score</th>\n",
       "      <th>fh_status</th>\n",
       "    </tr>\n",
       "  </thead>\n",
       "  <tbody>\n",
       "    <tr>\n",
       "      <th>0</th>\n",
       "      <td>Algeria</td>\n",
       "      <td>2000</td>\n",
       "      <td>6.0</td>\n",
       "      <td>5.0</td>\n",
       "      <td>NF</td>\n",
       "    </tr>\n",
       "    <tr>\n",
       "      <th>1</th>\n",
       "      <td>Algeria</td>\n",
       "      <td>2001</td>\n",
       "      <td>6.0</td>\n",
       "      <td>5.0</td>\n",
       "      <td>NF</td>\n",
       "    </tr>\n",
       "    <tr>\n",
       "      <th>2</th>\n",
       "      <td>Algeria</td>\n",
       "      <td>2002</td>\n",
       "      <td>6.0</td>\n",
       "      <td>5.0</td>\n",
       "      <td>NF</td>\n",
       "    </tr>\n",
       "    <tr>\n",
       "      <th>3</th>\n",
       "      <td>Algeria</td>\n",
       "      <td>2003</td>\n",
       "      <td>6.0</td>\n",
       "      <td>5.0</td>\n",
       "      <td>NF</td>\n",
       "    </tr>\n",
       "    <tr>\n",
       "      <th>4</th>\n",
       "      <td>Algeria</td>\n",
       "      <td>2004</td>\n",
       "      <td>6.0</td>\n",
       "      <td>5.0</td>\n",
       "      <td>NF</td>\n",
       "    </tr>\n",
       "  </tbody>\n",
       "</table>\n",
       "</div>"
      ],
      "text/plain": [
       "   country  year  pr_score  cl_score fh_status\n",
       "0  Algeria  2000       6.0       5.0        NF\n",
       "1  Algeria  2001       6.0       5.0        NF\n",
       "2  Algeria  2002       6.0       5.0        NF\n",
       "3  Algeria  2003       6.0       5.0        NF\n",
       "4  Algeria  2004       6.0       5.0        NF"
      ]
     },
     "execution_count": 1101,
     "metadata": {},
     "output_type": "execute_result"
    }
   ],
   "source": [
    "# Looking at my data frame \n",
    "freedom_house.head()"
   ]
  },
  {
   "cell_type": "code",
   "execution_count": 1102,
   "metadata": {},
   "outputs": [
    {
     "data": {
      "text/plain": [
       "array(['Algeria', 'Angola', 'Bahrain', 'Benin', 'Botswana',\n",
       "       'Burkina Faso', 'Burundi', 'Cameroon', 'Cabo Verde',\n",
       "       'Central African Republic', 'Chad', 'Comoros', 'Congo',\n",
       "       'Democratic Republic of Congo', \"Cote D'Ivoire\", 'Djibouti',\n",
       "       'Egypt', 'Equatorial Guinea', 'Eritrea', 'Ethiopia', 'Gabon',\n",
       "       'Ghana', 'Guinea', 'Guinea-Bissau', 'Iran', 'Iraq', 'Israel',\n",
       "       'Jordan', 'Kenya', 'Kuwait', 'Lebanon', 'Lesotho', 'Liberia',\n",
       "       'Libya', 'Madagascar', 'Malawi', 'Mali', 'Mauritania', 'Mauritius',\n",
       "       'Morocco', 'Mozambique', 'Namibia', 'Niger', 'Nigeria', 'Oman',\n",
       "       'Qatar', 'Rwanda', 'Sao Tome and Principe', 'Saudi Arabia',\n",
       "       'Senegal', 'Sierra Leone', 'Somalia', 'South Africa',\n",
       "       'South Sudan', 'Sudan', 'Swaziland', 'Syria', 'Tanzania', 'Gambia',\n",
       "       'Togo', 'Tunisia', 'Turkey', 'Uganda', 'United Arab Emirates',\n",
       "       'Yemen', 'Zambia', 'Zimbabwe', 'Palestine'], dtype=object)"
      ]
     },
     "execution_count": 1102,
     "metadata": {},
     "output_type": "execute_result"
    }
   ],
   "source": [
    "# Looking at my unique list of countries \n",
    "freedom_house['country'].unique()"
   ]
  },
  {
   "cell_type": "code",
   "execution_count": 1103,
   "metadata": {},
   "outputs": [],
   "source": [
    "# Making a data frame for the 2000 data \n",
    "freedom_house00 = freedom_house[freedom_house['year'] == 2000]"
   ]
  },
  {
   "cell_type": "code",
   "execution_count": 1104,
   "metadata": {},
   "outputs": [
    {
     "data": {
      "text/html": [
       "<div>\n",
       "<style scoped>\n",
       "    .dataframe tbody tr th:only-of-type {\n",
       "        vertical-align: middle;\n",
       "    }\n",
       "\n",
       "    .dataframe tbody tr th {\n",
       "        vertical-align: top;\n",
       "    }\n",
       "\n",
       "    .dataframe thead th {\n",
       "        text-align: right;\n",
       "    }\n",
       "</style>\n",
       "<table border=\"1\" class=\"dataframe\">\n",
       "  <thead>\n",
       "    <tr style=\"text-align: right;\">\n",
       "      <th></th>\n",
       "      <th>country</th>\n",
       "      <th>year</th>\n",
       "      <th>pr_score</th>\n",
       "      <th>cl_score</th>\n",
       "      <th>fh_status</th>\n",
       "    </tr>\n",
       "  </thead>\n",
       "  <tbody>\n",
       "    <tr>\n",
       "      <th>0</th>\n",
       "      <td>Algeria</td>\n",
       "      <td>2000</td>\n",
       "      <td>6.0</td>\n",
       "      <td>5.0</td>\n",
       "      <td>NF</td>\n",
       "    </tr>\n",
       "    <tr>\n",
       "      <th>15</th>\n",
       "      <td>Angola</td>\n",
       "      <td>2000</td>\n",
       "      <td>6.0</td>\n",
       "      <td>6.0</td>\n",
       "      <td>NF</td>\n",
       "    </tr>\n",
       "    <tr>\n",
       "      <th>30</th>\n",
       "      <td>Bahrain</td>\n",
       "      <td>2000</td>\n",
       "      <td>7.0</td>\n",
       "      <td>6.0</td>\n",
       "      <td>NF</td>\n",
       "    </tr>\n",
       "    <tr>\n",
       "      <th>45</th>\n",
       "      <td>Benin</td>\n",
       "      <td>2000</td>\n",
       "      <td>2.0</td>\n",
       "      <td>2.0</td>\n",
       "      <td>F</td>\n",
       "    </tr>\n",
       "    <tr>\n",
       "      <th>60</th>\n",
       "      <td>Botswana</td>\n",
       "      <td>2000</td>\n",
       "      <td>2.0</td>\n",
       "      <td>2.0</td>\n",
       "      <td>F</td>\n",
       "    </tr>\n",
       "  </tbody>\n",
       "</table>\n",
       "</div>"
      ],
      "text/plain": [
       "     country  year  pr_score  cl_score fh_status\n",
       "0    Algeria  2000       6.0       5.0        NF\n",
       "15    Angola  2000       6.0       6.0        NF\n",
       "30   Bahrain  2000       7.0       6.0        NF\n",
       "45     Benin  2000       2.0       2.0         F\n",
       "60  Botswana  2000       2.0       2.0         F"
      ]
     },
     "execution_count": 1104,
     "metadata": {},
     "output_type": "execute_result"
    }
   ],
   "source": [
    "# Looking at my new data frame \n",
    "freedom_house00.head()"
   ]
  },
  {
   "cell_type": "code",
   "execution_count": 1105,
   "metadata": {},
   "outputs": [],
   "source": [
    "# Renaming my data frame to specify that they are 2000 ratings \n",
    "freedom_house00.rename(columns={'pr_score': 'pr_score00', 'cl_score': 'cl_score00', 'fh_status': 'fh_status00'}, inplace=True)"
   ]
  },
  {
   "cell_type": "code",
   "execution_count": 1106,
   "metadata": {},
   "outputs": [],
   "source": [
    "# Dropping the year column\n",
    "freedom_house00 = freedom_house00.drop(columns='year')"
   ]
  },
  {
   "cell_type": "code",
   "execution_count": 1107,
   "metadata": {},
   "outputs": [
    {
     "data": {
      "text/html": [
       "<div>\n",
       "<style scoped>\n",
       "    .dataframe tbody tr th:only-of-type {\n",
       "        vertical-align: middle;\n",
       "    }\n",
       "\n",
       "    .dataframe tbody tr th {\n",
       "        vertical-align: top;\n",
       "    }\n",
       "\n",
       "    .dataframe thead th {\n",
       "        text-align: right;\n",
       "    }\n",
       "</style>\n",
       "<table border=\"1\" class=\"dataframe\">\n",
       "  <thead>\n",
       "    <tr style=\"text-align: right;\">\n",
       "      <th></th>\n",
       "      <th>country</th>\n",
       "      <th>pr_score00</th>\n",
       "      <th>cl_score00</th>\n",
       "      <th>fh_status00</th>\n",
       "    </tr>\n",
       "  </thead>\n",
       "  <tbody>\n",
       "    <tr>\n",
       "      <th>0</th>\n",
       "      <td>Algeria</td>\n",
       "      <td>6.0</td>\n",
       "      <td>5.0</td>\n",
       "      <td>NF</td>\n",
       "    </tr>\n",
       "    <tr>\n",
       "      <th>15</th>\n",
       "      <td>Angola</td>\n",
       "      <td>6.0</td>\n",
       "      <td>6.0</td>\n",
       "      <td>NF</td>\n",
       "    </tr>\n",
       "    <tr>\n",
       "      <th>30</th>\n",
       "      <td>Bahrain</td>\n",
       "      <td>7.0</td>\n",
       "      <td>6.0</td>\n",
       "      <td>NF</td>\n",
       "    </tr>\n",
       "    <tr>\n",
       "      <th>45</th>\n",
       "      <td>Benin</td>\n",
       "      <td>2.0</td>\n",
       "      <td>2.0</td>\n",
       "      <td>F</td>\n",
       "    </tr>\n",
       "    <tr>\n",
       "      <th>60</th>\n",
       "      <td>Botswana</td>\n",
       "      <td>2.0</td>\n",
       "      <td>2.0</td>\n",
       "      <td>F</td>\n",
       "    </tr>\n",
       "  </tbody>\n",
       "</table>\n",
       "</div>"
      ],
      "text/plain": [
       "     country  pr_score00  cl_score00 fh_status00\n",
       "0    Algeria         6.0         5.0          NF\n",
       "15    Angola         6.0         6.0          NF\n",
       "30   Bahrain         7.0         6.0          NF\n",
       "45     Benin         2.0         2.0           F\n",
       "60  Botswana         2.0         2.0           F"
      ]
     },
     "execution_count": 1107,
     "metadata": {},
     "output_type": "execute_result"
    }
   ],
   "source": [
    "# Looking at the head of the data frame \n",
    "freedom_house00.head()"
   ]
  },
  {
   "cell_type": "code",
   "execution_count": 1108,
   "metadata": {},
   "outputs": [],
   "source": [
    "# Making a data frame for 2014 data \n",
    "freedom_house14 = freedom_house[freedom_house['year'] == 2014]"
   ]
  },
  {
   "cell_type": "code",
   "execution_count": 1109,
   "metadata": {},
   "outputs": [],
   "source": [
    "# Renaming the columns to 2014 values \n",
    "freedom_house14.rename(columns={'pr_score': 'pr_score14', 'cl_score': 'cl_score14', 'fh_status': 'fh_status14'}, inplace=True)"
   ]
  },
  {
   "cell_type": "code",
   "execution_count": 1110,
   "metadata": {},
   "outputs": [],
   "source": [
    "# Dropping the year columns \n",
    "freedom_house14 = freedom_house14.drop(columns='year')"
   ]
  },
  {
   "cell_type": "code",
   "execution_count": 1111,
   "metadata": {},
   "outputs": [
    {
     "data": {
      "text/html": [
       "<div>\n",
       "<style scoped>\n",
       "    .dataframe tbody tr th:only-of-type {\n",
       "        vertical-align: middle;\n",
       "    }\n",
       "\n",
       "    .dataframe tbody tr th {\n",
       "        vertical-align: top;\n",
       "    }\n",
       "\n",
       "    .dataframe thead th {\n",
       "        text-align: right;\n",
       "    }\n",
       "</style>\n",
       "<table border=\"1\" class=\"dataframe\">\n",
       "  <thead>\n",
       "    <tr style=\"text-align: right;\">\n",
       "      <th></th>\n",
       "      <th>country</th>\n",
       "      <th>pr_score14</th>\n",
       "      <th>cl_score14</th>\n",
       "      <th>fh_status14</th>\n",
       "    </tr>\n",
       "  </thead>\n",
       "  <tbody>\n",
       "    <tr>\n",
       "      <th>14</th>\n",
       "      <td>Algeria</td>\n",
       "      <td>6.0</td>\n",
       "      <td>5.0</td>\n",
       "      <td>NF</td>\n",
       "    </tr>\n",
       "    <tr>\n",
       "      <th>29</th>\n",
       "      <td>Angola</td>\n",
       "      <td>6.0</td>\n",
       "      <td>5.0</td>\n",
       "      <td>NF</td>\n",
       "    </tr>\n",
       "    <tr>\n",
       "      <th>44</th>\n",
       "      <td>Bahrain</td>\n",
       "      <td>7.0</td>\n",
       "      <td>6.0</td>\n",
       "      <td>NF</td>\n",
       "    </tr>\n",
       "    <tr>\n",
       "      <th>59</th>\n",
       "      <td>Benin</td>\n",
       "      <td>2.0</td>\n",
       "      <td>2.0</td>\n",
       "      <td>F</td>\n",
       "    </tr>\n",
       "    <tr>\n",
       "      <th>74</th>\n",
       "      <td>Botswana</td>\n",
       "      <td>3.0</td>\n",
       "      <td>2.0</td>\n",
       "      <td>F</td>\n",
       "    </tr>\n",
       "  </tbody>\n",
       "</table>\n",
       "</div>"
      ],
      "text/plain": [
       "     country  pr_score14  cl_score14 fh_status14\n",
       "14   Algeria         6.0         5.0          NF\n",
       "29    Angola         6.0         5.0          NF\n",
       "44   Bahrain         7.0         6.0          NF\n",
       "59     Benin         2.0         2.0           F\n",
       "74  Botswana         3.0         2.0           F"
      ]
     },
     "execution_count": 1111,
     "metadata": {},
     "output_type": "execute_result"
    }
   ],
   "source": [
    "# Looking at the head of the data frame \n",
    "freedom_house14.head()"
   ]
  },
  {
   "cell_type": "code",
   "execution_count": 1112,
   "metadata": {},
   "outputs": [],
   "source": [
    "# Merging the two data frames together \n",
    "freedom_house = pd.merge(freedom_house00, freedom_house14, on=['country'])"
   ]
  },
  {
   "cell_type": "code",
   "execution_count": 1113,
   "metadata": {},
   "outputs": [
    {
     "data": {
      "text/html": [
       "<div>\n",
       "<style scoped>\n",
       "    .dataframe tbody tr th:only-of-type {\n",
       "        vertical-align: middle;\n",
       "    }\n",
       "\n",
       "    .dataframe tbody tr th {\n",
       "        vertical-align: top;\n",
       "    }\n",
       "\n",
       "    .dataframe thead th {\n",
       "        text-align: right;\n",
       "    }\n",
       "</style>\n",
       "<table border=\"1\" class=\"dataframe\">\n",
       "  <thead>\n",
       "    <tr style=\"text-align: right;\">\n",
       "      <th></th>\n",
       "      <th>country</th>\n",
       "      <th>pr_score00</th>\n",
       "      <th>cl_score00</th>\n",
       "      <th>fh_status00</th>\n",
       "      <th>pr_score14</th>\n",
       "      <th>cl_score14</th>\n",
       "      <th>fh_status14</th>\n",
       "    </tr>\n",
       "  </thead>\n",
       "  <tbody>\n",
       "    <tr>\n",
       "      <th>0</th>\n",
       "      <td>Algeria</td>\n",
       "      <td>6.0</td>\n",
       "      <td>5.0</td>\n",
       "      <td>NF</td>\n",
       "      <td>6.0</td>\n",
       "      <td>5.0</td>\n",
       "      <td>NF</td>\n",
       "    </tr>\n",
       "    <tr>\n",
       "      <th>1</th>\n",
       "      <td>Angola</td>\n",
       "      <td>6.0</td>\n",
       "      <td>6.0</td>\n",
       "      <td>NF</td>\n",
       "      <td>6.0</td>\n",
       "      <td>5.0</td>\n",
       "      <td>NF</td>\n",
       "    </tr>\n",
       "    <tr>\n",
       "      <th>2</th>\n",
       "      <td>Bahrain</td>\n",
       "      <td>7.0</td>\n",
       "      <td>6.0</td>\n",
       "      <td>NF</td>\n",
       "      <td>7.0</td>\n",
       "      <td>6.0</td>\n",
       "      <td>NF</td>\n",
       "    </tr>\n",
       "    <tr>\n",
       "      <th>3</th>\n",
       "      <td>Benin</td>\n",
       "      <td>2.0</td>\n",
       "      <td>2.0</td>\n",
       "      <td>F</td>\n",
       "      <td>2.0</td>\n",
       "      <td>2.0</td>\n",
       "      <td>F</td>\n",
       "    </tr>\n",
       "    <tr>\n",
       "      <th>4</th>\n",
       "      <td>Botswana</td>\n",
       "      <td>2.0</td>\n",
       "      <td>2.0</td>\n",
       "      <td>F</td>\n",
       "      <td>3.0</td>\n",
       "      <td>2.0</td>\n",
       "      <td>F</td>\n",
       "    </tr>\n",
       "  </tbody>\n",
       "</table>\n",
       "</div>"
      ],
      "text/plain": [
       "    country  pr_score00  cl_score00 fh_status00  pr_score14  cl_score14  \\\n",
       "0   Algeria         6.0         5.0          NF         6.0         5.0   \n",
       "1    Angola         6.0         6.0          NF         6.0         5.0   \n",
       "2   Bahrain         7.0         6.0          NF         7.0         6.0   \n",
       "3     Benin         2.0         2.0           F         2.0         2.0   \n",
       "4  Botswana         2.0         2.0           F         3.0         2.0   \n",
       "\n",
       "  fh_status14  \n",
       "0          NF  \n",
       "1          NF  \n",
       "2          NF  \n",
       "3           F  \n",
       "4           F  "
      ]
     },
     "execution_count": 1113,
     "metadata": {},
     "output_type": "execute_result"
    }
   ],
   "source": [
    "# Looking at my dataframe \n",
    "freedom_house.head()"
   ]
  },
  {
   "cell_type": "code",
   "execution_count": 1114,
   "metadata": {},
   "outputs": [],
   "source": [
    "# Merging Freedom House data with the rest of the aid data \n",
    "aid = pd.merge(aid, freedom_house, how='outer', on=['country'])"
   ]
  },
  {
   "cell_type": "code",
   "execution_count": 1115,
   "metadata": {},
   "outputs": [
    {
     "name": "stdout",
     "output_type": "stream",
     "text": [
      "<class 'pandas.core.frame.DataFrame'>\n",
      "Int64Index: 69 entries, 0 to 68\n",
      "Data columns (total 12 columns):\n",
      "country               69 non-null object\n",
      "world_bank_totals     55 non-null float64\n",
      "chinese_aid_totals    60 non-null float64\n",
      "usaid_aid             69 non-null float64\n",
      "hdi_00                67 non-null float64\n",
      "hdi_14                67 non-null float64\n",
      "pr_score00            66 non-null float64\n",
      "cl_score00            66 non-null float64\n",
      "fh_status00           66 non-null object\n",
      "pr_score14            66 non-null float64\n",
      "cl_score14            66 non-null float64\n",
      "fh_status14           66 non-null object\n",
      "dtypes: float64(9), object(3)\n",
      "memory usage: 7.0+ KB\n"
     ]
    }
   ],
   "source": [
    "# Looking at the null values and data types of the new dataframe \n",
    "aid.info()"
   ]
  },
  {
   "cell_type": "code",
   "execution_count": 1116,
   "metadata": {},
   "outputs": [
    {
     "data": {
      "text/html": [
       "<div>\n",
       "<style scoped>\n",
       "    .dataframe tbody tr th:only-of-type {\n",
       "        vertical-align: middle;\n",
       "    }\n",
       "\n",
       "    .dataframe tbody tr th {\n",
       "        vertical-align: top;\n",
       "    }\n",
       "\n",
       "    .dataframe thead th {\n",
       "        text-align: right;\n",
       "    }\n",
       "</style>\n",
       "<table border=\"1\" class=\"dataframe\">\n",
       "  <thead>\n",
       "    <tr style=\"text-align: right;\">\n",
       "      <th></th>\n",
       "      <th>country</th>\n",
       "      <th>world_bank_totals</th>\n",
       "      <th>chinese_aid_totals</th>\n",
       "      <th>usaid_aid</th>\n",
       "      <th>hdi_00</th>\n",
       "      <th>hdi_14</th>\n",
       "      <th>pr_score00</th>\n",
       "      <th>cl_score00</th>\n",
       "      <th>fh_status00</th>\n",
       "      <th>pr_score14</th>\n",
       "      <th>cl_score14</th>\n",
       "      <th>fh_status14</th>\n",
       "    </tr>\n",
       "  </thead>\n",
       "  <tbody>\n",
       "    <tr>\n",
       "      <th>0</th>\n",
       "      <td>Algeria</td>\n",
       "      <td>4.380505e+08</td>\n",
       "      <td>5.674971e+08</td>\n",
       "      <td>2.476621e+08</td>\n",
       "      <td>0.646</td>\n",
       "      <td>0.749</td>\n",
       "      <td>6.0</td>\n",
       "      <td>5.0</td>\n",
       "      <td>NF</td>\n",
       "      <td>6.0</td>\n",
       "      <td>5.0</td>\n",
       "      <td>NF</td>\n",
       "    </tr>\n",
       "    <tr>\n",
       "      <th>1</th>\n",
       "      <td>Angola</td>\n",
       "      <td>8.030873e+08</td>\n",
       "      <td>3.824927e+10</td>\n",
       "      <td>2.939893e+09</td>\n",
       "      <td>0.394</td>\n",
       "      <td>0.557</td>\n",
       "      <td>6.0</td>\n",
       "      <td>6.0</td>\n",
       "      <td>NF</td>\n",
       "      <td>6.0</td>\n",
       "      <td>5.0</td>\n",
       "      <td>NF</td>\n",
       "    </tr>\n",
       "    <tr>\n",
       "      <th>2</th>\n",
       "      <td>Benin</td>\n",
       "      <td>1.107820e+09</td>\n",
       "      <td>1.212040e+09</td>\n",
       "      <td>1.785451e+09</td>\n",
       "      <td>0.398</td>\n",
       "      <td>0.505</td>\n",
       "      <td>2.0</td>\n",
       "      <td>2.0</td>\n",
       "      <td>F</td>\n",
       "      <td>2.0</td>\n",
       "      <td>2.0</td>\n",
       "      <td>F</td>\n",
       "    </tr>\n",
       "    <tr>\n",
       "      <th>3</th>\n",
       "      <td>Botswana</td>\n",
       "      <td>3.858719e+08</td>\n",
       "      <td>2.585561e+09</td>\n",
       "      <td>2.141447e+09</td>\n",
       "      <td>0.578</td>\n",
       "      <td>0.709</td>\n",
       "      <td>2.0</td>\n",
       "      <td>2.0</td>\n",
       "      <td>F</td>\n",
       "      <td>3.0</td>\n",
       "      <td>2.0</td>\n",
       "      <td>F</td>\n",
       "    </tr>\n",
       "    <tr>\n",
       "      <th>4</th>\n",
       "      <td>Burkina Faso</td>\n",
       "      <td>2.858288e+09</td>\n",
       "      <td>NaN</td>\n",
       "      <td>2.048434e+09</td>\n",
       "      <td>0.286</td>\n",
       "      <td>0.405</td>\n",
       "      <td>4.0</td>\n",
       "      <td>4.0</td>\n",
       "      <td>PF</td>\n",
       "      <td>6.0</td>\n",
       "      <td>3.0</td>\n",
       "      <td>PF</td>\n",
       "    </tr>\n",
       "  </tbody>\n",
       "</table>\n",
       "</div>"
      ],
      "text/plain": [
       "        country  world_bank_totals  chinese_aid_totals     usaid_aid  hdi_00  \\\n",
       "0       Algeria       4.380505e+08        5.674971e+08  2.476621e+08   0.646   \n",
       "1        Angola       8.030873e+08        3.824927e+10  2.939893e+09   0.394   \n",
       "2         Benin       1.107820e+09        1.212040e+09  1.785451e+09   0.398   \n",
       "3      Botswana       3.858719e+08        2.585561e+09  2.141447e+09   0.578   \n",
       "4  Burkina Faso       2.858288e+09                 NaN  2.048434e+09   0.286   \n",
       "\n",
       "   hdi_14  pr_score00  cl_score00 fh_status00  pr_score14  cl_score14  \\\n",
       "0   0.749         6.0         5.0          NF         6.0         5.0   \n",
       "1   0.557         6.0         6.0          NF         6.0         5.0   \n",
       "2   0.505         2.0         2.0           F         2.0         2.0   \n",
       "3   0.709         2.0         2.0           F         3.0         2.0   \n",
       "4   0.405         4.0         4.0          PF         6.0         3.0   \n",
       "\n",
       "  fh_status14  \n",
       "0          NF  \n",
       "1          NF  \n",
       "2           F  \n",
       "3           F  \n",
       "4          PF  "
      ]
     },
     "execution_count": 1116,
     "metadata": {},
     "output_type": "execute_result"
    }
   ],
   "source": [
    "# Looking at the head of my dataframe\n",
    "aid.head()"
   ]
  },
  {
   "cell_type": "code",
   "execution_count": 1117,
   "metadata": {},
   "outputs": [],
   "source": [
    "# Reading in my csv data \n",
    "cpi = pd.read_csv('./aid_data/transparency_int/cpi_clean.csv')"
   ]
  },
  {
   "cell_type": "code",
   "execution_count": 1118,
   "metadata": {},
   "outputs": [
    {
     "data": {
      "text/html": [
       "<div>\n",
       "<style scoped>\n",
       "    .dataframe tbody tr th:only-of-type {\n",
       "        vertical-align: middle;\n",
       "    }\n",
       "\n",
       "    .dataframe tbody tr th {\n",
       "        vertical-align: top;\n",
       "    }\n",
       "\n",
       "    .dataframe thead th {\n",
       "        text-align: right;\n",
       "    }\n",
       "</style>\n",
       "<table border=\"1\" class=\"dataframe\">\n",
       "  <thead>\n",
       "    <tr style=\"text-align: right;\">\n",
       "      <th></th>\n",
       "      <th>country</th>\n",
       "      <th>cpi_2014</th>\n",
       "    </tr>\n",
       "  </thead>\n",
       "  <tbody>\n",
       "    <tr>\n",
       "      <th>0</th>\n",
       "      <td>Seychelles</td>\n",
       "      <td>55.0</td>\n",
       "    </tr>\n",
       "    <tr>\n",
       "      <th>1</th>\n",
       "      <td>Botswana</td>\n",
       "      <td>63.0</td>\n",
       "    </tr>\n",
       "    <tr>\n",
       "      <th>2</th>\n",
       "      <td>Cabo Verde</td>\n",
       "      <td>57.0</td>\n",
       "    </tr>\n",
       "    <tr>\n",
       "      <th>3</th>\n",
       "      <td>Rwanda</td>\n",
       "      <td>49.0</td>\n",
       "    </tr>\n",
       "    <tr>\n",
       "      <th>4</th>\n",
       "      <td>Namibia</td>\n",
       "      <td>49.0</td>\n",
       "    </tr>\n",
       "  </tbody>\n",
       "</table>\n",
       "</div>"
      ],
      "text/plain": [
       "      country  cpi_2014\n",
       "0  Seychelles      55.0\n",
       "1    Botswana      63.0\n",
       "2  Cabo Verde      57.0\n",
       "3      Rwanda      49.0\n",
       "4     Namibia      49.0"
      ]
     },
     "execution_count": 1118,
     "metadata": {},
     "output_type": "execute_result"
    }
   ],
   "source": [
    "# Looking at my data frame \n",
    "cpi.head()"
   ]
  },
  {
   "cell_type": "code",
   "execution_count": 1119,
   "metadata": {},
   "outputs": [],
   "source": [
    "# Merging my corruption data with my other aid data \n",
    "aid = pd.merge(aid, cpi, how='outer', on=['country'])"
   ]
  },
  {
   "cell_type": "code",
   "execution_count": 1120,
   "metadata": {},
   "outputs": [
    {
     "data": {
      "text/plain": [
       "array(['Algeria', 'Angola', 'Benin', 'Botswana', 'Burkina Faso',\n",
       "       'Burundi', 'Cabo Verde', 'Cameroon', 'Central African Republic',\n",
       "       'Chad', 'Comoros', 'Congo', \"Cote D'Ivoire\",\n",
       "       'Democratic Republic of Congo', 'Djibouti', 'Egypt', 'Eritrea',\n",
       "       'Ethiopia', 'Gabon', 'Gambia', 'Ghana', 'Guinea', 'Guinea-Bissau',\n",
       "       'Iran', 'Iraq', 'Jordan', 'Kenya', 'Lebanon', 'Lesotho', 'Liberia',\n",
       "       'Madagascar', 'Malawi', 'Mali', 'Mauritania', 'Mauritius',\n",
       "       'Morocco', 'Mozambique', 'Namibia', 'Niger', 'Nigeria', 'Rwanda',\n",
       "       'Sao Tome and Principe', 'Senegal', 'Seychelles', 'Sierra Leone',\n",
       "       'South Africa', 'South Sudan', 'Swaziland', 'Tanzania', 'Togo',\n",
       "       'Tunisia', 'Turkey', 'Uganda', 'Yemen', 'Zambia', 'Bahrain',\n",
       "       'Equatorial Guinea', 'Israel', 'Libya', 'Palestine', 'Somalia',\n",
       "       'Sudan', 'Syria', 'United Arab Emirates', 'Zimbabwe', 'Kuwait',\n",
       "       'Oman', 'Qatar', 'Saudi Arabia'], dtype=object)"
      ]
     },
     "execution_count": 1120,
     "metadata": {},
     "output_type": "execute_result"
    }
   ],
   "source": [
    "# Looking at unique country values \n",
    "aid['country'].unique()"
   ]
  },
  {
   "cell_type": "code",
   "execution_count": 1121,
   "metadata": {},
   "outputs": [
    {
     "name": "stdout",
     "output_type": "stream",
     "text": [
      "<class 'pandas.core.frame.DataFrame'>\n",
      "Int64Index: 69 entries, 0 to 68\n",
      "Data columns (total 13 columns):\n",
      "country               69 non-null object\n",
      "world_bank_totals     55 non-null float64\n",
      "chinese_aid_totals    60 non-null float64\n",
      "usaid_aid             69 non-null float64\n",
      "hdi_00                67 non-null float64\n",
      "hdi_14                67 non-null float64\n",
      "pr_score00            66 non-null float64\n",
      "cl_score00            66 non-null float64\n",
      "fh_status00           66 non-null object\n",
      "pr_score14            66 non-null float64\n",
      "cl_score14            66 non-null float64\n",
      "fh_status14           66 non-null object\n",
      "cpi_2014              68 non-null float64\n",
      "dtypes: float64(10), object(3)\n",
      "memory usage: 7.5+ KB\n"
     ]
    }
   ],
   "source": [
    "# Looking at null values and data types \n",
    "aid.info()"
   ]
  },
  {
   "cell_type": "code",
   "execution_count": 1122,
   "metadata": {},
   "outputs": [
    {
     "data": {
      "text/plain": [
       "country                0\n",
       "world_bank_totals     14\n",
       "chinese_aid_totals     9\n",
       "usaid_aid              0\n",
       "hdi_00                 2\n",
       "hdi_14                 2\n",
       "pr_score00             3\n",
       "cl_score00             3\n",
       "fh_status00            3\n",
       "pr_score14             3\n",
       "cl_score14             3\n",
       "fh_status14            3\n",
       "cpi_2014               1\n",
       "dtype: int64"
      ]
     },
     "execution_count": 1122,
     "metadata": {},
     "output_type": "execute_result"
    }
   ],
   "source": [
    "# Looking at how many null values I have for each category \n",
    "aid.isnull().sum()"
   ]
  },
  {
   "cell_type": "code",
   "execution_count": 1123,
   "metadata": {},
   "outputs": [
    {
     "data": {
      "text/html": [
       "<div>\n",
       "<style scoped>\n",
       "    .dataframe tbody tr th:only-of-type {\n",
       "        vertical-align: middle;\n",
       "    }\n",
       "\n",
       "    .dataframe tbody tr th {\n",
       "        vertical-align: top;\n",
       "    }\n",
       "\n",
       "    .dataframe thead th {\n",
       "        text-align: right;\n",
       "    }\n",
       "</style>\n",
       "<table border=\"1\" class=\"dataframe\">\n",
       "  <thead>\n",
       "    <tr style=\"text-align: right;\">\n",
       "      <th></th>\n",
       "      <th>country</th>\n",
       "      <th>world_bank_totals</th>\n",
       "      <th>chinese_aid_totals</th>\n",
       "      <th>usaid_aid</th>\n",
       "      <th>hdi_00</th>\n",
       "      <th>hdi_14</th>\n",
       "      <th>pr_score00</th>\n",
       "      <th>cl_score00</th>\n",
       "      <th>fh_status00</th>\n",
       "      <th>pr_score14</th>\n",
       "      <th>cl_score14</th>\n",
       "      <th>fh_status14</th>\n",
       "      <th>cpi_2014</th>\n",
       "    </tr>\n",
       "  </thead>\n",
       "  <tbody>\n",
       "    <tr>\n",
       "      <th>4</th>\n",
       "      <td>Burkina Faso</td>\n",
       "      <td>2.858288e+09</td>\n",
       "      <td>NaN</td>\n",
       "      <td>2.048434e+09</td>\n",
       "      <td>0.286000</td>\n",
       "      <td>0.405</td>\n",
       "      <td>4.0</td>\n",
       "      <td>4.0</td>\n",
       "      <td>PF</td>\n",
       "      <td>6.0</td>\n",
       "      <td>3.0</td>\n",
       "      <td>PF</td>\n",
       "      <td>38.0</td>\n",
       "    </tr>\n",
       "    <tr>\n",
       "      <th>19</th>\n",
       "      <td>Gambia</td>\n",
       "      <td>1.598891e+08</td>\n",
       "      <td>NaN</td>\n",
       "      <td>1.392312e+08</td>\n",
       "      <td>0.382000</td>\n",
       "      <td>0.449</td>\n",
       "      <td>7.0</td>\n",
       "      <td>5.0</td>\n",
       "      <td>NF</td>\n",
       "      <td>6.0</td>\n",
       "      <td>6.0</td>\n",
       "      <td>NF</td>\n",
       "      <td>29.0</td>\n",
       "    </tr>\n",
       "    <tr>\n",
       "      <th>23</th>\n",
       "      <td>Iran</td>\n",
       "      <td>1.605363e+09</td>\n",
       "      <td>NaN</td>\n",
       "      <td>6.386544e+07</td>\n",
       "      <td>0.671000</td>\n",
       "      <td>0.788</td>\n",
       "      <td>6.0</td>\n",
       "      <td>6.0</td>\n",
       "      <td>NF</td>\n",
       "      <td>6.0</td>\n",
       "      <td>6.0</td>\n",
       "      <td>NF</td>\n",
       "      <td>27.0</td>\n",
       "    </tr>\n",
       "    <tr>\n",
       "      <th>41</th>\n",
       "      <td>Sao Tome and Principe</td>\n",
       "      <td>5.515899e+07</td>\n",
       "      <td>NaN</td>\n",
       "      <td>3.884767e+07</td>\n",
       "      <td>0.480000</td>\n",
       "      <td>0.577</td>\n",
       "      <td>1.0</td>\n",
       "      <td>2.0</td>\n",
       "      <td>F</td>\n",
       "      <td>2.0</td>\n",
       "      <td>2.0</td>\n",
       "      <td>F</td>\n",
       "      <td>42.0</td>\n",
       "    </tr>\n",
       "    <tr>\n",
       "      <th>43</th>\n",
       "      <td>Seychelles</td>\n",
       "      <td>4.660984e+07</td>\n",
       "      <td>1.827533e+08</td>\n",
       "      <td>2.006201e+07</td>\n",
       "      <td>NaN</td>\n",
       "      <td>NaN</td>\n",
       "      <td>NaN</td>\n",
       "      <td>NaN</td>\n",
       "      <td>NaN</td>\n",
       "      <td>NaN</td>\n",
       "      <td>NaN</td>\n",
       "      <td>NaN</td>\n",
       "      <td>55.0</td>\n",
       "    </tr>\n",
       "    <tr>\n",
       "      <th>46</th>\n",
       "      <td>South Sudan</td>\n",
       "      <td>1.263369e+08</td>\n",
       "      <td>2.017831e+08</td>\n",
       "      <td>4.261786e+09</td>\n",
       "      <td>0.507431</td>\n",
       "      <td>0.435</td>\n",
       "      <td>NaN</td>\n",
       "      <td>NaN</td>\n",
       "      <td>NaN</td>\n",
       "      <td>NaN</td>\n",
       "      <td>NaN</td>\n",
       "      <td>NaN</td>\n",
       "      <td>15.0</td>\n",
       "    </tr>\n",
       "    <tr>\n",
       "      <th>47</th>\n",
       "      <td>Swaziland</td>\n",
       "      <td>4.690000e+07</td>\n",
       "      <td>NaN</td>\n",
       "      <td>5.409131e+08</td>\n",
       "      <td>0.468000</td>\n",
       "      <td>0.573</td>\n",
       "      <td>6.0</td>\n",
       "      <td>5.0</td>\n",
       "      <td>NF</td>\n",
       "      <td>7.0</td>\n",
       "      <td>5.0</td>\n",
       "      <td>NF</td>\n",
       "      <td>43.0</td>\n",
       "    </tr>\n",
       "    <tr>\n",
       "      <th>55</th>\n",
       "      <td>Bahrain</td>\n",
       "      <td>NaN</td>\n",
       "      <td>2.108542e+07</td>\n",
       "      <td>9.002047e+08</td>\n",
       "      <td>0.792000</td>\n",
       "      <td>0.810</td>\n",
       "      <td>7.0</td>\n",
       "      <td>6.0</td>\n",
       "      <td>NF</td>\n",
       "      <td>7.0</td>\n",
       "      <td>6.0</td>\n",
       "      <td>NF</td>\n",
       "      <td>49.0</td>\n",
       "    </tr>\n",
       "    <tr>\n",
       "      <th>56</th>\n",
       "      <td>Equatorial Guinea</td>\n",
       "      <td>NaN</td>\n",
       "      <td>3.765589e+09</td>\n",
       "      <td>5.080444e+06</td>\n",
       "      <td>0.520000</td>\n",
       "      <td>0.590</td>\n",
       "      <td>7.0</td>\n",
       "      <td>7.0</td>\n",
       "      <td>NF</td>\n",
       "      <td>7.0</td>\n",
       "      <td>7.0</td>\n",
       "      <td>NF</td>\n",
       "      <td>18.0</td>\n",
       "    </tr>\n",
       "    <tr>\n",
       "      <th>57</th>\n",
       "      <td>Israel</td>\n",
       "      <td>NaN</td>\n",
       "      <td>8.597660e+07</td>\n",
       "      <td>1.020541e+11</td>\n",
       "      <td>0.853000</td>\n",
       "      <td>0.900</td>\n",
       "      <td>1.0</td>\n",
       "      <td>3.0</td>\n",
       "      <td>F</td>\n",
       "      <td>1.0</td>\n",
       "      <td>2.0</td>\n",
       "      <td>F</td>\n",
       "      <td>60.0</td>\n",
       "    </tr>\n",
       "    <tr>\n",
       "      <th>58</th>\n",
       "      <td>Libya</td>\n",
       "      <td>NaN</td>\n",
       "      <td>5.529004e+06</td>\n",
       "      <td>9.500085e+08</td>\n",
       "      <td>0.728000</td>\n",
       "      <td>0.693</td>\n",
       "      <td>7.0</td>\n",
       "      <td>7.0</td>\n",
       "      <td>NF</td>\n",
       "      <td>6.0</td>\n",
       "      <td>6.0</td>\n",
       "      <td>NF</td>\n",
       "      <td>18.0</td>\n",
       "    </tr>\n",
       "    <tr>\n",
       "      <th>59</th>\n",
       "      <td>Palestine</td>\n",
       "      <td>NaN</td>\n",
       "      <td>1.995331e+07</td>\n",
       "      <td>1.336954e+10</td>\n",
       "      <td>0.507431</td>\n",
       "      <td>0.682</td>\n",
       "      <td>NaN</td>\n",
       "      <td>NaN</td>\n",
       "      <td>NaN</td>\n",
       "      <td>NaN</td>\n",
       "      <td>NaN</td>\n",
       "      <td>NaN</td>\n",
       "      <td>NaN</td>\n",
       "    </tr>\n",
       "    <tr>\n",
       "      <th>60</th>\n",
       "      <td>Somalia</td>\n",
       "      <td>NaN</td>\n",
       "      <td>2.638348e+07</td>\n",
       "      <td>5.911542e+09</td>\n",
       "      <td>NaN</td>\n",
       "      <td>NaN</td>\n",
       "      <td>6.0</td>\n",
       "      <td>7.0</td>\n",
       "      <td>NF</td>\n",
       "      <td>7.0</td>\n",
       "      <td>7.0</td>\n",
       "      <td>NF</td>\n",
       "      <td>8.0</td>\n",
       "    </tr>\n",
       "    <tr>\n",
       "      <th>61</th>\n",
       "      <td>Sudan</td>\n",
       "      <td>NaN</td>\n",
       "      <td>3.065282e+10</td>\n",
       "      <td>1.923096e+10</td>\n",
       "      <td>0.403000</td>\n",
       "      <td>0.496</td>\n",
       "      <td>7.0</td>\n",
       "      <td>7.0</td>\n",
       "      <td>NF</td>\n",
       "      <td>7.0</td>\n",
       "      <td>7.0</td>\n",
       "      <td>NF</td>\n",
       "      <td>11.0</td>\n",
       "    </tr>\n",
       "    <tr>\n",
       "      <th>62</th>\n",
       "      <td>Syria</td>\n",
       "      <td>NaN</td>\n",
       "      <td>9.961909e+07</td>\n",
       "      <td>3.572409e+09</td>\n",
       "      <td>0.590000</td>\n",
       "      <td>0.551</td>\n",
       "      <td>7.0</td>\n",
       "      <td>7.0</td>\n",
       "      <td>NF</td>\n",
       "      <td>7.0</td>\n",
       "      <td>7.0</td>\n",
       "      <td>NF</td>\n",
       "      <td>20.0</td>\n",
       "    </tr>\n",
       "    <tr>\n",
       "      <th>63</th>\n",
       "      <td>United Arab Emirates</td>\n",
       "      <td>NaN</td>\n",
       "      <td>3.177106e+07</td>\n",
       "      <td>3.794542e+07</td>\n",
       "      <td>0.782000</td>\n",
       "      <td>0.847</td>\n",
       "      <td>6.0</td>\n",
       "      <td>5.0</td>\n",
       "      <td>NF</td>\n",
       "      <td>6.0</td>\n",
       "      <td>6.0</td>\n",
       "      <td>NF</td>\n",
       "      <td>70.0</td>\n",
       "    </tr>\n",
       "    <tr>\n",
       "      <th>64</th>\n",
       "      <td>Zimbabwe</td>\n",
       "      <td>NaN</td>\n",
       "      <td>2.340166e+10</td>\n",
       "      <td>3.928401e+09</td>\n",
       "      <td>0.452000</td>\n",
       "      <td>0.537</td>\n",
       "      <td>6.0</td>\n",
       "      <td>5.0</td>\n",
       "      <td>PF</td>\n",
       "      <td>5.0</td>\n",
       "      <td>6.0</td>\n",
       "      <td>NF</td>\n",
       "      <td>21.0</td>\n",
       "    </tr>\n",
       "    <tr>\n",
       "      <th>65</th>\n",
       "      <td>Kuwait</td>\n",
       "      <td>NaN</td>\n",
       "      <td>NaN</td>\n",
       "      <td>8.617661e+06</td>\n",
       "      <td>0.786000</td>\n",
       "      <td>0.800</td>\n",
       "      <td>4.0</td>\n",
       "      <td>5.0</td>\n",
       "      <td>PF</td>\n",
       "      <td>5.0</td>\n",
       "      <td>5.0</td>\n",
       "      <td>PF</td>\n",
       "      <td>44.0</td>\n",
       "    </tr>\n",
       "    <tr>\n",
       "      <th>66</th>\n",
       "      <td>Oman</td>\n",
       "      <td>NaN</td>\n",
       "      <td>NaN</td>\n",
       "      <td>8.855178e+08</td>\n",
       "      <td>0.704000</td>\n",
       "      <td>0.815</td>\n",
       "      <td>6.0</td>\n",
       "      <td>5.0</td>\n",
       "      <td>NF</td>\n",
       "      <td>6.0</td>\n",
       "      <td>5.0</td>\n",
       "      <td>NF</td>\n",
       "      <td>45.0</td>\n",
       "    </tr>\n",
       "    <tr>\n",
       "      <th>67</th>\n",
       "      <td>Qatar</td>\n",
       "      <td>NaN</td>\n",
       "      <td>NaN</td>\n",
       "      <td>1.885977e+07</td>\n",
       "      <td>0.816000</td>\n",
       "      <td>0.854</td>\n",
       "      <td>6.0</td>\n",
       "      <td>6.0</td>\n",
       "      <td>NF</td>\n",
       "      <td>6.0</td>\n",
       "      <td>5.0</td>\n",
       "      <td>NF</td>\n",
       "      <td>69.0</td>\n",
       "    </tr>\n",
       "    <tr>\n",
       "      <th>68</th>\n",
       "      <td>Saudi Arabia</td>\n",
       "      <td>NaN</td>\n",
       "      <td>NaN</td>\n",
       "      <td>2.094263e+07</td>\n",
       "      <td>0.744000</td>\n",
       "      <td>0.853</td>\n",
       "      <td>7.0</td>\n",
       "      <td>7.0</td>\n",
       "      <td>NF</td>\n",
       "      <td>7.0</td>\n",
       "      <td>7.0</td>\n",
       "      <td>NF</td>\n",
       "      <td>49.0</td>\n",
       "    </tr>\n",
       "  </tbody>\n",
       "</table>\n",
       "</div>"
      ],
      "text/plain": [
       "                  country  world_bank_totals  chinese_aid_totals  \\\n",
       "4            Burkina Faso       2.858288e+09                 NaN   \n",
       "19                 Gambia       1.598891e+08                 NaN   \n",
       "23                   Iran       1.605363e+09                 NaN   \n",
       "41  Sao Tome and Principe       5.515899e+07                 NaN   \n",
       "43             Seychelles       4.660984e+07        1.827533e+08   \n",
       "46            South Sudan       1.263369e+08        2.017831e+08   \n",
       "47              Swaziland       4.690000e+07                 NaN   \n",
       "55                Bahrain                NaN        2.108542e+07   \n",
       "56      Equatorial Guinea                NaN        3.765589e+09   \n",
       "57                 Israel                NaN        8.597660e+07   \n",
       "58                  Libya                NaN        5.529004e+06   \n",
       "59              Palestine                NaN        1.995331e+07   \n",
       "60                Somalia                NaN        2.638348e+07   \n",
       "61                  Sudan                NaN        3.065282e+10   \n",
       "62                  Syria                NaN        9.961909e+07   \n",
       "63   United Arab Emirates                NaN        3.177106e+07   \n",
       "64               Zimbabwe                NaN        2.340166e+10   \n",
       "65                 Kuwait                NaN                 NaN   \n",
       "66                   Oman                NaN                 NaN   \n",
       "67                  Qatar                NaN                 NaN   \n",
       "68           Saudi Arabia                NaN                 NaN   \n",
       "\n",
       "       usaid_aid    hdi_00  hdi_14  pr_score00  cl_score00 fh_status00  \\\n",
       "4   2.048434e+09  0.286000   0.405         4.0         4.0          PF   \n",
       "19  1.392312e+08  0.382000   0.449         7.0         5.0          NF   \n",
       "23  6.386544e+07  0.671000   0.788         6.0         6.0          NF   \n",
       "41  3.884767e+07  0.480000   0.577         1.0         2.0           F   \n",
       "43  2.006201e+07       NaN     NaN         NaN         NaN         NaN   \n",
       "46  4.261786e+09  0.507431   0.435         NaN         NaN         NaN   \n",
       "47  5.409131e+08  0.468000   0.573         6.0         5.0          NF   \n",
       "55  9.002047e+08  0.792000   0.810         7.0         6.0          NF   \n",
       "56  5.080444e+06  0.520000   0.590         7.0         7.0          NF   \n",
       "57  1.020541e+11  0.853000   0.900         1.0         3.0           F   \n",
       "58  9.500085e+08  0.728000   0.693         7.0         7.0          NF   \n",
       "59  1.336954e+10  0.507431   0.682         NaN         NaN         NaN   \n",
       "60  5.911542e+09       NaN     NaN         6.0         7.0          NF   \n",
       "61  1.923096e+10  0.403000   0.496         7.0         7.0          NF   \n",
       "62  3.572409e+09  0.590000   0.551         7.0         7.0          NF   \n",
       "63  3.794542e+07  0.782000   0.847         6.0         5.0          NF   \n",
       "64  3.928401e+09  0.452000   0.537         6.0         5.0          PF   \n",
       "65  8.617661e+06  0.786000   0.800         4.0         5.0          PF   \n",
       "66  8.855178e+08  0.704000   0.815         6.0         5.0          NF   \n",
       "67  1.885977e+07  0.816000   0.854         6.0         6.0          NF   \n",
       "68  2.094263e+07  0.744000   0.853         7.0         7.0          NF   \n",
       "\n",
       "    pr_score14  cl_score14 fh_status14  cpi_2014  \n",
       "4          6.0         3.0          PF      38.0  \n",
       "19         6.0         6.0          NF      29.0  \n",
       "23         6.0         6.0          NF      27.0  \n",
       "41         2.0         2.0           F      42.0  \n",
       "43         NaN         NaN         NaN      55.0  \n",
       "46         NaN         NaN         NaN      15.0  \n",
       "47         7.0         5.0          NF      43.0  \n",
       "55         7.0         6.0          NF      49.0  \n",
       "56         7.0         7.0          NF      18.0  \n",
       "57         1.0         2.0           F      60.0  \n",
       "58         6.0         6.0          NF      18.0  \n",
       "59         NaN         NaN         NaN       NaN  \n",
       "60         7.0         7.0          NF       8.0  \n",
       "61         7.0         7.0          NF      11.0  \n",
       "62         7.0         7.0          NF      20.0  \n",
       "63         6.0         6.0          NF      70.0  \n",
       "64         5.0         6.0          NF      21.0  \n",
       "65         5.0         5.0          PF      44.0  \n",
       "66         6.0         5.0          NF      45.0  \n",
       "67         6.0         5.0          NF      69.0  \n",
       "68         7.0         7.0          NF      49.0  "
      ]
     },
     "execution_count": 1123,
     "metadata": {},
     "output_type": "execute_result"
    }
   ],
   "source": [
    "# Looking at the rows with null values \n",
    "aid[aid.isnull().any(axis=1)]"
   ]
  },
  {
   "cell_type": "code",
   "execution_count": 1124,
   "metadata": {},
   "outputs": [],
   "source": [
    "# Dropping Seychelles because I have a lot of missing data and it is a very small country \n",
    "aid = aid.drop(aid.loc[aid['country'] == 'Seychelles'].index)"
   ]
  },
  {
   "cell_type": "code",
   "execution_count": 1125,
   "metadata": {},
   "outputs": [],
   "source": [
    "# Null values in these columns means that there was no aid, so making this zero \n",
    "aid[['world_bank_totals', 'chinese_aid_totals', 'usaid_aid']] = aid[['world_bank_totals', 'chinese_aid_totals', 'usaid_aid']].fillna(0)"
   ]
  },
  {
   "cell_type": "code",
   "execution_count": 1126,
   "metadata": {},
   "outputs": [
    {
     "name": "stdout",
     "output_type": "stream",
     "text": [
      "<class 'pandas.core.frame.DataFrame'>\n",
      "Int64Index: 68 entries, 0 to 68\n",
      "Data columns (total 13 columns):\n",
      "country               68 non-null object\n",
      "world_bank_totals     68 non-null float64\n",
      "chinese_aid_totals    68 non-null float64\n",
      "usaid_aid             68 non-null float64\n",
      "hdi_00                67 non-null float64\n",
      "hdi_14                67 non-null float64\n",
      "pr_score00            66 non-null float64\n",
      "cl_score00            66 non-null float64\n",
      "fh_status00           66 non-null object\n",
      "pr_score14            66 non-null float64\n",
      "cl_score14            66 non-null float64\n",
      "fh_status14           66 non-null object\n",
      "cpi_2014              67 non-null float64\n",
      "dtypes: float64(10), object(3)\n",
      "memory usage: 7.4+ KB\n"
     ]
    }
   ],
   "source": [
    "# Looking at my null values and data types \n",
    "aid.info()"
   ]
  },
  {
   "cell_type": "code",
   "execution_count": 1127,
   "metadata": {},
   "outputs": [
    {
     "data": {
      "text/plain": [
       "count    67.00000\n",
       "mean      0.49768\n",
       "std       0.15142\n",
       "min       0.25300\n",
       "25%       0.39450\n",
       "50%       0.46800\n",
       "75%       0.60950\n",
       "max       0.85300\n",
       "Name: hdi_00, dtype: float64"
      ]
     },
     "execution_count": 1127,
     "metadata": {},
     "output_type": "execute_result"
    }
   ],
   "source": [
    "aid['hdi_00'].describe()"
   ]
  },
  {
   "cell_type": "code",
   "execution_count": 1128,
   "metadata": {},
   "outputs": [],
   "source": [
    "# Filling in the hdi as .3 as an approximation for Somalia. Using above the minumum but below the 25th \n",
    "# percentile because it is a very poor country \n",
    "aid['hdi_00'] = aid['hdi_00'].fillna(.3)"
   ]
  },
  {
   "cell_type": "code",
   "execution_count": 1129,
   "metadata": {},
   "outputs": [
    {
     "data": {
      "text/plain": [
       "count    67.000000\n",
       "mean      0.581209\n",
       "std       0.140849\n",
       "min       0.353000\n",
       "25%       0.473500\n",
       "50%       0.540000\n",
       "75%       0.689500\n",
       "max       0.900000\n",
       "Name: hdi_14, dtype: float64"
      ]
     },
     "execution_count": 1129,
     "metadata": {},
     "output_type": "execute_result"
    }
   ],
   "source": [
    "aid['hdi_14'].describe()"
   ]
  },
  {
   "cell_type": "code",
   "execution_count": 1130,
   "metadata": {},
   "outputs": [],
   "source": [
    "# Using the same logic as above \n",
    "aid['hdi_14'] = aid['hdi_14'].fillna(.40)"
   ]
  },
  {
   "cell_type": "code",
   "execution_count": 1131,
   "metadata": {},
   "outputs": [
    {
     "data": {
      "text/html": [
       "<div>\n",
       "<style scoped>\n",
       "    .dataframe tbody tr th:only-of-type {\n",
       "        vertical-align: middle;\n",
       "    }\n",
       "\n",
       "    .dataframe tbody tr th {\n",
       "        vertical-align: top;\n",
       "    }\n",
       "\n",
       "    .dataframe thead th {\n",
       "        text-align: right;\n",
       "    }\n",
       "</style>\n",
       "<table border=\"1\" class=\"dataframe\">\n",
       "  <thead>\n",
       "    <tr style=\"text-align: right;\">\n",
       "      <th></th>\n",
       "      <th>country</th>\n",
       "      <th>world_bank_totals</th>\n",
       "      <th>chinese_aid_totals</th>\n",
       "      <th>usaid_aid</th>\n",
       "      <th>hdi_00</th>\n",
       "      <th>hdi_14</th>\n",
       "      <th>pr_score00</th>\n",
       "      <th>cl_score00</th>\n",
       "      <th>fh_status00</th>\n",
       "      <th>pr_score14</th>\n",
       "      <th>cl_score14</th>\n",
       "      <th>fh_status14</th>\n",
       "      <th>cpi_2014</th>\n",
       "    </tr>\n",
       "  </thead>\n",
       "  <tbody>\n",
       "    <tr>\n",
       "      <th>46</th>\n",
       "      <td>South Sudan</td>\n",
       "      <td>1.263369e+08</td>\n",
       "      <td>2.017831e+08</td>\n",
       "      <td>4.261786e+09</td>\n",
       "      <td>0.507431</td>\n",
       "      <td>0.435</td>\n",
       "      <td>NaN</td>\n",
       "      <td>NaN</td>\n",
       "      <td>NaN</td>\n",
       "      <td>NaN</td>\n",
       "      <td>NaN</td>\n",
       "      <td>NaN</td>\n",
       "      <td>15.0</td>\n",
       "    </tr>\n",
       "    <tr>\n",
       "      <th>59</th>\n",
       "      <td>Palestine</td>\n",
       "      <td>0.000000e+00</td>\n",
       "      <td>1.995331e+07</td>\n",
       "      <td>1.336954e+10</td>\n",
       "      <td>0.507431</td>\n",
       "      <td>0.682</td>\n",
       "      <td>NaN</td>\n",
       "      <td>NaN</td>\n",
       "      <td>NaN</td>\n",
       "      <td>NaN</td>\n",
       "      <td>NaN</td>\n",
       "      <td>NaN</td>\n",
       "      <td>NaN</td>\n",
       "    </tr>\n",
       "  </tbody>\n",
       "</table>\n",
       "</div>"
      ],
      "text/plain": [
       "        country  world_bank_totals  chinese_aid_totals     usaid_aid  \\\n",
       "46  South Sudan       1.263369e+08        2.017831e+08  4.261786e+09   \n",
       "59    Palestine       0.000000e+00        1.995331e+07  1.336954e+10   \n",
       "\n",
       "      hdi_00  hdi_14  pr_score00  cl_score00 fh_status00  pr_score14  \\\n",
       "46  0.507431   0.435         NaN         NaN         NaN         NaN   \n",
       "59  0.507431   0.682         NaN         NaN         NaN         NaN   \n",
       "\n",
       "    cl_score14 fh_status14  cpi_2014  \n",
       "46         NaN         NaN      15.0  \n",
       "59         NaN         NaN       NaN  "
      ]
     },
     "execution_count": 1131,
     "metadata": {},
     "output_type": "execute_result"
    }
   ],
   "source": [
    "# Looking at my remaining null values\n",
    "aid[aid.isnull().any(axis=1)]"
   ]
  },
  {
   "cell_type": "code",
   "execution_count": 1132,
   "metadata": {},
   "outputs": [
    {
     "data": {
      "text/html": [
       "<div>\n",
       "<style scoped>\n",
       "    .dataframe tbody tr th:only-of-type {\n",
       "        vertical-align: middle;\n",
       "    }\n",
       "\n",
       "    .dataframe tbody tr th {\n",
       "        vertical-align: top;\n",
       "    }\n",
       "\n",
       "    .dataframe thead th {\n",
       "        text-align: right;\n",
       "    }\n",
       "</style>\n",
       "<table border=\"1\" class=\"dataframe\">\n",
       "  <thead>\n",
       "    <tr style=\"text-align: right;\">\n",
       "      <th></th>\n",
       "      <th>country</th>\n",
       "      <th>world_bank_totals</th>\n",
       "      <th>chinese_aid_totals</th>\n",
       "      <th>usaid_aid</th>\n",
       "      <th>hdi_00</th>\n",
       "      <th>hdi_14</th>\n",
       "      <th>pr_score00</th>\n",
       "      <th>cl_score00</th>\n",
       "      <th>fh_status00</th>\n",
       "      <th>pr_score14</th>\n",
       "      <th>cl_score14</th>\n",
       "      <th>fh_status14</th>\n",
       "      <th>cpi_2014</th>\n",
       "    </tr>\n",
       "  </thead>\n",
       "  <tbody>\n",
       "    <tr>\n",
       "      <th>61</th>\n",
       "      <td>Sudan</td>\n",
       "      <td>0.0</td>\n",
       "      <td>3.065282e+10</td>\n",
       "      <td>1.923096e+10</td>\n",
       "      <td>0.403</td>\n",
       "      <td>0.496</td>\n",
       "      <td>7.0</td>\n",
       "      <td>7.0</td>\n",
       "      <td>NF</td>\n",
       "      <td>7.0</td>\n",
       "      <td>7.0</td>\n",
       "      <td>NF</td>\n",
       "      <td>11.0</td>\n",
       "    </tr>\n",
       "  </tbody>\n",
       "</table>\n",
       "</div>"
      ],
      "text/plain": [
       "   country  world_bank_totals  chinese_aid_totals     usaid_aid  hdi_00  \\\n",
       "61   Sudan                0.0        3.065282e+10  1.923096e+10   0.403   \n",
       "\n",
       "    hdi_14  pr_score00  cl_score00 fh_status00  pr_score14  cl_score14  \\\n",
       "61   0.496         7.0         7.0          NF         7.0         7.0   \n",
       "\n",
       "   fh_status14  cpi_2014  \n",
       "61          NF      11.0  "
      ]
     },
     "execution_count": 1132,
     "metadata": {},
     "output_type": "execute_result"
    }
   ],
   "source": [
    "# Looking at Sudan's values because I will use those for South Sudan since during this time they were \n",
    "# one country \n",
    "aid[aid['country'] == 'Sudan']"
   ]
  },
  {
   "cell_type": "code",
   "execution_count": 1133,
   "metadata": {},
   "outputs": [],
   "source": [
    "# Filling in the first null value (South Sudan), with Sudan's values \n",
    "aid['pr_score00'].fillna(value=7.0, limit=1, inplace=True)\n",
    "aid['cl_score00'].fillna(value=7.0, limit=1, inplace=True)\n",
    "aid['fh_status00'].fillna(value='NF', limit=1, inplace=True)\n",
    "aid['pr_score14'].fillna(value=7.0, limit=1, inplace=True)\n",
    "aid['cl_score14'].fillna(value=7.0, limit=1, inplace=True)\n",
    "aid['fh_status14'].fillna(value='NF', limit=1, inplace=True)"
   ]
  },
  {
   "cell_type": "code",
   "execution_count": 1134,
   "metadata": {},
   "outputs": [
    {
     "data": {
      "text/html": [
       "<div>\n",
       "<style scoped>\n",
       "    .dataframe tbody tr th:only-of-type {\n",
       "        vertical-align: middle;\n",
       "    }\n",
       "\n",
       "    .dataframe tbody tr th {\n",
       "        vertical-align: top;\n",
       "    }\n",
       "\n",
       "    .dataframe thead th {\n",
       "        text-align: right;\n",
       "    }\n",
       "</style>\n",
       "<table border=\"1\" class=\"dataframe\">\n",
       "  <thead>\n",
       "    <tr style=\"text-align: right;\">\n",
       "      <th></th>\n",
       "      <th>country</th>\n",
       "      <th>world_bank_totals</th>\n",
       "      <th>chinese_aid_totals</th>\n",
       "      <th>usaid_aid</th>\n",
       "      <th>hdi_00</th>\n",
       "      <th>hdi_14</th>\n",
       "      <th>pr_score00</th>\n",
       "      <th>cl_score00</th>\n",
       "      <th>fh_status00</th>\n",
       "      <th>pr_score14</th>\n",
       "      <th>cl_score14</th>\n",
       "      <th>fh_status14</th>\n",
       "      <th>cpi_2014</th>\n",
       "    </tr>\n",
       "  </thead>\n",
       "  <tbody>\n",
       "    <tr>\n",
       "      <th>59</th>\n",
       "      <td>Palestine</td>\n",
       "      <td>0.0</td>\n",
       "      <td>1.995331e+07</td>\n",
       "      <td>1.336954e+10</td>\n",
       "      <td>0.507431</td>\n",
       "      <td>0.682</td>\n",
       "      <td>NaN</td>\n",
       "      <td>NaN</td>\n",
       "      <td>NaN</td>\n",
       "      <td>NaN</td>\n",
       "      <td>NaN</td>\n",
       "      <td>NaN</td>\n",
       "      <td>NaN</td>\n",
       "    </tr>\n",
       "  </tbody>\n",
       "</table>\n",
       "</div>"
      ],
      "text/plain": [
       "      country  world_bank_totals  chinese_aid_totals     usaid_aid    hdi_00  \\\n",
       "59  Palestine                0.0        1.995331e+07  1.336954e+10  0.507431   \n",
       "\n",
       "    hdi_14  pr_score00  cl_score00 fh_status00  pr_score14  cl_score14  \\\n",
       "59   0.682         NaN         NaN         NaN         NaN         NaN   \n",
       "\n",
       "   fh_status14  cpi_2014  \n",
       "59         NaN       NaN  "
      ]
     },
     "execution_count": 1134,
     "metadata": {},
     "output_type": "execute_result"
    }
   ],
   "source": [
    "# Looking at my null values \n",
    "aid[aid.isnull().any(axis=1)]"
   ]
  },
  {
   "cell_type": "code",
   "execution_count": 1135,
   "metadata": {},
   "outputs": [
    {
     "data": {
      "text/plain": [
       "count    67.000000\n",
       "mean     34.223881\n",
       "std      13.682350\n",
       "min       8.000000\n",
       "25%      24.500000\n",
       "50%      32.000000\n",
       "75%      43.500000\n",
       "max      70.000000\n",
       "Name: cpi_2014, dtype: float64"
      ]
     },
     "execution_count": 1135,
     "metadata": {},
     "output_type": "execute_result"
    }
   ],
   "source": [
    "# Looking at the values for cpi\n",
    "aid['cpi_2014'].describe()"
   ]
  },
  {
   "cell_type": "code",
   "execution_count": 1136,
   "metadata": {},
   "outputs": [],
   "source": [
    "# Filling in Palestine's corruption score with the 25th percentile \n",
    "aid['cpi_2014'] = aid['cpi_2014'].fillna(24.5)"
   ]
  },
  {
   "cell_type": "code",
   "execution_count": 1137,
   "metadata": {},
   "outputs": [],
   "source": [
    "# Found Palestine on the list of territories, and filling in info based on that\n",
    "aid[['pr_score14', 'cl_score14']] = aid[['pr_score14', 'cl_score14']].fillna(6)"
   ]
  },
  {
   "cell_type": "code",
   "execution_count": 1138,
   "metadata": {},
   "outputs": [],
   "source": [
    "# Found Palestine on the list of territories, and filling in info based on that\n",
    "aid[['pr_score00', 'cl_score00']] = aid[['pr_score00', 'cl_score00']].fillna(6)"
   ]
  },
  {
   "cell_type": "code",
   "execution_count": 1139,
   "metadata": {},
   "outputs": [],
   "source": [
    "# Found Palestine on the list of territories, and filling in info based on that\n",
    "aid['fh_status14'] = aid['fh_status14'].fillna('NF')"
   ]
  },
  {
   "cell_type": "code",
   "execution_count": 1140,
   "metadata": {},
   "outputs": [],
   "source": [
    "# Found Palestine on the list of territories, and filling in info based on that\n",
    "aid['fh_status00'] = aid['fh_status00'].fillna('NF')"
   ]
  },
  {
   "cell_type": "code",
   "execution_count": 1141,
   "metadata": {},
   "outputs": [
    {
     "name": "stdout",
     "output_type": "stream",
     "text": [
      "<class 'pandas.core.frame.DataFrame'>\n",
      "Int64Index: 68 entries, 0 to 68\n",
      "Data columns (total 13 columns):\n",
      "country               68 non-null object\n",
      "world_bank_totals     68 non-null float64\n",
      "chinese_aid_totals    68 non-null float64\n",
      "usaid_aid             68 non-null float64\n",
      "hdi_00                68 non-null float64\n",
      "hdi_14                68 non-null float64\n",
      "pr_score00            68 non-null float64\n",
      "cl_score00            68 non-null float64\n",
      "fh_status00           68 non-null object\n",
      "pr_score14            68 non-null float64\n",
      "cl_score14            68 non-null float64\n",
      "fh_status14           68 non-null object\n",
      "cpi_2014              68 non-null float64\n",
      "dtypes: float64(10), object(3)\n",
      "memory usage: 7.4+ KB\n"
     ]
    }
   ],
   "source": [
    "# Looking to see that I took care of all my null values and data types are correct \n",
    "aid.info()"
   ]
  },
  {
   "cell_type": "code",
   "execution_count": 1142,
   "metadata": {},
   "outputs": [],
   "source": [
    "# Reading in my world bank info\n",
    "wb_info = pd.read_csv('./aid_data/gdp/wb_info.csv')"
   ]
  },
  {
   "cell_type": "code",
   "execution_count": 1143,
   "metadata": {},
   "outputs": [
    {
     "data": {
      "text/html": [
       "<div>\n",
       "<style scoped>\n",
       "    .dataframe tbody tr th:only-of-type {\n",
       "        vertical-align: middle;\n",
       "    }\n",
       "\n",
       "    .dataframe tbody tr th {\n",
       "        vertical-align: top;\n",
       "    }\n",
       "\n",
       "    .dataframe thead th {\n",
       "        text-align: right;\n",
       "    }\n",
       "</style>\n",
       "<table border=\"1\" class=\"dataframe\">\n",
       "  <thead>\n",
       "    <tr style=\"text-align: right;\">\n",
       "      <th></th>\n",
       "      <th>country</th>\n",
       "      <th>population</th>\n",
       "      <th>gdp_per_cap</th>\n",
       "      <th>resource_rents</th>\n",
       "      <th>debt_to_gdp</th>\n",
       "    </tr>\n",
       "  </thead>\n",
       "  <tbody>\n",
       "    <tr>\n",
       "      <th>0</th>\n",
       "      <td>Angola</td>\n",
       "      <td>26941779</td>\n",
       "      <td>3843.198241</td>\n",
       "      <td>23.381930</td>\n",
       "      <td>40.676</td>\n",
       "    </tr>\n",
       "    <tr>\n",
       "      <th>1</th>\n",
       "      <td>United Arab Emirates</td>\n",
       "      <td>9214175</td>\n",
       "      <td>38495.046350</td>\n",
       "      <td>24.249507</td>\n",
       "      <td>15.537</td>\n",
       "    </tr>\n",
       "    <tr>\n",
       "      <th>2</th>\n",
       "      <td>Burundi</td>\n",
       "      <td>9844297</td>\n",
       "      <td>245.326739</td>\n",
       "      <td>17.033314</td>\n",
       "      <td>35.772</td>\n",
       "    </tr>\n",
       "    <tr>\n",
       "      <th>3</th>\n",
       "      <td>Benin</td>\n",
       "      <td>10286842</td>\n",
       "      <td>834.443596</td>\n",
       "      <td>4.872945</td>\n",
       "      <td>30.452</td>\n",
       "    </tr>\n",
       "    <tr>\n",
       "      <th>4</th>\n",
       "      <td>Burkina Faso</td>\n",
       "      <td>17586017</td>\n",
       "      <td>639.708096</td>\n",
       "      <td>16.981603</td>\n",
       "      <td>30.387</td>\n",
       "    </tr>\n",
       "  </tbody>\n",
       "</table>\n",
       "</div>"
      ],
      "text/plain": [
       "                country  population   gdp_per_cap  resource_rents  debt_to_gdp\n",
       "0                Angola    26941779   3843.198241       23.381930       40.676\n",
       "1  United Arab Emirates     9214175  38495.046350       24.249507       15.537\n",
       "2               Burundi     9844297    245.326739       17.033314       35.772\n",
       "3                 Benin    10286842    834.443596        4.872945       30.452\n",
       "4          Burkina Faso    17586017    639.708096       16.981603       30.387"
      ]
     },
     "execution_count": 1143,
     "metadata": {},
     "output_type": "execute_result"
    }
   ],
   "source": [
    "# Looking at my world \n",
    "wb_info.head()"
   ]
  },
  {
   "cell_type": "code",
   "execution_count": 1144,
   "metadata": {},
   "outputs": [],
   "source": [
    "# Combining my world bank info with my other aid data \n",
    "aid = pd.merge(aid, wb_info, how='outer', on=['country'])"
   ]
  },
  {
   "cell_type": "code",
   "execution_count": 1145,
   "metadata": {},
   "outputs": [
    {
     "data": {
      "text/html": [
       "<div>\n",
       "<style scoped>\n",
       "    .dataframe tbody tr th:only-of-type {\n",
       "        vertical-align: middle;\n",
       "    }\n",
       "\n",
       "    .dataframe tbody tr th {\n",
       "        vertical-align: top;\n",
       "    }\n",
       "\n",
       "    .dataframe thead th {\n",
       "        text-align: right;\n",
       "    }\n",
       "</style>\n",
       "<table border=\"1\" class=\"dataframe\">\n",
       "  <thead>\n",
       "    <tr style=\"text-align: right;\">\n",
       "      <th></th>\n",
       "      <th>country</th>\n",
       "      <th>world_bank_totals</th>\n",
       "      <th>chinese_aid_totals</th>\n",
       "      <th>usaid_aid</th>\n",
       "      <th>hdi_00</th>\n",
       "      <th>hdi_14</th>\n",
       "      <th>pr_score00</th>\n",
       "      <th>cl_score00</th>\n",
       "      <th>fh_status00</th>\n",
       "      <th>pr_score14</th>\n",
       "      <th>cl_score14</th>\n",
       "      <th>fh_status14</th>\n",
       "      <th>cpi_2014</th>\n",
       "      <th>population</th>\n",
       "      <th>gdp_per_cap</th>\n",
       "      <th>resource_rents</th>\n",
       "      <th>debt_to_gdp</th>\n",
       "    </tr>\n",
       "  </thead>\n",
       "  <tbody>\n",
       "    <tr>\n",
       "      <th>0</th>\n",
       "      <td>Algeria</td>\n",
       "      <td>4.380505e+08</td>\n",
       "      <td>5.674971e+08</td>\n",
       "      <td>2.476621e+08</td>\n",
       "      <td>0.646</td>\n",
       "      <td>0.749</td>\n",
       "      <td>6.0</td>\n",
       "      <td>5.0</td>\n",
       "      <td>NF</td>\n",
       "      <td>6.0</td>\n",
       "      <td>5.0</td>\n",
       "      <td>NF</td>\n",
       "      <td>36.0</td>\n",
       "      <td>38923687</td>\n",
       "      <td>4702.091700</td>\n",
       "      <td>24.602722</td>\n",
       "      <td>7.673</td>\n",
       "    </tr>\n",
       "    <tr>\n",
       "      <th>1</th>\n",
       "      <td>Angola</td>\n",
       "      <td>8.030873e+08</td>\n",
       "      <td>3.824927e+10</td>\n",
       "      <td>2.939893e+09</td>\n",
       "      <td>0.394</td>\n",
       "      <td>0.557</td>\n",
       "      <td>6.0</td>\n",
       "      <td>6.0</td>\n",
       "      <td>NF</td>\n",
       "      <td>6.0</td>\n",
       "      <td>5.0</td>\n",
       "      <td>NF</td>\n",
       "      <td>19.0</td>\n",
       "      <td>26941779</td>\n",
       "      <td>3843.198241</td>\n",
       "      <td>23.381930</td>\n",
       "      <td>40.676</td>\n",
       "    </tr>\n",
       "    <tr>\n",
       "      <th>2</th>\n",
       "      <td>Benin</td>\n",
       "      <td>1.107820e+09</td>\n",
       "      <td>1.212040e+09</td>\n",
       "      <td>1.785451e+09</td>\n",
       "      <td>0.398</td>\n",
       "      <td>0.505</td>\n",
       "      <td>2.0</td>\n",
       "      <td>2.0</td>\n",
       "      <td>F</td>\n",
       "      <td>2.0</td>\n",
       "      <td>2.0</td>\n",
       "      <td>F</td>\n",
       "      <td>39.0</td>\n",
       "      <td>10286842</td>\n",
       "      <td>834.443596</td>\n",
       "      <td>4.872945</td>\n",
       "      <td>30.452</td>\n",
       "    </tr>\n",
       "    <tr>\n",
       "      <th>3</th>\n",
       "      <td>Botswana</td>\n",
       "      <td>3.858719e+08</td>\n",
       "      <td>2.585561e+09</td>\n",
       "      <td>2.141447e+09</td>\n",
       "      <td>0.578</td>\n",
       "      <td>0.709</td>\n",
       "      <td>2.0</td>\n",
       "      <td>2.0</td>\n",
       "      <td>F</td>\n",
       "      <td>3.0</td>\n",
       "      <td>2.0</td>\n",
       "      <td>F</td>\n",
       "      <td>63.0</td>\n",
       "      <td>2088614</td>\n",
       "      <td>7864.253281</td>\n",
       "      <td>2.516289</td>\n",
       "      <td>17.346</td>\n",
       "    </tr>\n",
       "    <tr>\n",
       "      <th>4</th>\n",
       "      <td>Burkina Faso</td>\n",
       "      <td>2.858288e+09</td>\n",
       "      <td>0.000000e+00</td>\n",
       "      <td>2.048434e+09</td>\n",
       "      <td>0.286</td>\n",
       "      <td>0.405</td>\n",
       "      <td>4.0</td>\n",
       "      <td>4.0</td>\n",
       "      <td>PF</td>\n",
       "      <td>6.0</td>\n",
       "      <td>3.0</td>\n",
       "      <td>PF</td>\n",
       "      <td>38.0</td>\n",
       "      <td>17586017</td>\n",
       "      <td>639.708096</td>\n",
       "      <td>16.981603</td>\n",
       "      <td>30.387</td>\n",
       "    </tr>\n",
       "  </tbody>\n",
       "</table>\n",
       "</div>"
      ],
      "text/plain": [
       "        country  world_bank_totals  chinese_aid_totals     usaid_aid  hdi_00  \\\n",
       "0       Algeria       4.380505e+08        5.674971e+08  2.476621e+08   0.646   \n",
       "1        Angola       8.030873e+08        3.824927e+10  2.939893e+09   0.394   \n",
       "2         Benin       1.107820e+09        1.212040e+09  1.785451e+09   0.398   \n",
       "3      Botswana       3.858719e+08        2.585561e+09  2.141447e+09   0.578   \n",
       "4  Burkina Faso       2.858288e+09        0.000000e+00  2.048434e+09   0.286   \n",
       "\n",
       "   hdi_14  pr_score00  cl_score00 fh_status00  pr_score14  cl_score14  \\\n",
       "0   0.749         6.0         5.0          NF         6.0         5.0   \n",
       "1   0.557         6.0         6.0          NF         6.0         5.0   \n",
       "2   0.505         2.0         2.0           F         2.0         2.0   \n",
       "3   0.709         2.0         2.0           F         3.0         2.0   \n",
       "4   0.405         4.0         4.0          PF         6.0         3.0   \n",
       "\n",
       "  fh_status14  cpi_2014  population  gdp_per_cap  resource_rents  debt_to_gdp  \n",
       "0          NF      36.0    38923687  4702.091700       24.602722        7.673  \n",
       "1          NF      19.0    26941779  3843.198241       23.381930       40.676  \n",
       "2           F      39.0    10286842   834.443596        4.872945       30.452  \n",
       "3           F      63.0     2088614  7864.253281        2.516289       17.346  \n",
       "4          PF      38.0    17586017   639.708096       16.981603       30.387  "
      ]
     },
     "execution_count": 1145,
     "metadata": {},
     "output_type": "execute_result"
    }
   ],
   "source": [
    "# Looking at my new combined data frame \n",
    "aid.head()"
   ]
  },
  {
   "cell_type": "code",
   "execution_count": 1146,
   "metadata": {},
   "outputs": [],
   "source": [
    "# Saving my new dataframe to a csv \n",
    "aid.to_csv('./aid_data/combined_data/aid_sums.csv', index=False)"
   ]
  },
  {
   "cell_type": "markdown",
   "metadata": {},
   "source": [
    "# Feature engineering "
   ]
  },
  {
   "cell_type": "code",
   "execution_count": 1147,
   "metadata": {},
   "outputs": [],
   "source": [
    "# I'm adding my Political Rights and Civil Liberties scores together so I can make a column showing\n",
    "# the overall change between 2000 and 2014 \n",
    "aid['fh_total00'] = aid['pr_score00'] + aid['cl_score00']"
   ]
  },
  {
   "cell_type": "code",
   "execution_count": 1148,
   "metadata": {},
   "outputs": [],
   "source": [
    "# Getting the total for 2014\n",
    "aid['fh_total14'] = aid['pr_score14'] + aid['cl_score14']"
   ]
  },
  {
   "cell_type": "code",
   "execution_count": 1149,
   "metadata": {},
   "outputs": [],
   "source": [
    "# Creating the columns for change \n",
    "aid['fh_change'] = aid['fh_total14'] - aid['fh_total00']"
   ]
  },
  {
   "cell_type": "code",
   "execution_count": 1150,
   "metadata": {},
   "outputs": [],
   "source": [
    "# Dropping these columns because I do not need them anymore \n",
    "aid = aid.drop(columns=['fh_total00', 'fh_total14'])"
   ]
  },
  {
   "cell_type": "code",
   "execution_count": 1151,
   "metadata": {},
   "outputs": [],
   "source": [
    "# Creating a column for the change in hdi from 2000 to 2014\n",
    "aid['hdi_change'] = aid['hdi_14'] - aid['hdi_00']"
   ]
  },
  {
   "cell_type": "code",
   "execution_count": 1152,
   "metadata": {},
   "outputs": [],
   "source": [
    "# Making a column for per capita World Bank aid \n",
    "aid['world_bank_pc'] = aid['world_bank_totals'] / aid['population']"
   ]
  },
  {
   "cell_type": "code",
   "execution_count": 1153,
   "metadata": {},
   "outputs": [],
   "source": [
    "# Making a column for per capita Chinese aid \n",
    "aid['chinese_aid_pc'] = aid['chinese_aid_totals'] / aid['population']"
   ]
  },
  {
   "cell_type": "code",
   "execution_count": 1154,
   "metadata": {},
   "outputs": [],
   "source": [
    "# Making a column for per capita US aid \n",
    "aid['usaid_pc'] = aid['usaid_aid'] / aid['population']"
   ]
  },
  {
   "cell_type": "code",
   "execution_count": 1155,
   "metadata": {},
   "outputs": [],
   "source": [
    "# Making a column for the max totals between US and Chinese aid \n",
    "aid['max_total_aid'] = aid[[\"chinese_aid_totals\", \"usaid_aid\"]].apply(max, axis=1)"
   ]
  },
  {
   "cell_type": "code",
   "execution_count": 1156,
   "metadata": {},
   "outputs": [],
   "source": [
    "# Making a boolean 0/1 column. 1 represents nations with larger chinese aid\n",
    "aid['chinese_aid_total_max'] = (aid['chinese_aid_totals'] == aid['max_total_aid']).astype(int)"
   ]
  },
  {
   "cell_type": "code",
   "execution_count": 1157,
   "metadata": {},
   "outputs": [],
   "source": [
    "# Dropping this column, I don't need it \n",
    "aid = aid.drop(columns='max_total_aid')"
   ]
  },
  {
   "cell_type": "code",
   "execution_count": 1158,
   "metadata": {},
   "outputs": [
    {
     "data": {
      "text/plain": [
       "0.36764705882352944"
      ]
     },
     "execution_count": 1158,
     "metadata": {},
     "output_type": "execute_result"
    }
   ],
   "source": [
    "# Looking at what percentage of countries have more Chinese aid \n",
    "aid['chinese_aid_total_max'].mean()"
   ]
  },
  {
   "cell_type": "code",
   "execution_count": 1159,
   "metadata": {},
   "outputs": [
    {
     "data": {
      "text/html": [
       "<div>\n",
       "<style scoped>\n",
       "    .dataframe tbody tr th:only-of-type {\n",
       "        vertical-align: middle;\n",
       "    }\n",
       "\n",
       "    .dataframe tbody tr th {\n",
       "        vertical-align: top;\n",
       "    }\n",
       "\n",
       "    .dataframe thead th {\n",
       "        text-align: right;\n",
       "    }\n",
       "</style>\n",
       "<table border=\"1\" class=\"dataframe\">\n",
       "  <thead>\n",
       "    <tr style=\"text-align: right;\">\n",
       "      <th></th>\n",
       "      <th>country</th>\n",
       "      <th>world_bank_totals</th>\n",
       "      <th>chinese_aid_totals</th>\n",
       "      <th>usaid_aid</th>\n",
       "      <th>hdi_00</th>\n",
       "      <th>hdi_14</th>\n",
       "      <th>pr_score00</th>\n",
       "      <th>cl_score00</th>\n",
       "      <th>fh_status00</th>\n",
       "      <th>pr_score14</th>\n",
       "      <th>...</th>\n",
       "      <th>population</th>\n",
       "      <th>gdp_per_cap</th>\n",
       "      <th>resource_rents</th>\n",
       "      <th>debt_to_gdp</th>\n",
       "      <th>fh_change</th>\n",
       "      <th>hdi_change</th>\n",
       "      <th>world_bank_pc</th>\n",
       "      <th>chinese_aid_pc</th>\n",
       "      <th>usaid_pc</th>\n",
       "      <th>chinese_aid_total_max</th>\n",
       "    </tr>\n",
       "  </thead>\n",
       "  <tbody>\n",
       "    <tr>\n",
       "      <th>0</th>\n",
       "      <td>Algeria</td>\n",
       "      <td>4.380505e+08</td>\n",
       "      <td>5.674971e+08</td>\n",
       "      <td>2.476621e+08</td>\n",
       "      <td>0.646</td>\n",
       "      <td>0.749</td>\n",
       "      <td>6.0</td>\n",
       "      <td>5.0</td>\n",
       "      <td>NF</td>\n",
       "      <td>6.0</td>\n",
       "      <td>...</td>\n",
       "      <td>38923687</td>\n",
       "      <td>4702.091700</td>\n",
       "      <td>24.602722</td>\n",
       "      <td>7.673</td>\n",
       "      <td>0.0</td>\n",
       "      <td>0.103</td>\n",
       "      <td>11.254086</td>\n",
       "      <td>14.579737</td>\n",
       "      <td>6.362761</td>\n",
       "      <td>1</td>\n",
       "    </tr>\n",
       "    <tr>\n",
       "      <th>1</th>\n",
       "      <td>Angola</td>\n",
       "      <td>8.030873e+08</td>\n",
       "      <td>3.824927e+10</td>\n",
       "      <td>2.939893e+09</td>\n",
       "      <td>0.394</td>\n",
       "      <td>0.557</td>\n",
       "      <td>6.0</td>\n",
       "      <td>6.0</td>\n",
       "      <td>NF</td>\n",
       "      <td>6.0</td>\n",
       "      <td>...</td>\n",
       "      <td>26941779</td>\n",
       "      <td>3843.198241</td>\n",
       "      <td>23.381930</td>\n",
       "      <td>40.676</td>\n",
       "      <td>-1.0</td>\n",
       "      <td>0.163</td>\n",
       "      <td>29.808251</td>\n",
       "      <td>1419.701152</td>\n",
       "      <td>109.120217</td>\n",
       "      <td>1</td>\n",
       "    </tr>\n",
       "    <tr>\n",
       "      <th>2</th>\n",
       "      <td>Benin</td>\n",
       "      <td>1.107820e+09</td>\n",
       "      <td>1.212040e+09</td>\n",
       "      <td>1.785451e+09</td>\n",
       "      <td>0.398</td>\n",
       "      <td>0.505</td>\n",
       "      <td>2.0</td>\n",
       "      <td>2.0</td>\n",
       "      <td>F</td>\n",
       "      <td>2.0</td>\n",
       "      <td>...</td>\n",
       "      <td>10286842</td>\n",
       "      <td>834.443596</td>\n",
       "      <td>4.872945</td>\n",
       "      <td>30.452</td>\n",
       "      <td>0.0</td>\n",
       "      <td>0.107</td>\n",
       "      <td>107.692898</td>\n",
       "      <td>117.824339</td>\n",
       "      <td>173.566471</td>\n",
       "      <td>0</td>\n",
       "    </tr>\n",
       "    <tr>\n",
       "      <th>3</th>\n",
       "      <td>Botswana</td>\n",
       "      <td>3.858719e+08</td>\n",
       "      <td>2.585561e+09</td>\n",
       "      <td>2.141447e+09</td>\n",
       "      <td>0.578</td>\n",
       "      <td>0.709</td>\n",
       "      <td>2.0</td>\n",
       "      <td>2.0</td>\n",
       "      <td>F</td>\n",
       "      <td>3.0</td>\n",
       "      <td>...</td>\n",
       "      <td>2088614</td>\n",
       "      <td>7864.253281</td>\n",
       "      <td>2.516289</td>\n",
       "      <td>17.346</td>\n",
       "      <td>1.0</td>\n",
       "      <td>0.131</td>\n",
       "      <td>184.750231</td>\n",
       "      <td>1237.931268</td>\n",
       "      <td>1025.295634</td>\n",
       "      <td>1</td>\n",
       "    </tr>\n",
       "    <tr>\n",
       "      <th>4</th>\n",
       "      <td>Burkina Faso</td>\n",
       "      <td>2.858288e+09</td>\n",
       "      <td>0.000000e+00</td>\n",
       "      <td>2.048434e+09</td>\n",
       "      <td>0.286</td>\n",
       "      <td>0.405</td>\n",
       "      <td>4.0</td>\n",
       "      <td>4.0</td>\n",
       "      <td>PF</td>\n",
       "      <td>6.0</td>\n",
       "      <td>...</td>\n",
       "      <td>17586017</td>\n",
       "      <td>639.708096</td>\n",
       "      <td>16.981603</td>\n",
       "      <td>30.387</td>\n",
       "      <td>1.0</td>\n",
       "      <td>0.119</td>\n",
       "      <td>162.531851</td>\n",
       "      <td>0.000000</td>\n",
       "      <td>116.480855</td>\n",
       "      <td>0</td>\n",
       "    </tr>\n",
       "  </tbody>\n",
       "</table>\n",
       "<p>5 rows × 23 columns</p>\n",
       "</div>"
      ],
      "text/plain": [
       "        country  world_bank_totals  chinese_aid_totals     usaid_aid  hdi_00  \\\n",
       "0       Algeria       4.380505e+08        5.674971e+08  2.476621e+08   0.646   \n",
       "1        Angola       8.030873e+08        3.824927e+10  2.939893e+09   0.394   \n",
       "2         Benin       1.107820e+09        1.212040e+09  1.785451e+09   0.398   \n",
       "3      Botswana       3.858719e+08        2.585561e+09  2.141447e+09   0.578   \n",
       "4  Burkina Faso       2.858288e+09        0.000000e+00  2.048434e+09   0.286   \n",
       "\n",
       "   hdi_14  pr_score00  cl_score00 fh_status00  pr_score14  ...  population  \\\n",
       "0   0.749         6.0         5.0          NF         6.0  ...    38923687   \n",
       "1   0.557         6.0         6.0          NF         6.0  ...    26941779   \n",
       "2   0.505         2.0         2.0           F         2.0  ...    10286842   \n",
       "3   0.709         2.0         2.0           F         3.0  ...     2088614   \n",
       "4   0.405         4.0         4.0          PF         6.0  ...    17586017   \n",
       "\n",
       "   gdp_per_cap  resource_rents  debt_to_gdp  fh_change  hdi_change  \\\n",
       "0  4702.091700       24.602722        7.673        0.0       0.103   \n",
       "1  3843.198241       23.381930       40.676       -1.0       0.163   \n",
       "2   834.443596        4.872945       30.452        0.0       0.107   \n",
       "3  7864.253281        2.516289       17.346        1.0       0.131   \n",
       "4   639.708096       16.981603       30.387        1.0       0.119   \n",
       "\n",
       "   world_bank_pc  chinese_aid_pc     usaid_pc  chinese_aid_total_max  \n",
       "0      11.254086       14.579737     6.362761                      1  \n",
       "1      29.808251     1419.701152   109.120217                      1  \n",
       "2     107.692898      117.824339   173.566471                      0  \n",
       "3     184.750231     1237.931268  1025.295634                      1  \n",
       "4     162.531851        0.000000   116.480855                      0  \n",
       "\n",
       "[5 rows x 23 columns]"
      ]
     },
     "execution_count": 1159,
     "metadata": {},
     "output_type": "execute_result"
    }
   ],
   "source": [
    "# Looking at my new data frame \n",
    "aid.head()"
   ]
  },
  {
   "cell_type": "code",
   "execution_count": 1160,
   "metadata": {},
   "outputs": [
    {
     "data": {
      "text/plain": [
       "<matplotlib.axes._subplots.AxesSubplot at 0x127277a90>"
      ]
     },
     "execution_count": 1160,
     "metadata": {},
     "output_type": "execute_result"
    },
    {
     "data": {
      "image/png": "[encoded data removed]",
      "text/plain": [
       "<Figure size 1080x1080 with 2 Axes>"
      ]
     },
     "metadata": {
      "needs_background": "light"
     },
     "output_type": "display_data"
    }
   ],
   "source": [
    "# Showing the correlations between my variables \n",
    "plt.figure(figsize=(15, 15))\n",
    "sns.heatmap(aid.corr(), \n",
    "            cmap='coolwarm', \n",
    "            annot=True)"
   ]
  },
  {
   "cell_type": "code",
   "execution_count": 1161,
   "metadata": {},
   "outputs": [],
   "source": [
    "# Saving my data to a csv \n",
    "aid.to_csv('./aid_data/combined_data/aid_sums.csv', index=False)"
   ]
  },
  {
   "cell_type": "code",
   "execution_count": 1162,
   "metadata": {},
   "outputs": [
    {
     "data": {
      "text/plain": [
       "count       68.000000\n",
       "mean       545.103600\n",
       "std       1839.623801\n",
       "min          0.000000\n",
       "25%          9.684611\n",
       "50%        104.863994\n",
       "75%        334.653395\n",
       "max      14666.984385\n",
       "Name: chinese_aid_pc, dtype: float64"
      ]
     },
     "execution_count": 1162,
     "metadata": {},
     "output_type": "execute_result"
    }
   ],
   "source": [
    "# Seeing the distribution of the per capita Chinese aid \n",
    "aid['chinese_aid_pc'].describe()"
   ]
  },
  {
   "cell_type": "code",
   "execution_count": 1163,
   "metadata": {},
   "outputs": [
    {
     "data": {
      "text/plain": [
       "count     68.000000\n",
       "mean     103.382142\n",
       "std      102.043905\n",
       "min        0.000000\n",
       "25%       18.535016\n",
       "50%       92.715803\n",
       "75%      148.667594\n",
       "max      539.140106\n",
       "Name: world_bank_pc, dtype: float64"
      ]
     },
     "execution_count": 1163,
     "metadata": {},
     "output_type": "execute_result"
    }
   ],
   "source": [
    "# Seeing the distribution of the per capita World Bank aid \n",
    "aid['world_bank_pc'].describe()"
   ]
  },
  {
   "cell_type": "code",
   "execution_count": 1164,
   "metadata": {},
   "outputs": [
    {
     "data": {
      "text/plain": [
       "count       68.000000\n",
       "mean       570.189345\n",
       "std       1617.149385\n",
       "min          0.677383\n",
       "25%         87.053138\n",
       "50%        182.222218\n",
       "75%        407.586423\n",
       "max      12421.839080\n",
       "Name: usaid_pc, dtype: float64"
      ]
     },
     "execution_count": 1164,
     "metadata": {},
     "output_type": "execute_result"
    }
   ],
   "source": [
    "# Seeing the distribution of the per capita US aid \n",
    "aid['usaid_pc'].describe()"
   ]
  },
  {
   "cell_type": "code",
   "execution_count": null,
   "metadata": {},
   "outputs": [],
   "source": []
  }
 ],
 "metadata": {
  "kernelspec": {
   "display_name": "Python 3",
   "language": "python",
   "name": "python3"
  },
  "language_info": {
   "codemirror_mode": {
    "name": "ipython",
    "version": 3
   },
   "file_extension": ".py",
   "mimetype": "text/x-python",
   "name": "python",
   "nbconvert_exporter": "python",
   "pygments_lexer": "ipython3",
   "version": "3.7.6"
  }
 },
 "nbformat": 4,
 "nbformat_minor": 4
}
